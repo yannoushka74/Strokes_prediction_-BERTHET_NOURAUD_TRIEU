{
 "cells": [
  {
   "cell_type": "markdown",
   "id": "6a166d67-b39f-4d85-a701-a89c6b02e432",
   "metadata": {},
   "source": [
    "# 0. Librairies utilisées"
   ]
  },
  {
   "cell_type": "code",
   "execution_count": 1,
   "id": "486d97ae-cd60-4b56-8b49-00042454f8ec",
   "metadata": {
    "tags": []
   },
   "outputs": [],
   "source": [
    "# pip install dython redémarrer jupyter après\n",
    "from dython.nominal import associations, identify_nominal_columns\n",
    "\n",
    "from imblearn.metrics import classification_report_imbalanced\n",
    "# Oversampling\n",
    "from imblearn.over_sampling import RandomOverSampler\n",
    "\n",
    "import matplotlib.pyplot as plt\n",
    "import numpy as np\n",
    "import pandas as pd\n",
    "from pandas.plotting import scatter_matrix\n",
    "from scipy.stats import pearsonr, chi2_contingency\n",
    "from sklearn.decomposition import PCA\n",
    "from sklearn.linear_model import LogisticRegression\n",
    "from sklearn.metrics import accuracy_score, balanced_accuracy_score, confusion_matrix\n",
    "from sklearn.model_selection import train_test_split\n",
    "from sklearn.preprocessing import StandardScaler\n",
    "from sklearn.pipeline import make_pipeline\n",
    "from sklearn.svm import SVC\n",
    "import statsmodels.api\n",
    "\n",
    "\n",
    "%matplotlib inline"
   ]
  },
  {
   "cell_type": "markdown",
   "id": "30eb582c-5afe-4b73-bdeb-2a4737c86d11",
   "metadata": {},
   "source": [
    "# Sommaire\n",
    "\n",
    "- ### [1. Exploration des données](#1)\n",
    "- ### [2. Nettoyage des données](#2)\n",
    "- ### [3. Analyse descriptive](#3)\n",
    "- ### [3.1. Liaisons entre les variables](#3.1)\n",
    "- ### [3.2. Analyse des liaisons entre les variables catégorielles](#3.2)\n",
    "- ### [3.3. Liaison entre variables quantitatives et qualitatives](#3.3)\n",
    "- ### [4. Implémentation des algorithmes de ML](#4)\n"
   ]
  },
  {
   "cell_type": "markdown",
   "id": "fcb6461a",
   "metadata": {},
   "source": [
    "<a class=\"anchor\" name=\"1\"></a>\n",
    "# 1. Exploration des données"
   ]
  },
  {
   "cell_type": "code",
   "execution_count": 2,
   "id": "c76e1971-737f-4ef7-a1f3-8584850c0f0e",
   "metadata": {
    "tags": []
   },
   "outputs": [
    {
     "data": {
      "text/html": [
       "<div>\n",
       "<style scoped>\n",
       "    .dataframe tbody tr th:only-of-type {\n",
       "        vertical-align: middle;\n",
       "    }\n",
       "\n",
       "    .dataframe tbody tr th {\n",
       "        vertical-align: top;\n",
       "    }\n",
       "\n",
       "    .dataframe thead th {\n",
       "        text-align: right;\n",
       "    }\n",
       "</style>\n",
       "<table border=\"1\" class=\"dataframe\">\n",
       "  <thead>\n",
       "    <tr style=\"text-align: right;\">\n",
       "      <th></th>\n",
       "      <th>gender</th>\n",
       "      <th>age</th>\n",
       "      <th>hypertension</th>\n",
       "      <th>heart_disease</th>\n",
       "      <th>ever_married</th>\n",
       "      <th>work_type</th>\n",
       "      <th>Residence_type</th>\n",
       "      <th>avg_glucose_level</th>\n",
       "      <th>bmi</th>\n",
       "      <th>smoking_status</th>\n",
       "      <th>stroke</th>\n",
       "    </tr>\n",
       "    <tr>\n",
       "      <th>id</th>\n",
       "      <th></th>\n",
       "      <th></th>\n",
       "      <th></th>\n",
       "      <th></th>\n",
       "      <th></th>\n",
       "      <th></th>\n",
       "      <th></th>\n",
       "      <th></th>\n",
       "      <th></th>\n",
       "      <th></th>\n",
       "      <th></th>\n",
       "    </tr>\n",
       "  </thead>\n",
       "  <tbody>\n",
       "    <tr>\n",
       "      <th>9046</th>\n",
       "      <td>Male</td>\n",
       "      <td>67.0</td>\n",
       "      <td>0</td>\n",
       "      <td>1</td>\n",
       "      <td>Yes</td>\n",
       "      <td>Private</td>\n",
       "      <td>Urban</td>\n",
       "      <td>228.69</td>\n",
       "      <td>36.6</td>\n",
       "      <td>formerly smoked</td>\n",
       "      <td>1</td>\n",
       "    </tr>\n",
       "    <tr>\n",
       "      <th>51676</th>\n",
       "      <td>Female</td>\n",
       "      <td>61.0</td>\n",
       "      <td>0</td>\n",
       "      <td>0</td>\n",
       "      <td>Yes</td>\n",
       "      <td>Self-employed</td>\n",
       "      <td>Rural</td>\n",
       "      <td>202.21</td>\n",
       "      <td>NaN</td>\n",
       "      <td>never smoked</td>\n",
       "      <td>1</td>\n",
       "    </tr>\n",
       "    <tr>\n",
       "      <th>31112</th>\n",
       "      <td>Male</td>\n",
       "      <td>80.0</td>\n",
       "      <td>0</td>\n",
       "      <td>1</td>\n",
       "      <td>Yes</td>\n",
       "      <td>Private</td>\n",
       "      <td>Rural</td>\n",
       "      <td>105.92</td>\n",
       "      <td>32.5</td>\n",
       "      <td>never smoked</td>\n",
       "      <td>1</td>\n",
       "    </tr>\n",
       "    <tr>\n",
       "      <th>60182</th>\n",
       "      <td>Female</td>\n",
       "      <td>49.0</td>\n",
       "      <td>0</td>\n",
       "      <td>0</td>\n",
       "      <td>Yes</td>\n",
       "      <td>Private</td>\n",
       "      <td>Urban</td>\n",
       "      <td>171.23</td>\n",
       "      <td>34.4</td>\n",
       "      <td>smokes</td>\n",
       "      <td>1</td>\n",
       "    </tr>\n",
       "    <tr>\n",
       "      <th>1665</th>\n",
       "      <td>Female</td>\n",
       "      <td>79.0</td>\n",
       "      <td>1</td>\n",
       "      <td>0</td>\n",
       "      <td>Yes</td>\n",
       "      <td>Self-employed</td>\n",
       "      <td>Rural</td>\n",
       "      <td>174.12</td>\n",
       "      <td>24.0</td>\n",
       "      <td>never smoked</td>\n",
       "      <td>1</td>\n",
       "    </tr>\n",
       "  </tbody>\n",
       "</table>\n",
       "</div>"
      ],
      "text/plain": [
       "       gender   age  hypertension  heart_disease ever_married      work_type  \\\n",
       "id                                                                             \n",
       "9046     Male  67.0             0              1          Yes        Private   \n",
       "51676  Female  61.0             0              0          Yes  Self-employed   \n",
       "31112    Male  80.0             0              1          Yes        Private   \n",
       "60182  Female  49.0             0              0          Yes        Private   \n",
       "1665   Female  79.0             1              0          Yes  Self-employed   \n",
       "\n",
       "      Residence_type  avg_glucose_level   bmi   smoking_status  stroke  \n",
       "id                                                                      \n",
       "9046           Urban             228.69  36.6  formerly smoked       1  \n",
       "51676          Rural             202.21   NaN     never smoked       1  \n",
       "31112          Rural             105.92  32.5     never smoked       1  \n",
       "60182          Urban             171.23  34.4           smokes       1  \n",
       "1665           Rural             174.12  24.0     never smoked       1  "
      ]
     },
     "execution_count": 2,
     "metadata": {},
     "output_type": "execute_result"
    }
   ],
   "source": [
    "df = pd.read_csv(\"strokes.csv\", index_col=\"id\")\n",
    "df.head()"
   ]
  },
  {
   "cell_type": "code",
   "execution_count": 3,
   "id": "be2e7c7a",
   "metadata": {
    "tags": []
   },
   "outputs": [
    {
     "name": "stdout",
     "output_type": "stream",
     "text": [
      "- Nombre d'observations et de variables :  (5110, 11) \n",
      "\n",
      "- Variables explicatives/expliquée et type : \n",
      "<class 'pandas.core.frame.DataFrame'>\n",
      "Int64Index: 5110 entries, 9046 to 44679\n",
      "Data columns (total 11 columns):\n",
      " #   Column             Non-Null Count  Dtype  \n",
      "---  ------             --------------  -----  \n",
      " 0   gender             5110 non-null   object \n",
      " 1   age                5110 non-null   float64\n",
      " 2   hypertension       5110 non-null   int64  \n",
      " 3   heart_disease      5110 non-null   int64  \n",
      " 4   ever_married       5110 non-null   object \n",
      " 5   work_type          5110 non-null   object \n",
      " 6   Residence_type     5110 non-null   object \n",
      " 7   avg_glucose_level  5110 non-null   float64\n",
      " 8   bmi                4909 non-null   float64\n",
      " 9   smoking_status     5110 non-null   object \n",
      " 10  stroke             5110 non-null   int64  \n",
      "dtypes: float64(3), int64(3), object(5)\n",
      "memory usage: 479.1+ KB\n"
     ]
    }
   ],
   "source": [
    "print(\"- Nombre d'observations et de variables : \", df.shape,'\\n')\n",
    "print(\"- Variables explicatives/expliquée et type : \")\n",
    "df.info()"
   ]
  },
  {
   "cell_type": "markdown",
   "id": "996f0584",
   "metadata": {},
   "source": [
    "<div class= \"alert alert-info\">\n",
    "    - C'est un jeu de données avec un nombre d'observations assez bas : 5110\n",
    "</div>"
   ]
  },
  {
   "cell_type": "code",
   "execution_count": 4,
   "id": "85a17f75",
   "metadata": {
    "tags": []
   },
   "outputs": [
    {
     "name": "stdout",
     "output_type": "stream",
     "text": [
      "- Statistiques sur la variable 'age' :\n",
      " count    5110.000000\n",
      "mean       43.226614\n",
      "std        22.612647\n",
      "min         0.080000\n",
      "25%        25.000000\n",
      "50%        45.000000\n",
      "75%        61.000000\n",
      "max        82.000000\n",
      "Name: age, dtype: float64 \n",
      "\n",
      "Ages entre 0 et 2 ans :\n",
      "         age  stroke\n",
      "id                 \n",
      "69768  1.32       1\n",
      "7559   0.64       0\n",
      "22706  0.88       0\n",
      "45238  1.80       0\n",
      "61511  0.32       0\n",
      "...     ...     ...\n",
      "32147  1.32       0\n",
      "67426  1.24       0\n",
      "42709  1.72       0\n",
      "56714  0.72       0\n",
      "68598  1.08       0\n",
      "\n",
      "[115 rows x 2 columns]\n"
     ]
    },
    {
     "data": {
      "text/html": [
       "<div>\n",
       "<style scoped>\n",
       "    .dataframe tbody tr th:only-of-type {\n",
       "        vertical-align: middle;\n",
       "    }\n",
       "\n",
       "    .dataframe tbody tr th {\n",
       "        vertical-align: top;\n",
       "    }\n",
       "\n",
       "    .dataframe thead th {\n",
       "        text-align: right;\n",
       "    }\n",
       "</style>\n",
       "<table border=\"1\" class=\"dataframe\">\n",
       "  <thead>\n",
       "    <tr style=\"text-align: right;\">\n",
       "      <th></th>\n",
       "      <th></th>\n",
       "      <th>stroke</th>\n",
       "    </tr>\n",
       "    <tr>\n",
       "      <th>age_classes</th>\n",
       "      <th>stroke</th>\n",
       "      <th></th>\n",
       "    </tr>\n",
       "  </thead>\n",
       "  <tbody>\n",
       "    <tr>\n",
       "      <th rowspan=\"2\" valign=\"top\">0</th>\n",
       "      <th>0</th>\n",
       "      <td>1291</td>\n",
       "    </tr>\n",
       "    <tr>\n",
       "      <th>1</th>\n",
       "      <td>2</td>\n",
       "    </tr>\n",
       "    <tr>\n",
       "      <th rowspan=\"2\" valign=\"top\">1</th>\n",
       "      <th>0</th>\n",
       "      <td>1314</td>\n",
       "    </tr>\n",
       "    <tr>\n",
       "      <th>1</th>\n",
       "      <td>11</td>\n",
       "    </tr>\n",
       "    <tr>\n",
       "      <th rowspan=\"2\" valign=\"top\">2</th>\n",
       "      <th>0</th>\n",
       "      <td>1199</td>\n",
       "    </tr>\n",
       "    <tr>\n",
       "      <th>1</th>\n",
       "      <td>65</td>\n",
       "    </tr>\n",
       "    <tr>\n",
       "      <th rowspan=\"2\" valign=\"top\">3</th>\n",
       "      <th>0</th>\n",
       "      <td>1057</td>\n",
       "    </tr>\n",
       "    <tr>\n",
       "      <th>1</th>\n",
       "      <td>171</td>\n",
       "    </tr>\n",
       "  </tbody>\n",
       "</table>\n",
       "</div>"
      ],
      "text/plain": [
       "                    stroke\n",
       "age_classes stroke        \n",
       "0           0         1291\n",
       "            1            2\n",
       "1           0         1314\n",
       "            1           11\n",
       "2           0         1199\n",
       "            1           65\n",
       "3           0         1057\n",
       "            1          171"
      ]
     },
     "execution_count": 4,
     "metadata": {},
     "output_type": "execute_result"
    }
   ],
   "source": [
    "# Variable Age\n",
    "\n",
    "print(\"- Statistiques sur la variable 'age' :\\n\", df['age'].describe(),'\\n')\n",
    "\n",
    "df.sort_values(by = 'age', ascending = True).head(500)\n",
    "print(\"Ages entre 0 et 2 ans :\\n\", df[(df.age%1 != 0.00) & (df.age<2)][['age', 'stroke']])\n",
    "# Entre 0 et 2 ans, les âges sont exprimés avec des nombres décimaux, voir par la suite si c'est à corriger ou pas\n",
    "# pour l'implémentation des algorithmes de ML. \n",
    "\n",
    "# Classes d'âge\n",
    "df_ca = df.copy()\n",
    "df_ca['age_classes'] = pd.qcut(df['age'], labels=[0, 1, 2, 3], q=4)\n",
    "\n",
    "# répartition des attaques selon la classe d'âge\n",
    "stroke_groupby = df_ca.groupby(['age_classes', 'stroke']).agg({'stroke' : 'count'})\n",
    "stroke_groupby\n"
   ]
  },
  {
   "cell_type": "markdown",
   "id": "5cfa0565",
   "metadata": {},
   "source": [
    "<div class= \"alert alert-info\">\n",
    "    - L'écart type, les quantiles et la moyenne nous montrent qu'il y a une répartition des âges homogène entre 0 et 82 ans.</br>\n",
    "    - Il y a de plus en plus de cas de crises cardiaques dans les classes d'âge des personnes les plus âgées, c'est logique.\n",
    "</div>"
   ]
  },
  {
   "cell_type": "code",
   "execution_count": 5,
   "id": "2777280d",
   "metadata": {
    "tags": []
   },
   "outputs": [
    {
     "name": "stdout",
     "output_type": "stream",
     "text": [
      "Gender :\n",
      " Female    0.585910\n",
      "Male      0.413894\n",
      "Other     0.000196\n",
      "Name: gender, dtype: float64 \n",
      "\n",
      "hypertension :\n",
      " 0    0.902544\n",
      "1    0.097456\n",
      "Name: hypertension, dtype: float64 \n",
      "\n",
      "work_type :\n",
      " Private          0.572407\n",
      "Self-employed    0.160274\n",
      "children         0.134442\n",
      "Govt_job         0.128571\n",
      "Never_worked     0.004305\n",
      "Name: work_type, dtype: float64 \n",
      "\n"
     ]
    }
   ],
   "source": [
    "print(\"Gender :\\n\", df['gender'].value_counts(normalize=True),'\\n')\n",
    "print(\"hypertension :\\n\", df['hypertension'].value_counts(normalize=True),'\\n')\n",
    "print(\"work_type :\\n\", df['work_type'].value_counts(normalize=True),'\\n')"
   ]
  },
  {
   "cell_type": "markdown",
   "id": "a80889fd",
   "metadata": {},
   "source": [
    "<div class= \"alert alert-info\">\n",
    "    - La proportion de femmes est légèrement plus importante.</br>\n",
    "    - Très peu de cas d'hypertension.</br>\n",
    "    - Une majorité de jobs privés.</br>   \n",
    "</div>"
   ]
  },
  {
   "cell_type": "code",
   "execution_count": 6,
   "id": "b9331b22",
   "metadata": {
    "tags": []
   },
   "outputs": [
    {
     "name": "stdout",
     "output_type": "stream",
     "text": [
      "0\n",
      "stroke :\n",
      " 0    0.951272\n",
      "1    0.048728\n",
      "Name: stroke, dtype: float64 \n",
      "\n"
     ]
    },
    {
     "data": {
      "text/plain": [
       "0    4861\n",
       "1     249\n",
       "Name: stroke, dtype: int64"
      ]
     },
     "execution_count": 6,
     "metadata": {},
     "output_type": "execute_result"
    }
   ],
   "source": [
    "#Stroke analyse\n",
    "\n",
    "print(df['stroke'].isna().sum())\n",
    "print(\"stroke :\\n\", df['stroke'].value_counts(normalize=True),'\\n')\n",
    "#aucune valeur vide\n",
    "\n",
    "df['stroke'].value_counts()\n",
    "#249 crise cardiaque décelé\n",
    "#4861 sans crise cardiaque\n"
   ]
  },
  {
   "cell_type": "markdown",
   "id": "0a4bae05",
   "metadata": {},
   "source": [
    "<div class= \"alert alert-info\">\n",
    "    - Très faible proportion d'observations avec la variable cible 'stroke' positive donc peu de cas de crise cardiaque, attention au déséquilibre des classes pour la variable cible. Comme le nombre d'observations est faible, nécessité de faire de <b>l'oversampling</b>.   \n",
    "</div>"
   ]
  },
  {
   "cell_type": "code",
   "execution_count": 7,
   "id": "f1dbb823",
   "metadata": {
    "tags": []
   },
   "outputs": [
    {
     "name": "stdout",
     "output_type": "stream",
     "text": [
      "0\n",
      "Residence_type :\n",
      " Urban    0.508023\n",
      "Rural    0.491977\n",
      "Name: Residence_type, dtype: float64 \n",
      "\n",
      "Urban    2596\n",
      "Rural    2514\n",
      "Name: Residence_type, dtype: int64\n"
     ]
    }
   ],
   "source": [
    "#Type de résidence\n",
    "print(df['Residence_type'].isna().sum())\n",
    "print(\"Residence_type :\\n\", df['Residence_type'].value_counts(normalize=True),'\\n')\n",
    "#aucune valeur vide\n",
    "\n",
    "df['Residence_type'].value_counts()\n",
    "\n",
    "print (df['Residence_type'].value_counts())\n",
    "\n",
    "#Urban    2596\n",
    "#Rural    2514"
   ]
  },
  {
   "cell_type": "code",
   "execution_count": 8,
   "id": "9066a14d",
   "metadata": {
    "tags": []
   },
   "outputs": [
    {
     "name": "stdout",
     "output_type": "stream",
     "text": [
      "0\n"
     ]
    },
    {
     "data": {
      "text/plain": [
       "count    5110.000000\n",
       "mean      106.147677\n",
       "std        45.283560\n",
       "min        55.120000\n",
       "25%        77.245000\n",
       "50%        91.885000\n",
       "75%       114.090000\n",
       "max       271.740000\n",
       "Name: avg_glucose_level, dtype: float64"
      ]
     },
     "execution_count": 8,
     "metadata": {},
     "output_type": "execute_result"
    }
   ],
   "source": [
    "#Taux de glucose\n",
    "print(df['avg_glucose_level'].isna().sum())\n",
    "#aucune valeur vide\n",
    "\n",
    "df['avg_glucose_level'].describe()\n",
    "\n",
    "#taux moyen de glucose 106.147677"
   ]
  },
  {
   "cell_type": "markdown",
   "id": "098d4e46",
   "metadata": {},
   "source": [
    "<a class=\"anchor\" name=\"2\"></a>\n",
    "# 2. Nettoyage des données"
   ]
  },
  {
   "cell_type": "code",
   "execution_count": 9,
   "id": "f415ab68-2538-403f-a4fb-5a154046571e",
   "metadata": {
    "tags": []
   },
   "outputs": [
    {
     "data": {
      "text/plain": [
       "0"
      ]
     },
     "execution_count": 9,
     "metadata": {},
     "output_type": "execute_result"
    }
   ],
   "source": [
    "df.index.duplicated().sum()"
   ]
  },
  {
   "cell_type": "markdown",
   "id": "a4429ecc",
   "metadata": {},
   "source": [
    "<div class= \"alert alert-info\">\n",
    "    Il n'y a pas de doublons au niveau de l'index : pas besoin de supprimer de doublons\n",
    "</div>"
   ]
  },
  {
   "cell_type": "code",
   "execution_count": 10,
   "id": "7511460e-9ad0-4d6d-997b-580529fe8f27",
   "metadata": {
    "tags": []
   },
   "outputs": [
    {
     "data": {
      "text/plain": [
       "gender                 0\n",
       "age                    0\n",
       "hypertension           0\n",
       "heart_disease          0\n",
       "ever_married           0\n",
       "work_type              0\n",
       "Residence_type         0\n",
       "avg_glucose_level      0\n",
       "bmi                  201\n",
       "smoking_status         0\n",
       "stroke                 0\n",
       "dtype: int64"
      ]
     },
     "execution_count": 10,
     "metadata": {},
     "output_type": "execute_result"
    }
   ],
   "source": [
    "df.isna().sum()"
   ]
  },
  {
   "cell_type": "markdown",
   "id": "0295e256",
   "metadata": {},
   "source": [
    "<div class= \"alert alert-info\">\n",
    "    Il y a des valeurs NaN dans la colonne bmi que l'on va remplacer par un mean\n",
    "</div>"
   ]
  },
  {
   "cell_type": "code",
   "execution_count": 11,
   "id": "801d4be0-f767-423e-ae6f-54da6ecaf60b",
   "metadata": {
    "tags": []
   },
   "outputs": [
    {
     "data": {
      "text/html": [
       "<div>\n",
       "<style scoped>\n",
       "    .dataframe tbody tr th:only-of-type {\n",
       "        vertical-align: middle;\n",
       "    }\n",
       "\n",
       "    .dataframe tbody tr th {\n",
       "        vertical-align: top;\n",
       "    }\n",
       "\n",
       "    .dataframe thead th {\n",
       "        text-align: right;\n",
       "    }\n",
       "</style>\n",
       "<table border=\"1\" class=\"dataframe\">\n",
       "  <thead>\n",
       "    <tr style=\"text-align: right;\">\n",
       "      <th></th>\n",
       "      <th>gender</th>\n",
       "      <th>age</th>\n",
       "      <th>hypertension</th>\n",
       "      <th>heart_disease</th>\n",
       "      <th>ever_married</th>\n",
       "      <th>work_type</th>\n",
       "      <th>Residence_type</th>\n",
       "      <th>avg_glucose_level</th>\n",
       "      <th>bmi</th>\n",
       "      <th>smoking_status</th>\n",
       "      <th>stroke</th>\n",
       "    </tr>\n",
       "    <tr>\n",
       "      <th>id</th>\n",
       "      <th></th>\n",
       "      <th></th>\n",
       "      <th></th>\n",
       "      <th></th>\n",
       "      <th></th>\n",
       "      <th></th>\n",
       "      <th></th>\n",
       "      <th></th>\n",
       "      <th></th>\n",
       "      <th></th>\n",
       "      <th></th>\n",
       "    </tr>\n",
       "  </thead>\n",
       "  <tbody>\n",
       "    <tr>\n",
       "      <th>9046</th>\n",
       "      <td>Male</td>\n",
       "      <td>67.0</td>\n",
       "      <td>0</td>\n",
       "      <td>1</td>\n",
       "      <td>Yes</td>\n",
       "      <td>Private</td>\n",
       "      <td>Urban</td>\n",
       "      <td>228.69</td>\n",
       "      <td>36.600000</td>\n",
       "      <td>formerly smoked</td>\n",
       "      <td>1</td>\n",
       "    </tr>\n",
       "    <tr>\n",
       "      <th>51676</th>\n",
       "      <td>Female</td>\n",
       "      <td>61.0</td>\n",
       "      <td>0</td>\n",
       "      <td>0</td>\n",
       "      <td>Yes</td>\n",
       "      <td>Self-employed</td>\n",
       "      <td>Rural</td>\n",
       "      <td>202.21</td>\n",
       "      <td>28.893237</td>\n",
       "      <td>never smoked</td>\n",
       "      <td>1</td>\n",
       "    </tr>\n",
       "    <tr>\n",
       "      <th>31112</th>\n",
       "      <td>Male</td>\n",
       "      <td>80.0</td>\n",
       "      <td>0</td>\n",
       "      <td>1</td>\n",
       "      <td>Yes</td>\n",
       "      <td>Private</td>\n",
       "      <td>Rural</td>\n",
       "      <td>105.92</td>\n",
       "      <td>32.500000</td>\n",
       "      <td>never smoked</td>\n",
       "      <td>1</td>\n",
       "    </tr>\n",
       "    <tr>\n",
       "      <th>60182</th>\n",
       "      <td>Female</td>\n",
       "      <td>49.0</td>\n",
       "      <td>0</td>\n",
       "      <td>0</td>\n",
       "      <td>Yes</td>\n",
       "      <td>Private</td>\n",
       "      <td>Urban</td>\n",
       "      <td>171.23</td>\n",
       "      <td>34.400000</td>\n",
       "      <td>smokes</td>\n",
       "      <td>1</td>\n",
       "    </tr>\n",
       "    <tr>\n",
       "      <th>1665</th>\n",
       "      <td>Female</td>\n",
       "      <td>79.0</td>\n",
       "      <td>1</td>\n",
       "      <td>0</td>\n",
       "      <td>Yes</td>\n",
       "      <td>Self-employed</td>\n",
       "      <td>Rural</td>\n",
       "      <td>174.12</td>\n",
       "      <td>24.000000</td>\n",
       "      <td>never smoked</td>\n",
       "      <td>1</td>\n",
       "    </tr>\n",
       "  </tbody>\n",
       "</table>\n",
       "</div>"
      ],
      "text/plain": [
       "       gender   age  hypertension  heart_disease ever_married      work_type  \\\n",
       "id                                                                             \n",
       "9046     Male  67.0             0              1          Yes        Private   \n",
       "51676  Female  61.0             0              0          Yes  Self-employed   \n",
       "31112    Male  80.0             0              1          Yes        Private   \n",
       "60182  Female  49.0             0              0          Yes        Private   \n",
       "1665   Female  79.0             1              0          Yes  Self-employed   \n",
       "\n",
       "      Residence_type  avg_glucose_level        bmi   smoking_status  stroke  \n",
       "id                                                                           \n",
       "9046           Urban             228.69  36.600000  formerly smoked       1  \n",
       "51676          Rural             202.21  28.893237     never smoked       1  \n",
       "31112          Rural             105.92  32.500000     never smoked       1  \n",
       "60182          Urban             171.23  34.400000           smokes       1  \n",
       "1665           Rural             174.12  24.000000     never smoked       1  "
      ]
     },
     "execution_count": 11,
     "metadata": {},
     "output_type": "execute_result"
    }
   ],
   "source": [
    "#On remplace les valeurs NA par le mean de la colonne bmi\n",
    "df_new = df.copy()\n",
    "\n",
    "df_new.loc[:, (\"bmi\")] = df[\"bmi\"].fillna(df[\"bmi\"].mean())\n",
    "\n",
    "#On remplace également les valeurs Unknown par le mode de la colonne\n",
    "df_new = df_new.replace(\"Unknown\", np.NaN)\n",
    "df_new[\"smoking_status\"] = df_new[\"smoking_status\"].fillna(df_new[\"smoking_status\"].mode()[0])\n",
    "df_new.head()"
   ]
  },
  {
   "cell_type": "code",
   "execution_count": 12,
   "id": "53cc9ff9-dbbc-421d-a147-697437d2d8bf",
   "metadata": {
    "tags": []
   },
   "outputs": [
    {
     "data": {
      "text/plain": [
       "count    5110.000000\n",
       "mean       28.893237\n",
       "std         7.698018\n",
       "min        10.300000\n",
       "25%        23.800000\n",
       "50%        28.400000\n",
       "75%        32.800000\n",
       "max        97.600000\n",
       "Name: bmi, dtype: float64"
      ]
     },
     "execution_count": 12,
     "metadata": {},
     "output_type": "execute_result"
    }
   ],
   "source": [
    "df_new[\"bmi\"].describe()"
   ]
  },
  {
   "cell_type": "markdown",
   "id": "fd46b9fa",
   "metadata": {},
   "source": [
    "<a class=\"anchor\" name=\"3\"></a>\n",
    "# 3. Analyse descriptive"
   ]
  },
  {
   "cell_type": "code",
   "execution_count": 13,
   "id": "ac4fbfd9-46ef-4bb8-8198-898a8cd94120",
   "metadata": {
    "tags": []
   },
   "outputs": [
    {
     "data": {
      "text/html": [
       "<div>\n",
       "<style scoped>\n",
       "    .dataframe tbody tr th:only-of-type {\n",
       "        vertical-align: middle;\n",
       "    }\n",
       "\n",
       "    .dataframe tbody tr th {\n",
       "        vertical-align: top;\n",
       "    }\n",
       "\n",
       "    .dataframe thead th {\n",
       "        text-align: right;\n",
       "    }\n",
       "</style>\n",
       "<table border=\"1\" class=\"dataframe\">\n",
       "  <thead>\n",
       "    <tr style=\"text-align: right;\">\n",
       "      <th>stroke</th>\n",
       "      <th>0</th>\n",
       "      <th>1</th>\n",
       "    </tr>\n",
       "    <tr>\n",
       "      <th>ever_married</th>\n",
       "      <th></th>\n",
       "      <th></th>\n",
       "    </tr>\n",
       "  </thead>\n",
       "  <tbody>\n",
       "    <tr>\n",
       "      <th>No</th>\n",
       "      <td>1728</td>\n",
       "      <td>29</td>\n",
       "    </tr>\n",
       "    <tr>\n",
       "      <th>Yes</th>\n",
       "      <td>3133</td>\n",
       "      <td>220</td>\n",
       "    </tr>\n",
       "  </tbody>\n",
       "</table>\n",
       "</div>"
      ],
      "text/plain": [
       "stroke           0    1\n",
       "ever_married           \n",
       "No            1728   29\n",
       "Yes           3133  220"
      ]
     },
     "execution_count": 13,
     "metadata": {},
     "output_type": "execute_result"
    }
   ],
   "source": [
    "#Est-ce que le fait d'être marié peut avoir un impact sur la crise cardiaque ?\n",
    "pd.crosstab(df_new[\"ever_married\"], df_new[\"stroke\"])"
   ]
  },
  {
   "cell_type": "code",
   "execution_count": 14,
   "id": "4a42ba8c-8f99-45d6-b46c-359293667e67",
   "metadata": {
    "tags": []
   },
   "outputs": [
    {
     "data": {
      "text/html": [
       "<div>\n",
       "<style scoped>\n",
       "    .dataframe tbody tr th:only-of-type {\n",
       "        vertical-align: middle;\n",
       "    }\n",
       "\n",
       "    .dataframe tbody tr th {\n",
       "        vertical-align: top;\n",
       "    }\n",
       "\n",
       "    .dataframe thead th {\n",
       "        text-align: right;\n",
       "    }\n",
       "</style>\n",
       "<table border=\"1\" class=\"dataframe\">\n",
       "  <thead>\n",
       "    <tr style=\"text-align: right;\">\n",
       "      <th>stroke</th>\n",
       "      <th>0</th>\n",
       "      <th>1</th>\n",
       "    </tr>\n",
       "    <tr>\n",
       "      <th>ever_married</th>\n",
       "      <th></th>\n",
       "      <th></th>\n",
       "    </tr>\n",
       "  </thead>\n",
       "  <tbody>\n",
       "    <tr>\n",
       "      <th>No</th>\n",
       "      <td>98.35</td>\n",
       "      <td>1.65</td>\n",
       "    </tr>\n",
       "    <tr>\n",
       "      <th>Yes</th>\n",
       "      <td>93.44</td>\n",
       "      <td>6.56</td>\n",
       "    </tr>\n",
       "  </tbody>\n",
       "</table>\n",
       "</div>"
      ],
      "text/plain": [
       "stroke            0     1\n",
       "ever_married             \n",
       "No            98.35  1.65\n",
       "Yes           93.44  6.56"
      ]
     },
     "execution_count": 14,
     "metadata": {},
     "output_type": "execute_result"
    }
   ],
   "source": [
    "#La même répartition en %\n",
    "round(pd.crosstab(df_new[\"ever_married\"], df_new[\"stroke\"], normalize=\"index\")*100,2)"
   ]
  },
  {
   "cell_type": "code",
   "execution_count": 15,
   "id": "1b3a8a31-9907-4a2b-b38c-3fe4820ebf69",
   "metadata": {
    "tags": []
   },
   "outputs": [
    {
     "data": {
      "text/html": [
       "<div>\n",
       "<style scoped>\n",
       "    .dataframe tbody tr th:only-of-type {\n",
       "        vertical-align: middle;\n",
       "    }\n",
       "\n",
       "    .dataframe tbody tr th {\n",
       "        vertical-align: top;\n",
       "    }\n",
       "\n",
       "    .dataframe thead th {\n",
       "        text-align: right;\n",
       "    }\n",
       "</style>\n",
       "<table border=\"1\" class=\"dataframe\">\n",
       "  <thead>\n",
       "    <tr style=\"text-align: right;\">\n",
       "      <th>stroke</th>\n",
       "      <th>0</th>\n",
       "      <th>1</th>\n",
       "    </tr>\n",
       "    <tr>\n",
       "      <th>smoking_status</th>\n",
       "      <th></th>\n",
       "      <th></th>\n",
       "    </tr>\n",
       "  </thead>\n",
       "  <tbody>\n",
       "    <tr>\n",
       "      <th>formerly smoked</th>\n",
       "      <td>92.09</td>\n",
       "      <td>7.91</td>\n",
       "    </tr>\n",
       "    <tr>\n",
       "      <th>never smoked</th>\n",
       "      <td>96.01</td>\n",
       "      <td>3.99</td>\n",
       "    </tr>\n",
       "    <tr>\n",
       "      <th>smokes</th>\n",
       "      <td>94.68</td>\n",
       "      <td>5.32</td>\n",
       "    </tr>\n",
       "  </tbody>\n",
       "</table>\n",
       "</div>"
      ],
      "text/plain": [
       "stroke               0     1\n",
       "smoking_status              \n",
       "formerly smoked  92.09  7.91\n",
       "never smoked     96.01  3.99\n",
       "smokes           94.68  5.32"
      ]
     },
     "execution_count": 15,
     "metadata": {},
     "output_type": "execute_result"
    }
   ],
   "source": [
    "#Est-ce que le fait d'être fumeur peut avoir un impact sur la crise cardiaque ?\n",
    "round(pd.crosstab(df_new[\"smoking_status\"], df_new[\"stroke\"],normalize=\"index\")*100, 2)\n",
    "\n",
    "#On constate un écart non significatif entre les fumeurs et les non fumeurs sur le risque de crise cardiaque."
   ]
  },
  {
   "cell_type": "code",
   "execution_count": 16,
   "id": "c0ab47c0-07c1-4e62-9f1d-9f160e6a037a",
   "metadata": {
    "tags": []
   },
   "outputs": [
    {
     "data": {
      "text/html": [
       "<div>\n",
       "<style scoped>\n",
       "    .dataframe tbody tr th:only-of-type {\n",
       "        vertical-align: middle;\n",
       "    }\n",
       "\n",
       "    .dataframe tbody tr th {\n",
       "        vertical-align: top;\n",
       "    }\n",
       "\n",
       "    .dataframe thead th {\n",
       "        text-align: right;\n",
       "    }\n",
       "</style>\n",
       "<table border=\"1\" class=\"dataframe\">\n",
       "  <thead>\n",
       "    <tr style=\"text-align: right;\">\n",
       "      <th>stroke</th>\n",
       "      <th>0</th>\n",
       "      <th>1</th>\n",
       "    </tr>\n",
       "    <tr>\n",
       "      <th>bmi_classes</th>\n",
       "      <th></th>\n",
       "      <th></th>\n",
       "    </tr>\n",
       "  </thead>\n",
       "  <tbody>\n",
       "    <tr>\n",
       "      <th>0</th>\n",
       "      <td>98.15</td>\n",
       "      <td>1.85</td>\n",
       "    </tr>\n",
       "    <tr>\n",
       "      <th>1</th>\n",
       "      <td>94.77</td>\n",
       "      <td>5.23</td>\n",
       "    </tr>\n",
       "    <tr>\n",
       "      <th>2</th>\n",
       "      <td>92.21</td>\n",
       "      <td>7.79</td>\n",
       "    </tr>\n",
       "    <tr>\n",
       "      <th>3</th>\n",
       "      <td>95.33</td>\n",
       "      <td>4.67</td>\n",
       "    </tr>\n",
       "  </tbody>\n",
       "</table>\n",
       "</div>"
      ],
      "text/plain": [
       "stroke           0     1\n",
       "bmi_classes             \n",
       "0            98.15  1.85\n",
       "1            94.77  5.23\n",
       "2            92.21  7.79\n",
       "3            95.33  4.67"
      ]
     },
     "execution_count": 16,
     "metadata": {},
     "output_type": "execute_result"
    }
   ],
   "source": [
    "#Est-ce que le bmi peut avoir un impact sur la crise cardiaque ?\n",
    "\n",
    "df_bm1c = df_new.copy()\n",
    "df_bm1c[\"bmi_classes\"] = pd.qcut(df_new[\"bmi\"], labels=[0,1,2,3], q=4)\n",
    "round(pd.crosstab(df_bm1c[\"bmi_classes\"], df_bm1c[\"stroke\"],normalize=\"index\")*100, 2)"
   ]
  },
  {
   "cell_type": "code",
   "execution_count": 17,
   "id": "b7d7f106-0267-4f40-8697-8bad1d5af28c",
   "metadata": {
    "tags": []
   },
   "outputs": [
    {
     "data": {
      "text/plain": [
       "id\n",
       "9046     36.600000\n",
       "51676    28.893237\n",
       "31112    32.500000\n",
       "60182    34.400000\n",
       "1665     24.000000\n",
       "           ...    \n",
       "18234    28.893237\n",
       "44873    40.000000\n",
       "19723    30.600000\n",
       "37544    25.600000\n",
       "44679    26.200000\n",
       "Name: bmi, Length: 5110, dtype: float64"
      ]
     },
     "execution_count": 17,
     "metadata": {},
     "output_type": "execute_result"
    }
   ],
   "source": [
    "df_new[\"bmi\"]"
   ]
  },
  {
   "cell_type": "code",
   "execution_count": 18,
   "id": "c280ce11",
   "metadata": {
    "tags": []
   },
   "outputs": [
    {
     "data": {
      "text/html": [
       "<div>\n",
       "<style scoped>\n",
       "    .dataframe tbody tr th:only-of-type {\n",
       "        vertical-align: middle;\n",
       "    }\n",
       "\n",
       "    .dataframe tbody tr th {\n",
       "        vertical-align: top;\n",
       "    }\n",
       "\n",
       "    .dataframe thead th {\n",
       "        text-align: right;\n",
       "    }\n",
       "</style>\n",
       "<table border=\"1\" class=\"dataframe\">\n",
       "  <thead>\n",
       "    <tr style=\"text-align: right;\">\n",
       "      <th>stroke</th>\n",
       "      <th>0</th>\n",
       "      <th>1</th>\n",
       "    </tr>\n",
       "    <tr>\n",
       "      <th>work_type</th>\n",
       "      <th></th>\n",
       "      <th></th>\n",
       "    </tr>\n",
       "  </thead>\n",
       "  <tbody>\n",
       "    <tr>\n",
       "      <th>Govt_job</th>\n",
       "      <td>94.98</td>\n",
       "      <td>5.02</td>\n",
       "    </tr>\n",
       "    <tr>\n",
       "      <th>Never_worked</th>\n",
       "      <td>100.00</td>\n",
       "      <td>0.00</td>\n",
       "    </tr>\n",
       "    <tr>\n",
       "      <th>Private</th>\n",
       "      <td>94.91</td>\n",
       "      <td>5.09</td>\n",
       "    </tr>\n",
       "    <tr>\n",
       "      <th>Self-employed</th>\n",
       "      <td>92.06</td>\n",
       "      <td>7.94</td>\n",
       "    </tr>\n",
       "    <tr>\n",
       "      <th>children</th>\n",
       "      <td>99.71</td>\n",
       "      <td>0.29</td>\n",
       "    </tr>\n",
       "  </tbody>\n",
       "</table>\n",
       "</div>"
      ],
      "text/plain": [
       "stroke              0     1\n",
       "work_type                  \n",
       "Govt_job        94.98  5.02\n",
       "Never_worked   100.00  0.00\n",
       "Private         94.91  5.09\n",
       "Self-employed   92.06  7.94\n",
       "children        99.71  0.29"
      ]
     },
     "execution_count": 18,
     "metadata": {},
     "output_type": "execute_result"
    }
   ],
   "source": [
    "#Est-ce que le type de travail peut avoir un impact sur la crise cardiaque ?\n",
    "round(pd.crosstab(df_new[\"work_type\"], df_new[\"stroke\"],normalize=\"index\")*100, 2)\n"
   ]
  },
  {
   "cell_type": "markdown",
   "id": "a3fad718",
   "metadata": {},
   "source": [
    "<div class= \"alert alert-info\">\n",
    "  Les cas de crise cardiaque les plus fréquents se trouvent chez les salariés du privé.</br>\n",
    "  Aucun cas chez ceux qui n'ont jamais travaillé.\n",
    "</div>"
   ]
  },
  {
   "cell_type": "code",
   "execution_count": 19,
   "id": "9f6c119e",
   "metadata": {
    "tags": []
   },
   "outputs": [
    {
     "data": {
      "text/html": [
       "<div>\n",
       "<style scoped>\n",
       "    .dataframe tbody tr th:only-of-type {\n",
       "        vertical-align: middle;\n",
       "    }\n",
       "\n",
       "    .dataframe tbody tr th {\n",
       "        vertical-align: top;\n",
       "    }\n",
       "\n",
       "    .dataframe thead th {\n",
       "        text-align: right;\n",
       "    }\n",
       "</style>\n",
       "<table border=\"1\" class=\"dataframe\">\n",
       "  <thead>\n",
       "    <tr style=\"text-align: right;\">\n",
       "      <th>stroke</th>\n",
       "      <th>0</th>\n",
       "      <th>1</th>\n",
       "    </tr>\n",
       "    <tr>\n",
       "      <th>gender</th>\n",
       "      <th></th>\n",
       "      <th></th>\n",
       "    </tr>\n",
       "  </thead>\n",
       "  <tbody>\n",
       "    <tr>\n",
       "      <th>Female</th>\n",
       "      <td>95.29</td>\n",
       "      <td>4.71</td>\n",
       "    </tr>\n",
       "    <tr>\n",
       "      <th>Male</th>\n",
       "      <td>94.89</td>\n",
       "      <td>5.11</td>\n",
       "    </tr>\n",
       "    <tr>\n",
       "      <th>Other</th>\n",
       "      <td>100.00</td>\n",
       "      <td>0.00</td>\n",
       "    </tr>\n",
       "  </tbody>\n",
       "</table>\n",
       "</div>"
      ],
      "text/plain": [
       "stroke       0     1\n",
       "gender              \n",
       "Female   95.29  4.71\n",
       "Male     94.89  5.11\n",
       "Other   100.00  0.00"
      ]
     },
     "execution_count": 19,
     "metadata": {},
     "output_type": "execute_result"
    }
   ],
   "source": [
    "#Est-ce que le genre peut avoir un impact sur la crise cardiaque ?\n",
    "round(pd.crosstab(df_new[\"gender\"], df_new[\"stroke\"],normalize=\"index\")*100, 2)\n"
   ]
  },
  {
   "cell_type": "markdown",
   "id": "0fefa0dd",
   "metadata": {},
   "source": [
    "<div class= \"alert alert-info\">\n",
    "  Un peu plus de crise cardiaque chez les hommes, tout en sachant qu'il y a un nombre plus important d'observation chez les femmes (58,5 %).\n",
    "</div>"
   ]
  },
  {
   "cell_type": "code",
   "execution_count": 20,
   "id": "7bc57988",
   "metadata": {
    "tags": []
   },
   "outputs": [
    {
     "name": "stdout",
     "output_type": "stream",
     "text": [
      "\n"
     ]
    },
    {
     "data": {
      "text/html": [
       "<div>\n",
       "<style scoped>\n",
       "    .dataframe tbody tr th:only-of-type {\n",
       "        vertical-align: middle;\n",
       "    }\n",
       "\n",
       "    .dataframe tbody tr th {\n",
       "        vertical-align: top;\n",
       "    }\n",
       "\n",
       "    .dataframe thead th {\n",
       "        text-align: right;\n",
       "    }\n",
       "</style>\n",
       "<table border=\"1\" class=\"dataframe\">\n",
       "  <thead>\n",
       "    <tr style=\"text-align: right;\">\n",
       "      <th>stroke</th>\n",
       "      <th>0</th>\n",
       "      <th>1</th>\n",
       "    </tr>\n",
       "    <tr>\n",
       "      <th>Residence_type</th>\n",
       "      <th></th>\n",
       "      <th></th>\n",
       "    </tr>\n",
       "  </thead>\n",
       "  <tbody>\n",
       "    <tr>\n",
       "      <th>Rural</th>\n",
       "      <td>2400</td>\n",
       "      <td>114</td>\n",
       "    </tr>\n",
       "    <tr>\n",
       "      <th>Urban</th>\n",
       "      <td>2461</td>\n",
       "      <td>135</td>\n",
       "    </tr>\n",
       "  </tbody>\n",
       "</table>\n",
       "</div>"
      ],
      "text/plain": [
       "stroke             0    1\n",
       "Residence_type           \n",
       "Rural           2400  114\n",
       "Urban           2461  135"
      ]
     },
     "execution_count": 20,
     "metadata": {},
     "output_type": "execute_result"
    }
   ],
   "source": [
    " # Est-ce que le type de résidence est un vecteur marquant sur la crise cardiaque ?\n",
    "colonne1 = df_new['Residence_type']\n",
    "colonne2 = df_new['stroke']\n",
    "\n",
    "\n",
    "print(\"\")\n",
    "\n",
    "pd.crosstab(colonne1, colonne2)\n"
   ]
  },
  {
   "cell_type": "markdown",
   "id": "72a9b827",
   "metadata": {},
   "source": [
    "<div class= \"alert alert-info\">\n",
    "    Un petit peu plus de crise cardiaque en ville 135 contre 114 en campagne\n",
    " </div>"
   ]
  },
  {
   "cell_type": "code",
   "execution_count": 21,
   "id": "b36a6c5d",
   "metadata": {
    "tags": []
   },
   "outputs": [
    {
     "name": "stderr",
     "output_type": "stream",
     "text": [
      "C:\\Users\\thoun\\AppData\\Local\\Temp/ipykernel_14912/3623630131.py:25: FutureWarning: inplace is deprecated and will be removed in a future version.\n",
      "  avg_glucose_level_groupby.columns.set_levels(['max_avg_glucose_level', 'min_avg_glucose_level', 'median_avg_glucose_level'], level=1, inplace = True)\n"
     ]
    },
    {
     "data": {
      "text/html": [
       "<div>\n",
       "<style scoped>\n",
       "    .dataframe tbody tr th:only-of-type {\n",
       "        vertical-align: middle;\n",
       "    }\n",
       "\n",
       "    .dataframe tbody tr th {\n",
       "        vertical-align: top;\n",
       "    }\n",
       "\n",
       "    .dataframe thead tr th {\n",
       "        text-align: left;\n",
       "    }\n",
       "\n",
       "    .dataframe thead tr:last-of-type th {\n",
       "        text-align: right;\n",
       "    }\n",
       "</style>\n",
       "<table border=\"1\" class=\"dataframe\">\n",
       "  <thead>\n",
       "    <tr>\n",
       "      <th></th>\n",
       "      <th colspan=\"3\" halign=\"left\">avg_glucose_level</th>\n",
       "    </tr>\n",
       "    <tr>\n",
       "      <th></th>\n",
       "      <th>max_avg_glucose_level</th>\n",
       "      <th>min_avg_glucose_level</th>\n",
       "      <th>median_avg_glucose_level</th>\n",
       "    </tr>\n",
       "    <tr>\n",
       "      <th>Residence_type</th>\n",
       "      <th></th>\n",
       "      <th></th>\n",
       "      <th></th>\n",
       "    </tr>\n",
       "  </thead>\n",
       "  <tbody>\n",
       "    <tr>\n",
       "      <th>Rural</th>\n",
       "      <td>271.74</td>\n",
       "      <td>55.12</td>\n",
       "      <td>92.955</td>\n",
       "    </tr>\n",
       "    <tr>\n",
       "      <th>Urban</th>\n",
       "      <td>267.76</td>\n",
       "      <td>55.22</td>\n",
       "      <td>90.770</td>\n",
       "    </tr>\n",
       "  </tbody>\n",
       "</table>\n",
       "</div>"
      ],
      "text/plain": [
       "                   avg_glucose_level                        \\\n",
       "               max_avg_glucose_level min_avg_glucose_level   \n",
       "Residence_type                                               \n",
       "Rural                         271.74                 55.12   \n",
       "Urban                         267.76                 55.22   \n",
       "\n",
       "                                         \n",
       "               median_avg_glucose_level  \n",
       "Residence_type                           \n",
       "Rural                            92.955  \n",
       "Urban                            90.770  "
      ]
     },
     "execution_count": 21,
     "metadata": {},
     "output_type": "execute_result"
    }
   ],
   "source": [
    "#Taux de glucose en fonction de l'habitation\n",
    "\n",
    "# Quantité maximale\n",
    "max_avg_glucose_level = lambda avg_glucose_level: avg_glucose_level[avg_glucose_level > 0].max()\n",
    "\n",
    "# Quantité minimale\n",
    "min_avg_glucose_level = lambda avg_glucose_level: avg_glucose_level[avg_glucose_level > 0].min()\n",
    "\n",
    "# Quantité médiane\n",
    "median_avg_glucose_level = lambda avg_glucose_level : avg_glucose_level[avg_glucose_level > 0].median()\n",
    "\n",
    "\n",
    "\n",
    "\n",
    "# Définition du dictionnaire de fonctions à appliquer\n",
    "functions_to_apply = {\n",
    "    'avg_glucose_level' : [max_avg_glucose_level, min_avg_glucose_level, median_avg_glucose_level]\n",
    "}\n",
    "\n",
    "\n",
    "# Operation groupby\n",
    "avg_glucose_level_groupby = df_new.groupby('Residence_type').agg(functions_to_apply)\n",
    "\n",
    "# Je renomme les colonnes produite par le groupby\n",
    "avg_glucose_level_groupby.columns.set_levels(['max_avg_glucose_level', 'min_avg_glucose_level', 'median_avg_glucose_level'], level=1, inplace = True)\n",
    "\n",
    "\n",
    "\n",
    "# Affichage des premières lignes du Dataframe produit par l'opération groupby\n",
    "avg_glucose_level_groupby.head()\n",
    "\n"
   ]
  },
  {
   "cell_type": "markdown",
   "id": "5d941d96",
   "metadata": {},
   "source": [
    "<div class= \"alert alert-block alert-info\">\n",
    "les taux de glucose sont presque équivalent en ville et en campagne\n",
    "</div>"
   ]
  },
  {
   "cell_type": "code",
   "execution_count": 22,
   "id": "5c9e8d86",
   "metadata": {
    "tags": []
   },
   "outputs": [
    {
     "data": {
      "text/plain": [
       "id\n",
       "9046               Diablétique\n",
       "51676              Diablétique\n",
       "31112    Hyperglycémie modérée\n",
       "60182              Diablétique\n",
       "1665               Diablétique\n",
       "                 ...          \n",
       "18234              Taux normal\n",
       "44873              Diablétique\n",
       "19723              Taux normal\n",
       "37544              Diablétique\n",
       "44679              Taux normal\n",
       "Name: avg_glucose_level_classes, Length: 5110, dtype: category\n",
       "Categories (4, object): ['Hypoglycémie' < 'Taux normal' < 'Hyperglycémie modérée' < 'Diablétique']"
      ]
     },
     "execution_count": 22,
     "metadata": {},
     "output_type": "execute_result"
    }
   ],
   "source": [
    "df_avg_gluc_c = df_new.copy()\n",
    "df_avg_gluc_c['avg_glucose_level_classes'] = pd.cut(df_new['avg_glucose_level'], bins=[0,70,100,125,np.inf],labels=['Hypoglycémie','Taux normal','Hyperglycémie modérée','Diablétique'])\n",
    "\n",
    "df_avg_gluc_c['avg_glucose_level_classes']\n"
   ]
  },
  {
   "cell_type": "markdown",
   "id": "460e7062",
   "metadata": {},
   "source": [
    "<div class= \"alert alert-block alert-info\">\n",
    "Hypoglycémie : Inférieur à 70g/dL de sang </br>\n",
    "Le taux normal de la glycémie à jeun oscille entre 70 mg/dL et 100 g/dL </br>\n",
    "Hyperglycémie modérée : Entre 1 et 1.25g/L </br>\n",
    "Au dessus de 126mg à jeune la personne est considéré comme diablétique </br></br>\n",
    "Les données sont donc divisées en 4 quantile 0:70  < 70:100 < 100:125 < 125: </br>\n",
    "</div>"
   ]
  },
  {
   "cell_type": "code",
   "execution_count": 23,
   "id": "2a7ac721",
   "metadata": {
    "tags": []
   },
   "outputs": [
    {
     "data": {
      "text/html": [
       "<div>\n",
       "<style scoped>\n",
       "    .dataframe tbody tr th:only-of-type {\n",
       "        vertical-align: middle;\n",
       "    }\n",
       "\n",
       "    .dataframe tbody tr th {\n",
       "        vertical-align: top;\n",
       "    }\n",
       "\n",
       "    .dataframe thead th {\n",
       "        text-align: right;\n",
       "    }\n",
       "</style>\n",
       "<table border=\"1\" class=\"dataframe\">\n",
       "  <thead>\n",
       "    <tr style=\"text-align: right;\">\n",
       "      <th></th>\n",
       "      <th></th>\n",
       "      <th>gender</th>\n",
       "    </tr>\n",
       "    <tr>\n",
       "      <th>avg_glucose_level_classes</th>\n",
       "      <th>gender</th>\n",
       "      <th></th>\n",
       "    </tr>\n",
       "  </thead>\n",
       "  <tbody>\n",
       "    <tr>\n",
       "      <th rowspan=\"3\" valign=\"top\">Hypoglycémie</th>\n",
       "      <th>Female</th>\n",
       "      <td>454</td>\n",
       "    </tr>\n",
       "    <tr>\n",
       "      <th>Male</th>\n",
       "      <td>302</td>\n",
       "    </tr>\n",
       "    <tr>\n",
       "      <th>Other</th>\n",
       "      <td>0</td>\n",
       "    </tr>\n",
       "    <tr>\n",
       "      <th rowspan=\"3\" valign=\"top\">Taux normal</th>\n",
       "      <th>Female</th>\n",
       "      <td>1429</td>\n",
       "    </tr>\n",
       "    <tr>\n",
       "      <th>Male</th>\n",
       "      <td>946</td>\n",
       "    </tr>\n",
       "    <tr>\n",
       "      <th>Other</th>\n",
       "      <td>0</td>\n",
       "    </tr>\n",
       "    <tr>\n",
       "      <th rowspan=\"3\" valign=\"top\">Hyperglycémie modérée</th>\n",
       "      <th>Female</th>\n",
       "      <td>568</td>\n",
       "    </tr>\n",
       "    <tr>\n",
       "      <th>Male</th>\n",
       "      <td>411</td>\n",
       "    </tr>\n",
       "    <tr>\n",
       "      <th>Other</th>\n",
       "      <td>0</td>\n",
       "    </tr>\n",
       "    <tr>\n",
       "      <th rowspan=\"3\" valign=\"top\">Diablétique</th>\n",
       "      <th>Female</th>\n",
       "      <td>543</td>\n",
       "    </tr>\n",
       "    <tr>\n",
       "      <th>Male</th>\n",
       "      <td>456</td>\n",
       "    </tr>\n",
       "    <tr>\n",
       "      <th>Other</th>\n",
       "      <td>1</td>\n",
       "    </tr>\n",
       "  </tbody>\n",
       "</table>\n",
       "</div>"
      ],
      "text/plain": [
       "                                  gender\n",
       "avg_glucose_level_classes gender        \n",
       "Hypoglycémie              Female     454\n",
       "                          Male       302\n",
       "                          Other        0\n",
       "Taux normal               Female    1429\n",
       "                          Male       946\n",
       "                          Other        0\n",
       "Hyperglycémie modérée     Female     568\n",
       "                          Male       411\n",
       "                          Other        0\n",
       "Diablétique               Female     543\n",
       "                          Male       456\n",
       "                          Other        1"
      ]
     },
     "execution_count": 23,
     "metadata": {},
     "output_type": "execute_result"
    }
   ],
   "source": [
    "state_summary=df_avg_gluc_c.groupby(['avg_glucose_level_classes','gender']).agg( {\"gender\": 'count'})\n",
    "state_summary\n",
    "\n",
    "#nb_gender=df.groupby(['gender']).agg( {\"gender\": 'count'})\n",
    "#nb_gender\n",
    "#Etude des crises cardiaques qui dépend de sa tranche de son taux de glucose\n",
    "\n",
    "#60% Femme 40%Homme"
   ]
  },
  {
   "cell_type": "markdown",
   "id": "eee445a1",
   "metadata": {},
   "source": [
    "<div class= \"alert alert-block alert-info\">\n",
    "Répartition équilibré des taux de glucose sachant qu'il y 800 femmes de plus </br>\n",
    "\n",
    "</div>"
   ]
  },
  {
   "cell_type": "code",
   "execution_count": 24,
   "id": "4d85783b",
   "metadata": {
    "tags": []
   },
   "outputs": [
    {
     "data": {
      "text/html": [
       "<div>\n",
       "<style scoped>\n",
       "    .dataframe tbody tr th:only-of-type {\n",
       "        vertical-align: middle;\n",
       "    }\n",
       "\n",
       "    .dataframe tbody tr th {\n",
       "        vertical-align: top;\n",
       "    }\n",
       "\n",
       "    .dataframe thead th {\n",
       "        text-align: right;\n",
       "    }\n",
       "</style>\n",
       "<table border=\"1\" class=\"dataframe\">\n",
       "  <thead>\n",
       "    <tr style=\"text-align: right;\">\n",
       "      <th></th>\n",
       "      <th></th>\n",
       "      <th>stroke</th>\n",
       "    </tr>\n",
       "    <tr>\n",
       "      <th>avg_glucose_level_classes</th>\n",
       "      <th>Residence_type</th>\n",
       "      <th></th>\n",
       "    </tr>\n",
       "  </thead>\n",
       "  <tbody>\n",
       "    <tr>\n",
       "      <th rowspan=\"2\" valign=\"top\">Hypoglycémie</th>\n",
       "      <th>Rural</th>\n",
       "      <td>14</td>\n",
       "    </tr>\n",
       "    <tr>\n",
       "      <th>Urban</th>\n",
       "      <td>13</td>\n",
       "    </tr>\n",
       "    <tr>\n",
       "      <th rowspan=\"2\" valign=\"top\">Taux normal</th>\n",
       "      <th>Rural</th>\n",
       "      <td>39</td>\n",
       "    </tr>\n",
       "    <tr>\n",
       "      <th>Urban</th>\n",
       "      <td>46</td>\n",
       "    </tr>\n",
       "    <tr>\n",
       "      <th rowspan=\"2\" valign=\"top\">Hyperglycémie modérée</th>\n",
       "      <th>Rural</th>\n",
       "      <td>17</td>\n",
       "    </tr>\n",
       "    <tr>\n",
       "      <th>Urban</th>\n",
       "      <td>20</td>\n",
       "    </tr>\n",
       "    <tr>\n",
       "      <th rowspan=\"2\" valign=\"top\">Diablétique</th>\n",
       "      <th>Rural</th>\n",
       "      <td>44</td>\n",
       "    </tr>\n",
       "    <tr>\n",
       "      <th>Urban</th>\n",
       "      <td>56</td>\n",
       "    </tr>\n",
       "  </tbody>\n",
       "</table>\n",
       "</div>"
      ],
      "text/plain": [
       "                                          stroke\n",
       "avg_glucose_level_classes Residence_type        \n",
       "Hypoglycémie              Rural               14\n",
       "                          Urban               13\n",
       "Taux normal               Rural               39\n",
       "                          Urban               46\n",
       "Hyperglycémie modérée     Rural               17\n",
       "                          Urban               20\n",
       "Diablétique               Rural               44\n",
       "                          Urban               56"
      ]
     },
     "execution_count": 24,
     "metadata": {},
     "output_type": "execute_result"
    }
   ],
   "source": [
    "state_summary=df_avg_gluc_c.groupby(['avg_glucose_level_classes','Residence_type']).agg( {\"stroke\": 'sum'})\n",
    "state_summary\n",
    " "
   ]
  },
  {
   "cell_type": "markdown",
   "id": "a4a37cd7",
   "metadata": {},
   "source": [
    "<div class= \"alert alert-block alert-info\">\n",
    "Le type d'habitation n'influence pas le taux de glucose dans le sang </br>\n",
    "\n",
    "</div>"
   ]
  },
  {
   "cell_type": "code",
   "execution_count": 25,
   "id": "62a88a5a",
   "metadata": {
    "scrolled": true,
    "tags": []
   },
   "outputs": [
    {
     "data": {
      "text/html": [
       "<div>\n",
       "<style scoped>\n",
       "    .dataframe tbody tr th:only-of-type {\n",
       "        vertical-align: middle;\n",
       "    }\n",
       "\n",
       "    .dataframe tbody tr th {\n",
       "        vertical-align: top;\n",
       "    }\n",
       "\n",
       "    .dataframe thead th {\n",
       "        text-align: right;\n",
       "    }\n",
       "</style>\n",
       "<table border=\"1\" class=\"dataframe\">\n",
       "  <thead>\n",
       "    <tr style=\"text-align: right;\">\n",
       "      <th></th>\n",
       "      <th>stroke</th>\n",
       "    </tr>\n",
       "    <tr>\n",
       "      <th>avg_glucose_level_classes</th>\n",
       "      <th></th>\n",
       "    </tr>\n",
       "  </thead>\n",
       "  <tbody>\n",
       "    <tr>\n",
       "      <th>Hypoglycémie</th>\n",
       "      <td>27</td>\n",
       "    </tr>\n",
       "    <tr>\n",
       "      <th>Taux normal</th>\n",
       "      <td>85</td>\n",
       "    </tr>\n",
       "    <tr>\n",
       "      <th>Hyperglycémie modérée</th>\n",
       "      <td>37</td>\n",
       "    </tr>\n",
       "    <tr>\n",
       "      <th>Diablétique</th>\n",
       "      <td>100</td>\n",
       "    </tr>\n",
       "  </tbody>\n",
       "</table>\n",
       "</div>"
      ],
      "text/plain": [
       "                           stroke\n",
       "avg_glucose_level_classes        \n",
       "Hypoglycémie                   27\n",
       "Taux normal                    85\n",
       "Hyperglycémie modérée          37\n",
       "Diablétique                   100"
      ]
     },
     "execution_count": 25,
     "metadata": {},
     "output_type": "execute_result"
    }
   ],
   "source": [
    "\n",
    "\n",
    "class_summary=df_avg_gluc_c.groupby(['avg_glucose_level_classes']).agg({'stroke': 'sum'})\n",
    "\n",
    "\n",
    "class_summary\n",
    "\n",
    "\n"
   ]
  },
  {
   "cell_type": "markdown",
   "id": "2bbdd33b",
   "metadata": {},
   "source": [
    "<div class= \"alert alert-block alert-info\">\n",
    "Moins de crise cardiaque sur les cas en Hypoglycemie et sur ceux en Hyperglycémie modérée</br>\n",
    "\n",
    "</div>\n",
    "\n"
   ]
  },
  {
   "cell_type": "code",
   "execution_count": 26,
   "id": "5c25b5a7",
   "metadata": {
    "tags": []
   },
   "outputs": [
    {
     "data": {
      "text/html": [
       "<div>\n",
       "<style scoped>\n",
       "    .dataframe tbody tr th:only-of-type {\n",
       "        vertical-align: middle;\n",
       "    }\n",
       "\n",
       "    .dataframe tbody tr th {\n",
       "        vertical-align: top;\n",
       "    }\n",
       "\n",
       "    .dataframe thead th {\n",
       "        text-align: right;\n",
       "    }\n",
       "</style>\n",
       "<table border=\"1\" class=\"dataframe\">\n",
       "  <thead>\n",
       "    <tr style=\"text-align: right;\">\n",
       "      <th></th>\n",
       "      <th>moyenne</th>\n",
       "      <th>median</th>\n",
       "      <th>mean_med_diff</th>\n",
       "      <th>q1</th>\n",
       "      <th>q2</th>\n",
       "      <th>q3</th>\n",
       "      <th>min</th>\n",
       "      <th>max</th>\n",
       "      <th>min_max_diff</th>\n",
       "    </tr>\n",
       "  </thead>\n",
       "  <tbody>\n",
       "    <tr>\n",
       "      <th>avg_glucose_level</th>\n",
       "      <td>106.147677</td>\n",
       "      <td>91.885</td>\n",
       "      <td>14.262677</td>\n",
       "      <td>77.245</td>\n",
       "      <td>91.885</td>\n",
       "      <td>114.09</td>\n",
       "      <td>55.12</td>\n",
       "      <td>271.74</td>\n",
       "      <td>216.62</td>\n",
       "    </tr>\n",
       "  </tbody>\n",
       "</table>\n",
       "</div>"
      ],
      "text/plain": [
       "                      moyenne  median  mean_med_diff      q1      q2      q3  \\\n",
       "avg_glucose_level  106.147677  91.885      14.262677  77.245  91.885  114.09   \n",
       "\n",
       "                     min     max  min_max_diff  \n",
       "avg_glucose_level  55.12  271.74        216.62  "
      ]
     },
     "execution_count": 26,
     "metadata": {},
     "output_type": "execute_result"
    }
   ],
   "source": [
    "# Analyse de la variable avg_glucose_level\n",
    "\n",
    "#Séparation de la variable\n",
    "avg_glucose_level_studies=df_new[[\"avg_glucose_level\"]]\n",
    "\n",
    "#Calcul de la moyenne de la variable\n",
    "stats=pd.DataFrame(avg_glucose_level_studies.mean(), columns=['moyenne'])\n",
    "stats.round(2)\n",
    "\n",
    "#Calcul de la median de la variable\n",
    "stats['median']=avg_glucose_level_studies.median()\n",
    "\n",
    "#Calcul de la différence entre la moyenne et la median de la variable\n",
    "stats['mean_med_diff'] = abs(stats['moyenne'] - stats['median'])\n",
    "stats.round(2)\n",
    "\n",
    "#Calcul du quantile de la variable\n",
    "quantile=avg_glucose_level_studies[\"avg_glucose_level\"].quantile(q = [0.25,0.5,0.75])\n",
    "quantile\n",
    "\n",
    "stats[['q1', 'q2', 'q3']] = avg_glucose_level_studies.quantile(q=[0.25, 0.5, 0.75]).transpose()\n",
    "\n",
    "#Calcul du max et minimum et de la différence de la variable\n",
    "stats['min'] = avg_glucose_level_studies.min()\n",
    "stats['max'] = avg_glucose_level_studies.max()\n",
    "stats['min_max_diff'] = stats['max'] - stats['min']\n",
    "\n",
    "stats"
   ]
  },
  {
   "cell_type": "markdown",
   "id": "0047bb22",
   "metadata": {},
   "source": [
    "<a class=\"anchor\" name=\"3.1\"></a>\n",
    "## 3.1 Liaisons entre les variables"
   ]
  },
  {
   "cell_type": "code",
   "execution_count": 27,
   "id": "d8a0c89c",
   "metadata": {
    "tags": []
   },
   "outputs": [
    {
     "data": {
      "text/html": [
       "<div>\n",
       "<style scoped>\n",
       "    .dataframe tbody tr th:only-of-type {\n",
       "        vertical-align: middle;\n",
       "    }\n",
       "\n",
       "    .dataframe tbody tr th {\n",
       "        vertical-align: top;\n",
       "    }\n",
       "\n",
       "    .dataframe thead th {\n",
       "        text-align: right;\n",
       "    }\n",
       "</style>\n",
       "<table border=\"1\" class=\"dataframe\">\n",
       "  <thead>\n",
       "    <tr style=\"text-align: right;\">\n",
       "      <th></th>\n",
       "      <th>gender</th>\n",
       "      <th>age</th>\n",
       "      <th>hypertension</th>\n",
       "      <th>heart_disease</th>\n",
       "      <th>ever_married</th>\n",
       "      <th>work_type</th>\n",
       "      <th>Residence_type</th>\n",
       "      <th>avg_glucose_level</th>\n",
       "      <th>bmi</th>\n",
       "      <th>smoking_status</th>\n",
       "      <th>stroke</th>\n",
       "    </tr>\n",
       "    <tr>\n",
       "      <th>id</th>\n",
       "      <th></th>\n",
       "      <th></th>\n",
       "      <th></th>\n",
       "      <th></th>\n",
       "      <th></th>\n",
       "      <th></th>\n",
       "      <th></th>\n",
       "      <th></th>\n",
       "      <th></th>\n",
       "      <th></th>\n",
       "      <th></th>\n",
       "    </tr>\n",
       "  </thead>\n",
       "  <tbody>\n",
       "    <tr>\n",
       "      <th>9046</th>\n",
       "      <td>Male</td>\n",
       "      <td>67.0</td>\n",
       "      <td>0</td>\n",
       "      <td>1</td>\n",
       "      <td>Yes</td>\n",
       "      <td>Private</td>\n",
       "      <td>Urban</td>\n",
       "      <td>228.69</td>\n",
       "      <td>36.600000</td>\n",
       "      <td>formerly smoked</td>\n",
       "      <td>1</td>\n",
       "    </tr>\n",
       "    <tr>\n",
       "      <th>51676</th>\n",
       "      <td>Female</td>\n",
       "      <td>61.0</td>\n",
       "      <td>0</td>\n",
       "      <td>0</td>\n",
       "      <td>Yes</td>\n",
       "      <td>Self-employed</td>\n",
       "      <td>Rural</td>\n",
       "      <td>202.21</td>\n",
       "      <td>28.893237</td>\n",
       "      <td>never smoked</td>\n",
       "      <td>1</td>\n",
       "    </tr>\n",
       "    <tr>\n",
       "      <th>31112</th>\n",
       "      <td>Male</td>\n",
       "      <td>80.0</td>\n",
       "      <td>0</td>\n",
       "      <td>1</td>\n",
       "      <td>Yes</td>\n",
       "      <td>Private</td>\n",
       "      <td>Rural</td>\n",
       "      <td>105.92</td>\n",
       "      <td>32.500000</td>\n",
       "      <td>never smoked</td>\n",
       "      <td>1</td>\n",
       "    </tr>\n",
       "    <tr>\n",
       "      <th>60182</th>\n",
       "      <td>Female</td>\n",
       "      <td>49.0</td>\n",
       "      <td>0</td>\n",
       "      <td>0</td>\n",
       "      <td>Yes</td>\n",
       "      <td>Private</td>\n",
       "      <td>Urban</td>\n",
       "      <td>171.23</td>\n",
       "      <td>34.400000</td>\n",
       "      <td>smokes</td>\n",
       "      <td>1</td>\n",
       "    </tr>\n",
       "    <tr>\n",
       "      <th>1665</th>\n",
       "      <td>Female</td>\n",
       "      <td>79.0</td>\n",
       "      <td>1</td>\n",
       "      <td>0</td>\n",
       "      <td>Yes</td>\n",
       "      <td>Self-employed</td>\n",
       "      <td>Rural</td>\n",
       "      <td>174.12</td>\n",
       "      <td>24.000000</td>\n",
       "      <td>never smoked</td>\n",
       "      <td>1</td>\n",
       "    </tr>\n",
       "  </tbody>\n",
       "</table>\n",
       "</div>"
      ],
      "text/plain": [
       "       gender   age  hypertension  heart_disease ever_married      work_type  \\\n",
       "id                                                                             \n",
       "9046     Male  67.0             0              1          Yes        Private   \n",
       "51676  Female  61.0             0              0          Yes  Self-employed   \n",
       "31112    Male  80.0             0              1          Yes        Private   \n",
       "60182  Female  49.0             0              0          Yes        Private   \n",
       "1665   Female  79.0             1              0          Yes  Self-employed   \n",
       "\n",
       "      Residence_type  avg_glucose_level        bmi   smoking_status  stroke  \n",
       "id                                                                           \n",
       "9046           Urban             228.69  36.600000  formerly smoked       1  \n",
       "51676          Rural             202.21  28.893237     never smoked       1  \n",
       "31112          Rural             105.92  32.500000     never smoked       1  \n",
       "60182          Urban             171.23  34.400000           smokes       1  \n",
       "1665           Rural             174.12  24.000000     never smoked       1  "
      ]
     },
     "execution_count": 27,
     "metadata": {},
     "output_type": "execute_result"
    }
   ],
   "source": [
    "df_new.head()"
   ]
  },
  {
   "cell_type": "markdown",
   "id": "4fa48802",
   "metadata": {},
   "source": [
    "## 3.1 Analyse des liaisons entre les variables continues"
   ]
  },
  {
   "cell_type": "code",
   "execution_count": 28,
   "id": "0a110db4",
   "metadata": {
    "tags": []
   },
   "outputs": [
    {
     "data": {
      "text/html": [
       "<div>\n",
       "<style scoped>\n",
       "    .dataframe tbody tr th:only-of-type {\n",
       "        vertical-align: middle;\n",
       "    }\n",
       "\n",
       "    .dataframe tbody tr th {\n",
       "        vertical-align: top;\n",
       "    }\n",
       "\n",
       "    .dataframe thead th {\n",
       "        text-align: right;\n",
       "    }\n",
       "</style>\n",
       "<table border=\"1\" class=\"dataframe\">\n",
       "  <thead>\n",
       "    <tr style=\"text-align: right;\">\n",
       "      <th></th>\n",
       "      <th>age</th>\n",
       "      <th>avg_glucose_level</th>\n",
       "      <th>bmi</th>\n",
       "    </tr>\n",
       "  </thead>\n",
       "  <tbody>\n",
       "    <tr>\n",
       "      <th>age</th>\n",
       "      <td>1.000000</td>\n",
       "      <td>0.238171</td>\n",
       "      <td>0.325942</td>\n",
       "    </tr>\n",
       "    <tr>\n",
       "      <th>avg_glucose_level</th>\n",
       "      <td>0.238171</td>\n",
       "      <td>1.000000</td>\n",
       "      <td>0.168751</td>\n",
       "    </tr>\n",
       "    <tr>\n",
       "      <th>bmi</th>\n",
       "      <td>0.325942</td>\n",
       "      <td>0.168751</td>\n",
       "      <td>1.000000</td>\n",
       "    </tr>\n",
       "  </tbody>\n",
       "</table>\n",
       "</div>"
      ],
      "text/plain": [
       "                        age  avg_glucose_level       bmi\n",
       "age                1.000000           0.238171  0.325942\n",
       "avg_glucose_level  0.238171           1.000000  0.168751\n",
       "bmi                0.325942           0.168751  1.000000"
      ]
     },
     "execution_count": 28,
     "metadata": {},
     "output_type": "execute_result"
    }
   ],
   "source": [
    "\n",
    "\n",
    "\n",
    "dfnum=df_new[['age','avg_glucose_level','bmi']]\n",
    "dfnum.corr()\n",
    "\n",
    "\n"
   ]
  },
  {
   "cell_type": "markdown",
   "id": "980f67ce",
   "metadata": {},
   "source": [
    "<div class= \"alert alert-block alert-info\">\n",
    "    Compte-tenu des coefficients de corrélation plus proche de 0 que de 1, les variables semblent peu corrélées entre elles. \n",
    "</div>"
   ]
  },
  {
   "cell_type": "code",
   "execution_count": 29,
   "id": "22371516",
   "metadata": {
    "tags": []
   },
   "outputs": [
    {
     "name": "stdout",
     "output_type": "stream",
     "text": [
      "               age/avg_glucose_level\n",
      "pearson_coeff           2.381711e-01\n",
      "p-value                 7.856311e-67\n",
      "                     age/bmi\n",
      "pearson_coeff   3.259425e-01\n",
      "p-value        8.995421e-127\n",
      "               avg_glucose_level/bmi\n",
      "pearson_coeff           1.687514e-01\n",
      "p-value                 5.927281e-34\n"
     ]
    }
   ],
   "source": [
    "\n",
    "# la fonction corr() permet de récupérer les coefficients de corélation entre les variables,\n",
    "# La p-value permet de dire si les variables sont indépendantes alors que le coef de corrélation permet de dire à quel point\n",
    "# elles sont corrélées positivement ou négativement.\n",
    "\n",
    "print(pd.DataFrame(pearsonr(df_new['age'], df_new['avg_glucose_level']), index=['pearson_coeff','p-value'], columns=['age/avg_glucose_level']))\n",
    "print(pd.DataFrame(pearsonr(df_new['age'], df_new['bmi']), index=['pearson_coeff','p-value'], columns=['age/bmi']))\n",
    "print(pd.DataFrame(pearsonr(df_new['avg_glucose_level'], df_new['bmi']), index=['pearson_coeff','p-value'], columns=['avg_glucose_level/bmi']))"
   ]
  },
  {
   "cell_type": "code",
   "execution_count": 30,
   "id": "a687b766-840b-46fb-a52d-ea02b871bcac",
   "metadata": {},
   "outputs": [
    {
     "data": {
      "text/html": [
       "<style type=\"text/css\">\n",
       "#T_9a284_row0_col0, #T_9a284_row1_col1, #T_9a284_row2_col2, #T_9a284_row3_col3, #T_9a284_row4_col4, #T_9a284_row5_col5 {\n",
       "  background-color: #b40426;\n",
       "  color: #f1f1f1;\n",
       "}\n",
       "#T_9a284_row0_col1 {\n",
       "  background-color: #779af7;\n",
       "  color: #f1f1f1;\n",
       "}\n",
       "#T_9a284_row0_col2 {\n",
       "  background-color: #86a9fc;\n",
       "  color: #f1f1f1;\n",
       "}\n",
       "#T_9a284_row0_col3 {\n",
       "  background-color: #6180e9;\n",
       "  color: #f1f1f1;\n",
       "}\n",
       "#T_9a284_row0_col4 {\n",
       "  background-color: #9ebeff;\n",
       "  color: #000000;\n",
       "}\n",
       "#T_9a284_row0_col5 {\n",
       "  background-color: #80a3fa;\n",
       "  color: #f1f1f1;\n",
       "}\n",
       "#T_9a284_row1_col0, #T_9a284_row1_col3 {\n",
       "  background-color: #4961d2;\n",
       "  color: #f1f1f1;\n",
       "}\n",
       "#T_9a284_row1_col2, #T_9a284_row3_col1 {\n",
       "  background-color: #506bda;\n",
       "  color: #f1f1f1;\n",
       "}\n",
       "#T_9a284_row1_col4, #T_9a284_row3_col2 {\n",
       "  background-color: #6282ea;\n",
       "  color: #f1f1f1;\n",
       "}\n",
       "#T_9a284_row1_col5 {\n",
       "  background-color: #5673e0;\n",
       "  color: #f1f1f1;\n",
       "}\n",
       "#T_9a284_row2_col0, #T_9a284_row2_col3 {\n",
       "  background-color: #445acc;\n",
       "  color: #f1f1f1;\n",
       "}\n",
       "#T_9a284_row2_col1, #T_9a284_row2_col4, #T_9a284_row3_col0, #T_9a284_row4_col2, #T_9a284_row4_col5, #T_9a284_row5_col3, #T_9a284_row5_col4 {\n",
       "  background-color: #3b4cc0;\n",
       "  color: #f1f1f1;\n",
       "}\n",
       "#T_9a284_row2_col5, #T_9a284_row5_col2 {\n",
       "  background-color: #5977e3;\n",
       "  color: #f1f1f1;\n",
       "}\n",
       "#T_9a284_row3_col4 {\n",
       "  background-color: #6485ec;\n",
       "  color: #f1f1f1;\n",
       "}\n",
       "#T_9a284_row3_col5 {\n",
       "  background-color: #5875e1;\n",
       "  color: #f1f1f1;\n",
       "}\n",
       "#T_9a284_row4_col0 {\n",
       "  background-color: #5e7de7;\n",
       "  color: #f1f1f1;\n",
       "}\n",
       "#T_9a284_row4_col1 {\n",
       "  background-color: #4b64d5;\n",
       "  color: #f1f1f1;\n",
       "}\n",
       "#T_9a284_row4_col3 {\n",
       "  background-color: #465ecf;\n",
       "  color: #f1f1f1;\n",
       "}\n",
       "#T_9a284_row5_col0 {\n",
       "  background-color: #3d50c3;\n",
       "  color: #f1f1f1;\n",
       "}\n",
       "#T_9a284_row5_col1 {\n",
       "  background-color: #4055c8;\n",
       "  color: #f1f1f1;\n",
       "}\n",
       "</style>\n",
       "<table id=\"T_9a284_\">\n",
       "  <thead>\n",
       "    <tr>\n",
       "      <th class=\"blank level0\" >&nbsp;</th>\n",
       "      <th class=\"col_heading level0 col0\" >age</th>\n",
       "      <th class=\"col_heading level0 col1\" >hypertension</th>\n",
       "      <th class=\"col_heading level0 col2\" >heart_disease</th>\n",
       "      <th class=\"col_heading level0 col3\" >avg_glucose_level</th>\n",
       "      <th class=\"col_heading level0 col4\" >bmi</th>\n",
       "      <th class=\"col_heading level0 col5\" >stroke</th>\n",
       "    </tr>\n",
       "  </thead>\n",
       "  <tbody>\n",
       "    <tr>\n",
       "      <th id=\"T_9a284_level0_row0\" class=\"row_heading level0 row0\" >age</th>\n",
       "      <td id=\"T_9a284_row0_col0\" class=\"data row0 col0\" >1.00</td>\n",
       "      <td id=\"T_9a284_row0_col1\" class=\"data row0 col1\" >0.28</td>\n",
       "      <td id=\"T_9a284_row0_col2\" class=\"data row0 col2\" >0.26</td>\n",
       "      <td id=\"T_9a284_row0_col3\" class=\"data row0 col3\" >0.24</td>\n",
       "      <td id=\"T_9a284_row0_col4\" class=\"data row0 col4\" >0.33</td>\n",
       "      <td id=\"T_9a284_row0_col5\" class=\"data row0 col5\" >0.25</td>\n",
       "    </tr>\n",
       "    <tr>\n",
       "      <th id=\"T_9a284_level0_row1\" class=\"row_heading level0 row1\" >hypertension</th>\n",
       "      <td id=\"T_9a284_row1_col0\" class=\"data row1 col0\" >0.28</td>\n",
       "      <td id=\"T_9a284_row1_col1\" class=\"data row1 col1\" >1.00</td>\n",
       "      <td id=\"T_9a284_row1_col2\" class=\"data row1 col2\" >0.11</td>\n",
       "      <td id=\"T_9a284_row1_col3\" class=\"data row1 col3\" >0.17</td>\n",
       "      <td id=\"T_9a284_row1_col4\" class=\"data row1 col4\" >0.16</td>\n",
       "      <td id=\"T_9a284_row1_col5\" class=\"data row1 col5\" >0.13</td>\n",
       "    </tr>\n",
       "    <tr>\n",
       "      <th id=\"T_9a284_level0_row2\" class=\"row_heading level0 row2\" >heart_disease</th>\n",
       "      <td id=\"T_9a284_row2_col0\" class=\"data row2 col0\" >0.26</td>\n",
       "      <td id=\"T_9a284_row2_col1\" class=\"data row2 col1\" >0.11</td>\n",
       "      <td id=\"T_9a284_row2_col2\" class=\"data row2 col2\" >1.00</td>\n",
       "      <td id=\"T_9a284_row2_col3\" class=\"data row2 col3\" >0.16</td>\n",
       "      <td id=\"T_9a284_row2_col4\" class=\"data row2 col4\" >0.04</td>\n",
       "      <td id=\"T_9a284_row2_col5\" class=\"data row2 col5\" >0.13</td>\n",
       "    </tr>\n",
       "    <tr>\n",
       "      <th id=\"T_9a284_level0_row3\" class=\"row_heading level0 row3\" >avg_glucose_level</th>\n",
       "      <td id=\"T_9a284_row3_col0\" class=\"data row3 col0\" >0.24</td>\n",
       "      <td id=\"T_9a284_row3_col1\" class=\"data row3 col1\" >0.17</td>\n",
       "      <td id=\"T_9a284_row3_col2\" class=\"data row3 col2\" >0.16</td>\n",
       "      <td id=\"T_9a284_row3_col3\" class=\"data row3 col3\" >1.00</td>\n",
       "      <td id=\"T_9a284_row3_col4\" class=\"data row3 col4\" >0.17</td>\n",
       "      <td id=\"T_9a284_row3_col5\" class=\"data row3 col5\" >0.13</td>\n",
       "    </tr>\n",
       "    <tr>\n",
       "      <th id=\"T_9a284_level0_row4\" class=\"row_heading level0 row4\" >bmi</th>\n",
       "      <td id=\"T_9a284_row4_col0\" class=\"data row4 col0\" >0.33</td>\n",
       "      <td id=\"T_9a284_row4_col1\" class=\"data row4 col1\" >0.16</td>\n",
       "      <td id=\"T_9a284_row4_col2\" class=\"data row4 col2\" >0.04</td>\n",
       "      <td id=\"T_9a284_row4_col3\" class=\"data row4 col3\" >0.17</td>\n",
       "      <td id=\"T_9a284_row4_col4\" class=\"data row4 col4\" >1.00</td>\n",
       "      <td id=\"T_9a284_row4_col5\" class=\"data row4 col5\" >0.04</td>\n",
       "    </tr>\n",
       "    <tr>\n",
       "      <th id=\"T_9a284_level0_row5\" class=\"row_heading level0 row5\" >stroke</th>\n",
       "      <td id=\"T_9a284_row5_col0\" class=\"data row5 col0\" >0.25</td>\n",
       "      <td id=\"T_9a284_row5_col1\" class=\"data row5 col1\" >0.13</td>\n",
       "      <td id=\"T_9a284_row5_col2\" class=\"data row5 col2\" >0.13</td>\n",
       "      <td id=\"T_9a284_row5_col3\" class=\"data row5 col3\" >0.13</td>\n",
       "      <td id=\"T_9a284_row5_col4\" class=\"data row5 col4\" >0.04</td>\n",
       "      <td id=\"T_9a284_row5_col5\" class=\"data row5 col5\" >1.00</td>\n",
       "    </tr>\n",
       "  </tbody>\n",
       "</table>\n"
      ],
      "text/plain": [
       "<pandas.io.formats.style.Styler at 0x1f3d2185af0>"
      ]
     },
     "execution_count": 30,
     "metadata": {},
     "output_type": "execute_result"
    }
   ],
   "source": [
    "corr = df_new.corr()\n",
    "corr.style.background_gradient(cmap=\"coolwarm\").format(precision=2)\n"
   ]
  },
  {
   "cell_type": "markdown",
   "id": "06999626",
   "metadata": {},
   "source": [
    "<div class= \"alert alert-block alert-info\">\n",
    "\n",
    "La variable qui a la corrélation la plus forte avec la crise cardiaque est l'âge, celle qui a le moins de corrélation contrairement à ce que l'on pourrait supposer est le bmi\n",
    "\n",
    "</div>"
   ]
  },
  {
   "cell_type": "code",
   "execution_count": 31,
   "id": "ac7cb8b5-3660-45f7-8c06-f518ac405f51",
   "metadata": {},
   "outputs": [],
   "source": [
    "df_plot = df_new[[\"stroke\",\"bmi\"]]"
   ]
  },
  {
   "cell_type": "code",
   "execution_count": 32,
   "id": "c770525f-8365-4c33-a399-5cedbb1cbd85",
   "metadata": {},
   "outputs": [
    {
     "name": "stderr",
     "output_type": "stream",
     "text": [
      "C:\\Users\\thoun\\AppData\\Local\\Temp/ipykernel_14912/4108149694.py:1: SettingWithCopyWarning: \n",
      "A value is trying to be set on a copy of a slice from a DataFrame.\n",
      "Try using .loc[row_indexer,col_indexer] = value instead\n",
      "\n",
      "See the caveats in the documentation: https://pandas.pydata.org/pandas-docs/stable/user_guide/indexing.html#returning-a-view-versus-a-copy\n",
      "  df_plot[\"q\"] = pd.qcut(df_plot[\"bmi\"], q=4).cat.codes\n"
     ]
    }
   ],
   "source": [
    "df_plot[\"q\"] = pd.qcut(df_plot[\"bmi\"], q=4).cat.codes"
   ]
  },
  {
   "cell_type": "code",
   "execution_count": 33,
   "id": "14e32bd8-ecf8-4d08-874a-56b124a52d85",
   "metadata": {},
   "outputs": [],
   "source": [
    "df_plot = df_plot.drop(columns=\"bmi\")"
   ]
  },
  {
   "cell_type": "code",
   "execution_count": 34,
   "id": "645e7415-7d46-4ccb-ad10-13f6881b6795",
   "metadata": {},
   "outputs": [],
   "source": [
    "df_plot = df_plot.groupby([\"q\", \"stroke\"]).size().reset_index(name='counts')"
   ]
  },
  {
   "cell_type": "code",
   "execution_count": 35,
   "id": "e118b62e-ec0f-42f5-b9e6-e69106bd6e1c",
   "metadata": {},
   "outputs": [
    {
     "data": {
      "image/png": "[encoded data removed]",
      "text/plain": [
       "<Figure size 432x288 with 1 Axes>"
      ]
     },
     "metadata": {
      "needs_background": "light"
     },
     "output_type": "display_data"
    }
   ],
   "source": [
    "#Découper les BMI par groupe de \"obésité\" vs \"sain\"\n",
    "\n",
    "labels = df_plot[\"q\"].unique().tolist()\n",
    "labels = [\"q\"+str(i) for i in labels]\n",
    "#labels = 'q'.join(str(labels) for n in labels)\n",
    "stroke = df_plot[\"counts\"].loc[df_plot[\"stroke\"]==1].tolist()\n",
    "no_stroke = df_plot[\"counts\"].loc[df_plot[\"stroke\"]==0].tolist()\n",
    "\n",
    "width = 0.35\n",
    "\n",
    "fig, ax = plt.subplots()\n",
    "\n",
    "ax.bar(labels, no_stroke, width, label = \"no_Stroke\")\n",
    "ax.bar(labels, stroke, width, bottom = no_stroke, label = \"Stroke\")\n",
    "\n",
    "ax.set_ylabel(\"nb\")\n",
    "ax.set_xlabel(\"Groupe BMI\")\n",
    "ax.legend()\n",
    "\n",
    "plt.show()"
   ]
  },
  {
   "cell_type": "markdown",
   "id": "080067a9-56ed-4885-b98f-25e624ee71f0",
   "metadata": {},
   "source": [
    "<div class= \"alert alert-block alert-info\">\n",
    "Le fait d'être dans une tranche de bmi élevée n'augmente que de peu le risque d'avoir une crise cardiaque.\n",
    "</div>"
   ]
  },
  {
   "cell_type": "markdown",
   "id": "c7d784af",
   "metadata": {},
   "source": [
    "<a class=\"anchor\" name=\"3.2\"></a>\n",
    "## 3.2 Analyse des liaisons entre les variables catégorielles"
   ]
  },
  {
   "cell_type": "code",
   "execution_count": 36,
   "id": "6c35ed36",
   "metadata": {
    "tags": []
   },
   "outputs": [
    {
     "name": "stdout",
     "output_type": "stream",
     "text": [
      "- Statistique :  377.3717444669619 \n",
      "- P-value :  1.2904967632961852e-76 \n",
      "- Degré de liberté :  8\n"
     ]
    },
    {
     "data": {
      "text/html": [
       "<div>\n",
       "<style scoped>\n",
       "    .dataframe tbody tr th:only-of-type {\n",
       "        vertical-align: middle;\n",
       "    }\n",
       "\n",
       "    .dataframe tbody tr th {\n",
       "        vertical-align: top;\n",
       "    }\n",
       "\n",
       "    .dataframe thead th {\n",
       "        text-align: right;\n",
       "    }\n",
       "</style>\n",
       "<table border=\"1\" class=\"dataframe\">\n",
       "  <thead>\n",
       "    <tr style=\"text-align: right;\">\n",
       "      <th>smoking_status</th>\n",
       "      <th>formerly smoked</th>\n",
       "      <th>never smoked</th>\n",
       "      <th>smokes</th>\n",
       "    </tr>\n",
       "    <tr>\n",
       "      <th>work_type</th>\n",
       "      <th></th>\n",
       "      <th></th>\n",
       "      <th></th>\n",
       "    </tr>\n",
       "  </thead>\n",
       "  <tbody>\n",
       "    <tr>\n",
       "      <th>Govt_job</th>\n",
       "      <td>133</td>\n",
       "      <td>404</td>\n",
       "      <td>120</td>\n",
       "    </tr>\n",
       "    <tr>\n",
       "      <th>Never_worked</th>\n",
       "      <td>0</td>\n",
       "      <td>22</td>\n",
       "      <td>0</td>\n",
       "    </tr>\n",
       "    <tr>\n",
       "      <th>Private</th>\n",
       "      <td>531</td>\n",
       "      <td>1851</td>\n",
       "      <td>543</td>\n",
       "    </tr>\n",
       "    <tr>\n",
       "      <th>Self-employed</th>\n",
       "      <td>208</td>\n",
       "      <td>487</td>\n",
       "      <td>124</td>\n",
       "    </tr>\n",
       "    <tr>\n",
       "      <th>children</th>\n",
       "      <td>13</td>\n",
       "      <td>672</td>\n",
       "      <td>2</td>\n",
       "    </tr>\n",
       "  </tbody>\n",
       "</table>\n",
       "</div>"
      ],
      "text/plain": [
       "smoking_status  formerly smoked  never smoked  smokes\n",
       "work_type                                            \n",
       "Govt_job                    133           404     120\n",
       "Never_worked                  0            22       0\n",
       "Private                     531          1851     543\n",
       "Self-employed               208           487     124\n",
       "children                     13           672       2"
      ]
     },
     "execution_count": 36,
     "metadata": {},
     "output_type": "execute_result"
    }
   ],
   "source": [
    "dfcat=df_new[['gender','hypertension','heart_disease','ever_married','work_type','Residence_type','smoking_status','stroke']]\n",
    "\n",
    "\n",
    "table = pd.crosstab(dfcat['work_type'],dfcat['smoking_status'])\n",
    "\n",
    "resultats_test = chi2_contingency(table)\n",
    "statistique = resultats_test[0]\n",
    "p_valeur = resultats_test[1]\n",
    "degre_liberte = resultats_test[2]\n",
    "la_liste = resultats_test[3]\n",
    "print(\"- Statistique : \", statistique, \"\\n- P-value : \", p_valeur, \"\\n- Degré de liberté : \",degre_liberte)\n",
    "\n",
    "table"
   ]
  },
  {
   "cell_type": "markdown",
   "id": "0dd99b74",
   "metadata": {},
   "source": [
    "<div class= \"alert alert-block alert-info\">\n",
    "    P-Value < 5% donc on rejette H0, les variables work_type et Smoking_status sont dépendantes \n",
    "</div>"
   ]
  },
  {
   "cell_type": "code",
   "execution_count": 37,
   "id": "cad102f2",
   "metadata": {
    "tags": []
   },
   "outputs": [
    {
     "name": "stdout",
     "output_type": "stream",
     "text": [
      "- V_Cramer :  0.1901474428195644\n"
     ]
    }
   ],
   "source": [
    "def V_cramer(cont_table, N):\n",
    "    k = cont_table.shape[0]\n",
    "    r = cont_table.shape[1]\n",
    "    k_tilde = k - (k-1)**2/(N-1)\n",
    "    r_tilde = r - (r-1)**2/(N-1)\n",
    "    num = max(0, statistique/N-((k-1)*(r-1))/(N-1))\n",
    "    denom = min(k_tilde-1, r_tilde-1)\n",
    "    v_cramer=np.sqrt(num/denom)\n",
    "    return v_cramer\n",
    "\n",
    "print(\"- V_Cramer : \", V_cramer(table, df_new.shape[0]))\n"
   ]
  },
  {
   "cell_type": "markdown",
   "id": "d12a59cd",
   "metadata": {},
   "source": [
    "<div class= \"alert alert-block alert-info\">\n",
    "    Le V_Cramer n'est pas très élevé (plus proche de 0 que de 1), les variables work_type et Smoking_status ne sont pas très corrélées sans que ce soit négligeable.\n",
    "</div>"
   ]
  },
  {
   "cell_type": "code",
   "execution_count": 38,
   "id": "afdd63ee",
   "metadata": {
    "tags": []
   },
   "outputs": [
    {
     "name": "stdout",
     "output_type": "stream",
     "text": [
      "- Statistique :  90.25956125843324 \n",
      "- P-value :  2.0887845685229236e-21 \n",
      "- Degré de liberté :  1\n",
      "- V_Cramer :  0.1321779325804356\n"
     ]
    }
   ],
   "source": [
    "# Ajout Nathalie : Liaison entre heart_disease et stroke\n",
    "table = pd.crosstab(dfcat['heart_disease'],dfcat['stroke'])\n",
    "resultats_test = chi2_contingency(table)\n",
    "statistique = resultats_test[0]\n",
    "p_valeur = resultats_test[1]\n",
    "degre_liberte = resultats_test[2]\n",
    "la_liste = resultats_test[3]\n",
    "print(\"- Statistique : \", statistique, \"\\n- P-value : \", p_valeur, \"\\n- Degré de liberté : \",degre_liberte)\n",
    "\n",
    "print(\"- V_Cramer : \", V_cramer(table, df.shape[0]))"
   ]
  },
  {
   "cell_type": "markdown",
   "id": "2540027e",
   "metadata": {},
   "source": [
    "<div class= \"alert alert-block alert-info\">\n",
    "    P-Value < 5% donc on rejette H0, les variables heart_disease et stroke sont dépendantes.</br>\n",
    "    Le V_Cramer n'est pas très élevé (plus proche de 0 que de 1), les variables heart_disease et stroke ne sont pas très corrélées sans que ce soit négligeable.\n",
    "</div>"
   ]
  },
  {
   "cell_type": "code",
   "execution_count": 39,
   "id": "94090961",
   "metadata": {
    "tags": []
   },
   "outputs": [
    {
     "data": {
      "image/png": "[encoded data removed]",
      "text/plain": [
       "<Figure size 720x720 with 2 Axes>"
      ]
     },
     "metadata": {
      "needs_background": "light"
     },
     "output_type": "display_data"
    },
    {
     "name": "stderr",
     "output_type": "stream",
     "text": [
      "C:\\Users\\thoun\\AppData\\Local\\Temp/ipykernel_14912/2069395132.py:13: FutureWarning: this method is deprecated in favour of `Styler.format(precision=..)`\n",
      "  df_complete_corr.dropna(axis=1, how='all').dropna(axis=0, how='all').style.background_gradient(cmap='coolwarm', axis=None).set_precision(2)\n"
     ]
    },
    {
     "data": {
      "image/png": "[encoded data removed]",
      "text/plain": [
       "<Figure size 720x720 with 2 Axes>"
      ]
     },
     "metadata": {
      "needs_background": "light"
     },
     "output_type": "display_data"
    }
   ],
   "source": [
    "#https://medium.com/@knoldus/how-to-find-correlation-value-of-categorical-variables-23de7e7a9e26\n",
    "\n",
    "categorical_features=identify_nominal_columns(df)\n",
    "categorical_features\n",
    "['gender','hypertension','heart_disease','ever_married','work_type','Residence_type','smoking_status','stroke']\n",
    "\n",
    "\n",
    "\n",
    "complete_correlation= associations(df_new, filename= 'complete_correlation.png', figsize=(10,10))\n",
    "\n",
    "\n",
    "df_complete_corr=complete_correlation['corr']\n",
    "df_complete_corr.dropna(axis=1, how='all').dropna(axis=0, how='all').style.background_gradient(cmap='coolwarm', axis=None).set_precision(2)\n",
    "\n",
    "\n",
    "\n",
    "categorical_correlation= associations(dfcat, filename= 'categorical_correlation.png', figsize=(10,10))"
   ]
  },
  {
   "cell_type": "markdown",
   "id": "c7c36442",
   "metadata": {},
   "source": [
    "<a class=\"anchor\" name=\"3.3\"></a>\n",
    "## 3.3 Liaison entre variables quantitatives et qualitatives"
   ]
  },
  {
   "cell_type": "code",
   "execution_count": 40,
   "id": "03974b94",
   "metadata": {
    "tags": []
   },
   "outputs": [
    {
     "data": {
      "text/html": [
       "<div>\n",
       "<style scoped>\n",
       "    .dataframe tbody tr th:only-of-type {\n",
       "        vertical-align: middle;\n",
       "    }\n",
       "\n",
       "    .dataframe tbody tr th {\n",
       "        vertical-align: top;\n",
       "    }\n",
       "\n",
       "    .dataframe thead th {\n",
       "        text-align: right;\n",
       "    }\n",
       "</style>\n",
       "<table border=\"1\" class=\"dataframe\">\n",
       "  <thead>\n",
       "    <tr style=\"text-align: right;\">\n",
       "      <th></th>\n",
       "      <th>df</th>\n",
       "      <th>sum_sq</th>\n",
       "      <th>mean_sq</th>\n",
       "      <th>F</th>\n",
       "      <th>PR(&gt;F)</th>\n",
       "    </tr>\n",
       "  </thead>\n",
       "  <tbody>\n",
       "    <tr>\n",
       "      <th>age</th>\n",
       "      <td>1.0</td>\n",
       "      <td>14.247810</td>\n",
       "      <td>14.247810</td>\n",
       "      <td>326.916568</td>\n",
       "      <td>7.030778e-71</td>\n",
       "    </tr>\n",
       "    <tr>\n",
       "      <th>Residual</th>\n",
       "      <td>5108.0</td>\n",
       "      <td>222.618922</td>\n",
       "      <td>0.043582</td>\n",
       "      <td>NaN</td>\n",
       "      <td>NaN</td>\n",
       "    </tr>\n",
       "  </tbody>\n",
       "</table>\n",
       "</div>"
      ],
      "text/plain": [
       "              df      sum_sq    mean_sq           F        PR(>F)\n",
       "age          1.0   14.247810  14.247810  326.916568  7.030778e-71\n",
       "Residual  5108.0  222.618922   0.043582         NaN           NaN"
      ]
     },
     "execution_count": 40,
     "metadata": {},
     "output_type": "execute_result"
    }
   ],
   "source": [
    "# Ajout Nathalie\n",
    "\n",
    "# Analyse de l'influence de age sur stroke\n",
    "result = statsmodels.formula.api.ols('stroke ~ age', data=df).fit()\n",
    "table = statsmodels.api.stats.anova_lm(result)\n",
    "\n",
    "table"
   ]
  },
  {
   "cell_type": "markdown",
   "id": "15392bc2",
   "metadata": {},
   "source": [
    "<div class= \"alert alert-block alert-info\">\n",
    "    La p-value (PR(>F)) est inférieur à 5% donc on rejette l'hypothèse selon laquelle l'âge n'influe pas sur stroke.\n",
    "</div>"
   ]
  },
  {
   "cell_type": "markdown",
   "id": "ac3df489",
   "metadata": {},
   "source": [
    "## Festival de graphique"
   ]
  },
  {
   "cell_type": "code",
   "execution_count": 41,
   "id": "b6b9e199",
   "metadata": {
    "tags": []
   },
   "outputs": [
    {
     "name": "stderr",
     "output_type": "stream",
     "text": [
      "No handles with labels found to put in legend.\n"
     ]
    },
    {
     "data": {
      "image/png": "[encoded data removed]",
      "text/plain": [
       "<Figure size 432x288 with 1 Axes>"
      ]
     },
     "metadata": {
      "needs_background": "light"
     },
     "output_type": "display_data"
    }
   ],
   "source": [
    "N1 = len(df_new[df_new['stroke']==0])\n",
    "N2 = len(df_new[df_new['stroke'] == 1])\n",
    "\n",
    "\n",
    "plt.bar([1],[N1], color = ['green'], width =  [0.6,0.5])\n",
    "plt.bar([2],[N2], color = ['red'], width =  [0.6,0.5])\n",
    "\n",
    "plt.xticks([1,2], ['Sans Crises Cardiaque','Crises Cardiaque'])\n",
    "\n",
    "\n",
    "plt.ylabel('Nombre de cas')\n",
    "\n",
    "\n",
    "plt.text(1,N1,N1)\n",
    "plt.text(2,N2,N2)\n",
    "plt.legend();"
   ]
  },
  {
   "cell_type": "code",
   "execution_count": 42,
   "id": "bb804f1f",
   "metadata": {
    "tags": []
   },
   "outputs": [
    {
     "name": "stderr",
     "output_type": "stream",
     "text": [
      "No handles with labels found to put in legend.\n"
     ]
    },
    {
     "data": {
      "image/png": "[encoded data removed]",
      "text/plain": [
       "<Figure size 432x288 with 1 Axes>"
      ]
     },
     "metadata": {
      "needs_background": "light"
     },
     "output_type": "display_data"
    }
   ],
   "source": [
    "N1 = len(df_new[df_new['Residence_type']=='Rural'])\n",
    "N2 = len(df_new[df_new['Residence_type'] == 'Urban'])\n",
    "\n",
    "\n",
    "plt.bar([1],[N1], color = ['green'], width =  [0.6,0.5])\n",
    "plt.bar([2],[N2], color = ['grey'], width =  [0.6,0.5])\n",
    "\n",
    "plt.xticks([1,2], ['Rural','Urban'])\n",
    "\n",
    "\n",
    "plt.ylabel('Nombre de cas')\n",
    "\n",
    "\n",
    "plt.text(1,N1,N1)\n",
    "plt.text(2,N2,N2)\n",
    "plt.legend();"
   ]
  },
  {
   "cell_type": "code",
   "execution_count": 43,
   "id": "348aa804-fc95-4541-b09b-47bc0b7caefa",
   "metadata": {
    "tags": []
   },
   "outputs": [
    {
     "data": {
      "text/html": [
       "<div>\n",
       "<style scoped>\n",
       "    .dataframe tbody tr th:only-of-type {\n",
       "        vertical-align: middle;\n",
       "    }\n",
       "\n",
       "    .dataframe tbody tr th {\n",
       "        vertical-align: top;\n",
       "    }\n",
       "\n",
       "    .dataframe thead th {\n",
       "        text-align: right;\n",
       "    }\n",
       "</style>\n",
       "<table border=\"1\" class=\"dataframe\">\n",
       "  <thead>\n",
       "    <tr style=\"text-align: right;\">\n",
       "      <th></th>\n",
       "      <th>stroke</th>\n",
       "    </tr>\n",
       "    <tr>\n",
       "      <th>age_classes</th>\n",
       "      <th></th>\n",
       "    </tr>\n",
       "  </thead>\n",
       "  <tbody>\n",
       "    <tr>\n",
       "      <th>0</th>\n",
       "      <td>2</td>\n",
       "    </tr>\n",
       "    <tr>\n",
       "      <th>1</th>\n",
       "      <td>11</td>\n",
       "    </tr>\n",
       "    <tr>\n",
       "      <th>2</th>\n",
       "      <td>65</td>\n",
       "    </tr>\n",
       "    <tr>\n",
       "      <th>3</th>\n",
       "      <td>171</td>\n",
       "    </tr>\n",
       "  </tbody>\n",
       "</table>\n",
       "</div>"
      ],
      "text/plain": [
       "             stroke\n",
       "age_classes        \n",
       "0                 2\n",
       "1                11\n",
       "2                65\n",
       "3               171"
      ]
     },
     "execution_count": 43,
     "metadata": {},
     "output_type": "execute_result"
    }
   ],
   "source": [
    "df_ca_pos = df_ca[df_ca.stroke==1].groupby(['age_classes']).agg({'stroke' : 'count'})\n",
    "df_ca_pos\n"
   ]
  },
  {
   "cell_type": "code",
   "execution_count": 44,
   "id": "e73dfe8a",
   "metadata": {},
   "outputs": [
    {
     "data": {
      "image/png": "[encoded data removed]",
      "text/plain": [
       "<Figure size 576x576 with 1 Axes>"
      ]
     },
     "metadata": {
      "needs_background": "light"
     },
     "output_type": "display_data"
    }
   ],
   "source": [
    "# Représentation du nombre de cas positifs pour chaque classe d'âge\n",
    "#df_ca_pos.plot(kind='bar', title='Représentation du nombre de cas positifs pour chaque classe d âge', legend=True)\n",
    "#axes.set_xlabel('axe des x');\n",
    "plt.figure(figsize=(8,8))\n",
    "plt.bar(range(4), df_ca_pos.stroke , color = 'green', width = 0.6)\n",
    "plt.xlabel('Classes d âge')\n",
    "plt.ylabel('Nombre de crises cardiaques')\n",
    "plt.xticks(range(4), [\"De 0 à 25 ans\",\"De 26 à 45 ans\",\"De 46 à 61 ans\",\"De 62 à 82 ans\"])\n",
    "plt.title('Représentation du nombre de cas positifs pour chaque classe d âge');"
   ]
  },
  {
   "cell_type": "markdown",
   "id": "9804dd17",
   "metadata": {},
   "source": [
    "<a class=\"anchor\" name=\"4\"></a>\n",
    "# 4.Implémentation des algorithmes de Machine Learning"
   ]
  },
  {
   "cell_type": "markdown",
   "id": "67638e46-ed79-4c90-913d-7d3016ddf91e",
   "metadata": {},
   "source": [
    "## a. Régression Logistique"
   ]
  },
  {
   "cell_type": "code",
   "execution_count": 45,
   "id": "78e0e552",
   "metadata": {
    "scrolled": true
   },
   "outputs": [],
   "source": [
    "# Transformation des variables catégorielle pour que le modèle les accepte\n",
    "df_new.gender.replace(['Male','Female', 'Other'], [0, 1, 2], inplace=True)\n",
    "df_new.ever_married.replace(['Yes','No'], [0, 1], inplace=True)\n",
    "df_new.work_type.replace(['Private','Self-employed', 'Govt_job', 'Never_worked', 'children'], [0, 1, 2, 3, 4], inplace=True)\n",
    "df_new.Residence_type.replace(['Rural','Urban'], [0, 1], inplace=True)\n",
    "df_new.smoking_status.replace(['formerly smoked','never smoked', 'smokes'], [0, 1, 2], inplace=True)\n",
    "\n",
    "# Séparation des données en variables explicatives et variable cible\n",
    "X = df_new.drop(\"stroke\", axis=1)\n",
    "y = df_new.stroke"
   ]
  },
  {
   "cell_type": "code",
   "execution_count": 46,
   "id": "1b14da9f",
   "metadata": {},
   "outputs": [],
   "source": [
    "# Standardisation des données\n",
    "# On instancie StandardScaler\n",
    "scaler=StandardScaler()\n",
    "X_scaled_=scaler.fit(X).transform(X)\n",
    "X_scaled=pd.DataFrame(X_scaled_)"
   ]
  },
  {
   "cell_type": "code",
   "execution_count": 47,
   "id": "14b9d024",
   "metadata": {},
   "outputs": [
    {
     "data": {
      "text/html": [
       "<div>\n",
       "<style scoped>\n",
       "    .dataframe tbody tr th:only-of-type {\n",
       "        vertical-align: middle;\n",
       "    }\n",
       "\n",
       "    .dataframe tbody tr th {\n",
       "        vertical-align: top;\n",
       "    }\n",
       "\n",
       "    .dataframe thead th {\n",
       "        text-align: right;\n",
       "    }\n",
       "</style>\n",
       "<table border=\"1\" class=\"dataframe\">\n",
       "  <thead>\n",
       "    <tr style=\"text-align: right;\">\n",
       "      <th></th>\n",
       "      <th>gender</th>\n",
       "      <th>age</th>\n",
       "      <th>hypertension</th>\n",
       "      <th>heart_disease</th>\n",
       "      <th>ever_married</th>\n",
       "      <th>work_type</th>\n",
       "      <th>Residence_type</th>\n",
       "      <th>avg_glucose_level</th>\n",
       "      <th>bmi</th>\n",
       "      <th>smoking_status</th>\n",
       "      <th>stroke</th>\n",
       "    </tr>\n",
       "    <tr>\n",
       "      <th>id</th>\n",
       "      <th></th>\n",
       "      <th></th>\n",
       "      <th></th>\n",
       "      <th></th>\n",
       "      <th></th>\n",
       "      <th></th>\n",
       "      <th></th>\n",
       "      <th></th>\n",
       "      <th></th>\n",
       "      <th></th>\n",
       "      <th></th>\n",
       "    </tr>\n",
       "  </thead>\n",
       "  <tbody>\n",
       "    <tr>\n",
       "      <th>9046</th>\n",
       "      <td>0</td>\n",
       "      <td>67.0</td>\n",
       "      <td>0</td>\n",
       "      <td>1</td>\n",
       "      <td>0</td>\n",
       "      <td>0</td>\n",
       "      <td>1</td>\n",
       "      <td>228.69</td>\n",
       "      <td>36.600000</td>\n",
       "      <td>0</td>\n",
       "      <td>1</td>\n",
       "    </tr>\n",
       "    <tr>\n",
       "      <th>51676</th>\n",
       "      <td>1</td>\n",
       "      <td>61.0</td>\n",
       "      <td>0</td>\n",
       "      <td>0</td>\n",
       "      <td>0</td>\n",
       "      <td>1</td>\n",
       "      <td>0</td>\n",
       "      <td>202.21</td>\n",
       "      <td>28.893237</td>\n",
       "      <td>1</td>\n",
       "      <td>1</td>\n",
       "    </tr>\n",
       "    <tr>\n",
       "      <th>31112</th>\n",
       "      <td>0</td>\n",
       "      <td>80.0</td>\n",
       "      <td>0</td>\n",
       "      <td>1</td>\n",
       "      <td>0</td>\n",
       "      <td>0</td>\n",
       "      <td>0</td>\n",
       "      <td>105.92</td>\n",
       "      <td>32.500000</td>\n",
       "      <td>1</td>\n",
       "      <td>1</td>\n",
       "    </tr>\n",
       "    <tr>\n",
       "      <th>60182</th>\n",
       "      <td>1</td>\n",
       "      <td>49.0</td>\n",
       "      <td>0</td>\n",
       "      <td>0</td>\n",
       "      <td>0</td>\n",
       "      <td>0</td>\n",
       "      <td>1</td>\n",
       "      <td>171.23</td>\n",
       "      <td>34.400000</td>\n",
       "      <td>2</td>\n",
       "      <td>1</td>\n",
       "    </tr>\n",
       "    <tr>\n",
       "      <th>1665</th>\n",
       "      <td>1</td>\n",
       "      <td>79.0</td>\n",
       "      <td>1</td>\n",
       "      <td>0</td>\n",
       "      <td>0</td>\n",
       "      <td>1</td>\n",
       "      <td>0</td>\n",
       "      <td>174.12</td>\n",
       "      <td>24.000000</td>\n",
       "      <td>1</td>\n",
       "      <td>1</td>\n",
       "    </tr>\n",
       "  </tbody>\n",
       "</table>\n",
       "</div>"
      ],
      "text/plain": [
       "       gender   age  hypertension  heart_disease  ever_married  work_type  \\\n",
       "id                                                                          \n",
       "9046        0  67.0             0              1             0          0   \n",
       "51676       1  61.0             0              0             0          1   \n",
       "31112       0  80.0             0              1             0          0   \n",
       "60182       1  49.0             0              0             0          0   \n",
       "1665        1  79.0             1              0             0          1   \n",
       "\n",
       "       Residence_type  avg_glucose_level        bmi  smoking_status  stroke  \n",
       "id                                                                           \n",
       "9046                1             228.69  36.600000               0       1  \n",
       "51676               0             202.21  28.893237               1       1  \n",
       "31112               0             105.92  32.500000               1       1  \n",
       "60182               1             171.23  34.400000               2       1  \n",
       "1665                0             174.12  24.000000               1       1  "
      ]
     },
     "execution_count": 47,
     "metadata": {},
     "output_type": "execute_result"
    }
   ],
   "source": [
    "# Séparation des données en jeu de d'entrainement et de test\n",
    "X_train,X_test,y_train,y_test = train_test_split(X_scaled,y,test_size=0.3,random_state=42)\n",
    "df_new.head()"
   ]
  },
  {
   "cell_type": "code",
   "execution_count": 48,
   "id": "2d9b27c6",
   "metadata": {},
   "outputs": [
    {
     "name": "stdout",
     "output_type": "stream",
     "text": [
      "Accuracy :  0.9419439008480104\n",
      "Balanced Accuracy :  0.5\n"
     ]
    },
    {
     "data": {
      "text/plain": [
       "array([[1444,    0],\n",
       "       [  89,    0]], dtype=int64)"
      ]
     },
     "execution_count": 48,
     "metadata": {},
     "output_type": "execute_result"
    }
   ],
   "source": [
    "# sans oversampling\n",
    "# Entraînement du modèle de régression logistique\n",
    "\n",
    "lr = LogisticRegression()\n",
    "lr.fit(X_train, y_train)\n",
    "\n",
    "# Affichage des résultats\n",
    "y_pred = lr.predict(X_test)\n",
    "\n",
    "# Evaluation du modèle avec les métriques\n",
    "print(\"Accuracy : \", accuracy_score(y_test, y_pred))\n",
    "print(\"Balanced Accuracy : \", balanced_accuracy_score(y_test, y_pred))\n",
    "confusion_matrix(y_test, y_pred)"
   ]
  },
  {
   "cell_type": "markdown",
   "id": "dea5276a",
   "metadata": {},
   "source": [
    "<div class= \"alert alert-block alert-info\">\n",
    "L'accuracy est excellente mais la Balanced accuracy est moins bonne, le déséquilibre des classes influence donc les performances du modèle pour trouver les cas positifs, il est nécessaire de faire de l'oversampling.\n",
    "</div>"
   ]
  },
  {
   "cell_type": "code",
   "execution_count": 57,
   "id": "35d00961",
   "metadata": {},
   "outputs": [
    {
     "data": {
      "text/plain": [
       "0    3417\n",
       "1    3417\n",
       "Name: stroke, dtype: int64"
      ]
     },
     "execution_count": 57,
     "metadata": {},
     "output_type": "execute_result"
    }
   ],
   "source": [
    "# Sur-échantillonnage\n",
    "rOs = RandomOverSampler(sampling_strategy='minority')\n",
    "X_ro, y_ro = rOs.fit_resample(X_train, y_train)\n",
    "X_ro.shape\n",
    "y_ro.value_counts()"
   ]
  },
  {
   "cell_type": "code",
   "execution_count": 50,
   "id": "5cc43ae7",
   "metadata": {},
   "outputs": [
    {
     "name": "stdout",
     "output_type": "stream",
     "text": [
      "                   pre       rec       spe        f1       geo       iba       sup\n",
      "\n",
      "          0       0.98      0.74      0.73      0.85      0.74      0.54      1444\n",
      "          1       0.15      0.73      0.74      0.25      0.74      0.54        89\n",
      "\n",
      "avg / total       0.93      0.74      0.73      0.81      0.74      0.54      1533\n",
      "\n",
      "Accuracy :  0.7429876060013046\n",
      "Balanced Accuracy :  0.737052195835538\n"
     ]
    },
    {
     "data": {
      "text/plain": [
       "array([[1074,  370],\n",
       "       [  24,   65]], dtype=int64)"
      ]
     },
     "execution_count": 50,
     "metadata": {},
     "output_type": "execute_result"
    }
   ],
   "source": [
    "# Régression Logistique\n",
    "# Entraînement du modèle de régression logistique\n",
    "lr1 = LogisticRegression()\n",
    "lr1.fit(X_ro, y_ro)\n",
    "\n",
    "# Affichage des résultats\n",
    "y_pred = lr1.predict(X_test)\n",
    "# Evaluation du modèle avec les métriques\n",
    "print(classification_report_imbalanced(y_test, y_pred))\n",
    "print(\"Accuracy : \", accuracy_score(y_test, y_pred))\n",
    "print(\"Balanced Accuracy : \", balanced_accuracy_score(y_test, y_pred))\n",
    "confusion_matrix(y_test, y_pred)"
   ]
  },
  {
   "cell_type": "markdown",
   "id": "7209338f",
   "metadata": {},
   "source": [
    "<div class= \"alert alert-block alert-info\">\n",
    "L'accuracy est moins bonne quand dans le premier test mais la Balanced accuracy est meilleure, on obtient une prévision qui est plus équilibrée entre les 2 classes.\n",
    "</div>"
   ]
  },
  {
   "cell_type": "markdown",
   "id": "244045b2-ca1f-4147-a7a1-93f2df18053e",
   "metadata": {},
   "source": [
    "### b. SVC"
   ]
  },
  {
   "cell_type": "code",
   "execution_count": 52,
   "id": "c681d3b8",
   "metadata": {},
   "outputs": [
    {
     "ename": "NameError",
     "evalue": "name 'dataTest' is not defined",
     "output_type": "error",
     "traceback": [
      "\u001b[1;31m---------------------------------------------------------------------------\u001b[0m",
      "\u001b[1;31mNameError\u001b[0m                                 Traceback (most recent call last)",
      "\u001b[1;32m~\\AppData\\Local\\Temp/ipykernel_14912/1636303673.py\u001b[0m in \u001b[0;36m<module>\u001b[1;34m\u001b[0m\n\u001b[0;32m      4\u001b[0m \u001b[0mmodel\u001b[0m\u001b[1;33m.\u001b[0m\u001b[0mfit\u001b[0m\u001b[1;33m(\u001b[0m\u001b[0mX_ro\u001b[0m\u001b[1;33m,\u001b[0m\u001b[0my_ro\u001b[0m\u001b[1;33m)\u001b[0m\u001b[1;33m\u001b[0m\u001b[1;33m\u001b[0m\u001b[0m\n\u001b[0;32m      5\u001b[0m \u001b[1;33m\u001b[0m\u001b[0m\n\u001b[1;32m----> 6\u001b[1;33m \u001b[0mpredicData\u001b[0m\u001b[1;33m=\u001b[0m\u001b[0mmodel\u001b[0m\u001b[1;33m.\u001b[0m\u001b[0mpredict\u001b[0m\u001b[1;33m(\u001b[0m\u001b[0mdataTest\u001b[0m\u001b[1;33m)\u001b[0m\u001b[1;33m\u001b[0m\u001b[1;33m\u001b[0m\u001b[0m\n\u001b[0m\u001b[0;32m      7\u001b[0m \u001b[0mconfusion_matrix\u001b[0m\u001b[1;33m(\u001b[0m\u001b[0mX_ro\u001b[0m\u001b[1;33m,\u001b[0m\u001b[0my_ro\u001b[0m\u001b[1;33m)\u001b[0m\u001b[1;33m\u001b[0m\u001b[1;33m\u001b[0m\u001b[0m\n",
      "\u001b[1;31mNameError\u001b[0m: name 'dataTest' is not defined"
     ]
    }
   ],
   "source": [
    "#Modèle SVC\n",
    "\n",
    "model=SVC()\n",
    "model.fit(X_ro,y_ro)\n",
    "\n",
    "predicData=model.predict(dataTest)\n",
    "confusion_matrix(X_ro,y_ro)"
   ]
  },
  {
   "cell_type": "markdown",
   "id": "b1f9517c-dbcd-423e-b25e-60d32b07cefa",
   "metadata": {},
   "source": [
    "### c. PCA"
   ]
  },
  {
   "cell_type": "code",
   "execution_count": null,
   "id": "0526149b-3238-4cc4-99f6-b85c954ff300",
   "metadata": {},
   "outputs": [],
   "source": []
  },
  {
   "cell_type": "code",
   "execution_count": 53,
   "id": "e0b5e93b-112b-47f0-8a7e-d2bcd81a5431",
   "metadata": {},
   "outputs": [
    {
     "data": {
      "image/png": "[encoded data removed]",
      "text/plain": [
       "<Figure size 900x600 with 1 Axes>"
      ]
     },
     "metadata": {
      "needs_background": "light"
     },
     "output_type": "display_data"
    }
   ],
   "source": [
    "liste = []\n",
    "\n",
    "for i in range(1,10):\n",
    "    pca = PCA(n_components=i)\n",
    "    pca.fit(scaler.fit(X).transform(X))\n",
    "    liste.append(sum(pca.explained_variance_ratio_))\n",
    "\n",
    "fig,ax = plt.subplots(dpi=150)\n",
    "\n",
    "ax.yaxis.set_ticks_position(\"left\")\n",
    "ax.xaxis.set_ticks_position(\"bottom\")\n",
    "\n",
    "plt.plot(np.arange(1,10),liste)\n",
    "plt.xticks(np.arange(1,10, step=1))\n",
    "\n",
    "plt.xlabel(\"Nombre de dimensions\")\n",
    "plt.ylabel(\"Somme des variances expliquées\")\n",
    "\n",
    "plt.show();"
   ]
  },
  {
   "cell_type": "code",
   "execution_count": null,
   "id": "fcd8a09b-0a78-475f-b2b4-58ac7cc1f7bd",
   "metadata": {},
   "outputs": [],
   "source": []
  }
 ],
 "metadata": {
  "kernelspec": {
   "display_name": "Python 3 (ipykernel)",
   "language": "python",
   "name": "python3"
  },
  "language_info": {
   "codemirror_mode": {
    "name": "ipython",
    "version": 3
   },
   "file_extension": ".py",
   "mimetype": "text/x-python",
   "name": "python",
   "nbconvert_exporter": "python",
   "pygments_lexer": "ipython3",
   "version": "3.9.7"
  }
 },
 "nbformat": 4,
 "nbformat_minor": 5
}
