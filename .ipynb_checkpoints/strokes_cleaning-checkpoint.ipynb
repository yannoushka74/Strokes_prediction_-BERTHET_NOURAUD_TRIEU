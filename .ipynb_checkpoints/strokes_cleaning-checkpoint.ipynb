{
 "cells": [
  {
   "cell_type": "code",
   "execution_count": 1,
   "id": "486d97ae-cd60-4b56-8b49-00042454f8ec",
   "metadata": {},
   "outputs": [],
   "source": [
    "import pandas as pd\n",
    "import numpy as np"
   ]
  },
  {
   "cell_type": "markdown",
   "id": "fcb6461a",
   "metadata": {},
   "source": [
    "## Exploration des données"
   ]
  },
  {
   "cell_type": "code",
   "execution_count": 2,
   "id": "c76e1971-737f-4ef7-a1f3-8584850c0f0e",
   "metadata": {},
   "outputs": [
    {
     "data": {
      "text/html": [
       "<div>\n",
       "<style scoped>\n",
       "    .dataframe tbody tr th:only-of-type {\n",
       "        vertical-align: middle;\n",
       "    }\n",
       "\n",
       "    .dataframe tbody tr th {\n",
       "        vertical-align: top;\n",
       "    }\n",
       "\n",
       "    .dataframe thead th {\n",
       "        text-align: right;\n",
       "    }\n",
       "</style>\n",
       "<table border=\"1\" class=\"dataframe\">\n",
       "  <thead>\n",
       "    <tr style=\"text-align: right;\">\n",
       "      <th></th>\n",
       "      <th>gender</th>\n",
       "      <th>age</th>\n",
       "      <th>hypertension</th>\n",
       "      <th>heart_disease</th>\n",
       "      <th>ever_married</th>\n",
       "      <th>work_type</th>\n",
       "      <th>Residence_type</th>\n",
       "      <th>avg_glucose_level</th>\n",
       "      <th>bmi</th>\n",
       "      <th>smoking_status</th>\n",
       "      <th>stroke</th>\n",
       "    </tr>\n",
       "    <tr>\n",
       "      <th>id</th>\n",
       "      <th></th>\n",
       "      <th></th>\n",
       "      <th></th>\n",
       "      <th></th>\n",
       "      <th></th>\n",
       "      <th></th>\n",
       "      <th></th>\n",
       "      <th></th>\n",
       "      <th></th>\n",
       "      <th></th>\n",
       "      <th></th>\n",
       "    </tr>\n",
       "  </thead>\n",
       "  <tbody>\n",
       "    <tr>\n",
       "      <th>9046</th>\n",
       "      <td>Male</td>\n",
       "      <td>67.0</td>\n",
       "      <td>0</td>\n",
       "      <td>1</td>\n",
       "      <td>Yes</td>\n",
       "      <td>Private</td>\n",
       "      <td>Urban</td>\n",
       "      <td>228.69</td>\n",
       "      <td>36.6</td>\n",
       "      <td>formerly smoked</td>\n",
       "      <td>1</td>\n",
       "    </tr>\n",
       "    <tr>\n",
       "      <th>51676</th>\n",
       "      <td>Female</td>\n",
       "      <td>61.0</td>\n",
       "      <td>0</td>\n",
       "      <td>0</td>\n",
       "      <td>Yes</td>\n",
       "      <td>Self-employed</td>\n",
       "      <td>Rural</td>\n",
       "      <td>202.21</td>\n",
       "      <td>NaN</td>\n",
       "      <td>never smoked</td>\n",
       "      <td>1</td>\n",
       "    </tr>\n",
       "    <tr>\n",
       "      <th>31112</th>\n",
       "      <td>Male</td>\n",
       "      <td>80.0</td>\n",
       "      <td>0</td>\n",
       "      <td>1</td>\n",
       "      <td>Yes</td>\n",
       "      <td>Private</td>\n",
       "      <td>Rural</td>\n",
       "      <td>105.92</td>\n",
       "      <td>32.5</td>\n",
       "      <td>never smoked</td>\n",
       "      <td>1</td>\n",
       "    </tr>\n",
       "    <tr>\n",
       "      <th>60182</th>\n",
       "      <td>Female</td>\n",
       "      <td>49.0</td>\n",
       "      <td>0</td>\n",
       "      <td>0</td>\n",
       "      <td>Yes</td>\n",
       "      <td>Private</td>\n",
       "      <td>Urban</td>\n",
       "      <td>171.23</td>\n",
       "      <td>34.4</td>\n",
       "      <td>smokes</td>\n",
       "      <td>1</td>\n",
       "    </tr>\n",
       "    <tr>\n",
       "      <th>1665</th>\n",
       "      <td>Female</td>\n",
       "      <td>79.0</td>\n",
       "      <td>1</td>\n",
       "      <td>0</td>\n",
       "      <td>Yes</td>\n",
       "      <td>Self-employed</td>\n",
       "      <td>Rural</td>\n",
       "      <td>174.12</td>\n",
       "      <td>24.0</td>\n",
       "      <td>never smoked</td>\n",
       "      <td>1</td>\n",
       "    </tr>\n",
       "  </tbody>\n",
       "</table>\n",
       "</div>"
      ],
      "text/plain": [
       "       gender   age  hypertension  heart_disease ever_married      work_type  \\\n",
       "id                                                                             \n",
       "9046     Male  67.0             0              1          Yes        Private   \n",
       "51676  Female  61.0             0              0          Yes  Self-employed   \n",
       "31112    Male  80.0             0              1          Yes        Private   \n",
       "60182  Female  49.0             0              0          Yes        Private   \n",
       "1665   Female  79.0             1              0          Yes  Self-employed   \n",
       "\n",
       "      Residence_type  avg_glucose_level   bmi   smoking_status  stroke  \n",
       "id                                                                      \n",
       "9046           Urban             228.69  36.6  formerly smoked       1  \n",
       "51676          Rural             202.21   NaN     never smoked       1  \n",
       "31112          Rural             105.92  32.5     never smoked       1  \n",
       "60182          Urban             171.23  34.4           smokes       1  \n",
       "1665           Rural             174.12  24.0     never smoked       1  "
      ]
     },
     "execution_count": 2,
     "metadata": {},
     "output_type": "execute_result"
    }
   ],
   "source": [
    "df = pd.read_csv(\"strokes.csv\", index_col=\"id\")\n",
    "df.head()"
   ]
  },
  {
   "cell_type": "code",
   "execution_count": 3,
   "id": "be2e7c7a",
   "metadata": {},
   "outputs": [
    {
     "name": "stdout",
     "output_type": "stream",
     "text": [
      "- Nombre d'observations et de variables :  (5110, 11) \n",
      "\n",
      "- Variables explicatives/expliquée et type : \n",
      "<class 'pandas.core.frame.DataFrame'>\n",
      "Int64Index: 5110 entries, 9046 to 44679\n",
      "Data columns (total 11 columns):\n",
      " #   Column             Non-Null Count  Dtype  \n",
      "---  ------             --------------  -----  \n",
      " 0   gender             5110 non-null   object \n",
      " 1   age                5110 non-null   float64\n",
      " 2   hypertension       5110 non-null   int64  \n",
      " 3   heart_disease      5110 non-null   int64  \n",
      " 4   ever_married       5110 non-null   object \n",
      " 5   work_type          5110 non-null   object \n",
      " 6   Residence_type     5110 non-null   object \n",
      " 7   avg_glucose_level  5110 non-null   float64\n",
      " 8   bmi                4909 non-null   float64\n",
      " 9   smoking_status     5110 non-null   object \n",
      " 10  stroke             5110 non-null   int64  \n",
      "dtypes: float64(3), int64(3), object(5)\n",
      "memory usage: 479.1+ KB\n"
     ]
    }
   ],
   "source": [
    "print(\"- Nombre d'observations et de variables : \", df.shape,'\\n')\n",
    "print(\"- Variables explicatives/expliquée et type : \")\n",
    "df.info()"
   ]
  },
  {
   "cell_type": "code",
   "execution_count": 4,
   "id": "a0224a74",
   "metadata": {},
   "outputs": [
    {
     "name": "stdout",
     "output_type": "stream",
     "text": [
      "['Male' 'Female' 'Other']\n",
      "[6.70e+01 6.10e+01 8.00e+01 4.90e+01 7.90e+01 8.10e+01 7.40e+01 6.90e+01\n",
      " 5.90e+01 7.80e+01 5.40e+01 5.00e+01 6.40e+01 7.50e+01 6.00e+01 5.70e+01\n",
      " 7.10e+01 5.20e+01 8.20e+01 6.50e+01 5.80e+01 4.20e+01 4.80e+01 7.20e+01\n",
      " 6.30e+01 7.60e+01 3.90e+01 7.70e+01 7.30e+01 5.60e+01 4.50e+01 7.00e+01\n",
      " 6.60e+01 5.10e+01 4.30e+01 6.80e+01 4.70e+01 5.30e+01 3.80e+01 5.50e+01\n",
      " 1.32e+00 4.60e+01 3.20e+01 1.40e+01 3.00e+00 8.00e+00 3.70e+01 4.00e+01\n",
      " 3.50e+01 2.00e+01 4.40e+01 2.50e+01 2.70e+01 2.30e+01 1.70e+01 1.30e+01\n",
      " 4.00e+00 1.60e+01 2.20e+01 3.00e+01 2.90e+01 1.10e+01 2.10e+01 1.80e+01\n",
      " 3.30e+01 2.40e+01 3.40e+01 3.60e+01 6.40e-01 4.10e+01 8.80e-01 5.00e+00\n",
      " 2.60e+01 3.10e+01 7.00e+00 1.20e+01 6.20e+01 2.00e+00 9.00e+00 1.50e+01\n",
      " 2.80e+01 1.00e+01 1.80e+00 3.20e-01 1.08e+00 1.90e+01 6.00e+00 1.16e+00\n",
      " 1.00e+00 1.40e+00 1.72e+00 2.40e-01 1.64e+00 1.56e+00 7.20e-01 1.88e+00\n",
      " 1.24e+00 8.00e-01 4.00e-01 8.00e-02 1.48e+00 5.60e-01 4.80e-01 1.60e-01]\n",
      "[0 1]\n",
      "[1 0]\n",
      "['Yes' 'No']\n",
      "['Private' 'Self-employed' 'Govt_job' 'children' 'Never_worked']\n",
      "['Urban' 'Rural']\n",
      "[228.69 202.21 105.92 ...  82.99 166.29  85.28]\n",
      "[36.6  nan 32.5 34.4 24.  29.  27.4 22.8 24.2 29.7 36.8 27.3 28.2 30.9\n",
      " 37.5 25.8 37.8 22.4 48.9 26.6 27.2 23.5 28.3 44.2 25.4 22.2 30.5 26.5\n",
      " 33.7 23.1 32.  29.9 23.9 28.5 26.4 20.2 33.6 38.6 39.2 27.7 31.4 36.5\n",
      " 33.2 32.8 40.4 25.3 30.2 47.5 20.3 30.  28.9 28.1 31.1 21.7 27.  24.1\n",
      " 45.9 44.1 22.9 29.1 32.3 41.1 25.6 29.8 26.3 26.2 29.4 24.4 28.  28.8\n",
      " 34.6 19.4 30.3 41.5 22.6 56.6 27.1 31.3 31.  31.7 35.8 28.4 20.1 26.7\n",
      " 38.7 34.9 25.  23.8 21.8 27.5 24.6 32.9 26.1 31.9 34.1 36.9 37.3 45.7\n",
      " 34.2 23.6 22.3 37.1 45.  25.5 30.8 37.4 34.5 27.9 29.5 46.  42.5 35.5\n",
      " 26.9 45.5 31.5 33.  23.4 30.7 20.5 21.5 40.  28.6 42.2 29.6 35.4 16.9\n",
      " 26.8 39.3 32.6 35.9 21.2 42.4 40.5 36.7 29.3 19.6 18.  17.6 19.1 50.1\n",
      " 17.7 54.6 35.  22.  39.4 19.7 22.5 25.2 41.8 60.9 23.7 24.5 31.2 16.\n",
      " 31.6 25.1 24.8 18.3 20.  19.5 36.  35.3 40.1 43.1 21.4 34.3 27.6 16.5\n",
      " 24.3 25.7 21.9 38.4 25.9 54.7 18.6 24.9 48.2 20.7 39.5 23.3 64.8 35.1\n",
      " 43.6 21.  47.3 16.6 21.6 15.5 35.6 16.7 41.9 16.4 17.1 29.2 37.9 44.6\n",
      " 39.6 40.3 41.6 39.  23.2 18.9 36.1 36.3 46.5 16.8 46.6 35.2 20.9 13.8\n",
      " 31.8 15.3 38.2 45.2 17.  49.8 27.8 60.2 23.  22.1 26.  44.3 51.  39.7\n",
      " 34.7 21.3 41.2 34.8 19.2 35.7 40.8 24.7 19.  32.4 34.  28.7 32.1 51.5\n",
      " 20.4 30.6 71.9 19.3 40.9 17.2 16.1 16.2 40.6 18.4 21.1 42.3 32.2 50.2\n",
      " 17.5 18.7 42.1 47.8 20.8 30.1 17.3 36.4 12.  36.2 55.7 14.4 43.  41.7\n",
      " 33.8 43.9 22.7 57.5 37.  38.5 16.3 44.  32.7 54.2 40.2 33.3 17.4 41.3\n",
      " 52.3 14.6 17.8 46.1 33.1 18.1 43.8 50.3 38.9 43.7 39.9 15.9 19.8 12.3\n",
      " 78.  38.3 41.  42.6 43.4 15.1 20.6 33.5 43.2 30.4 38.  33.4 44.9 44.7\n",
      " 37.6 39.8 53.4 55.2 42.  37.2 42.8 18.8 42.9 14.3 37.7 48.4 50.6 46.2\n",
      " 49.5 43.3 33.9 18.5 44.5 45.4 55.  54.8 19.9 17.9 15.6 52.8 15.2 66.8\n",
      " 55.1 18.2 48.5 55.9 57.3 10.3 14.1 15.7 56.  44.8 13.4 51.8 38.1 57.7\n",
      " 44.4 38.8 49.3 39.1 54.  56.1 97.6 53.9 13.7 11.5 41.4 14.2 49.4 15.4\n",
      " 45.1 49.2 48.7 53.8 42.7 48.8 52.7 53.5 50.5 15.8 45.3 14.8 51.9 63.3\n",
      " 40.7 61.2 48.  46.8 48.3 58.1 50.4 11.3 12.8 13.5 14.5 15.  59.7 47.4\n",
      " 52.5 13.2 52.9 61.6 49.9 54.3 47.9 13.  13.9 50.9 57.2 64.4 92.  50.8\n",
      " 57.9 45.8 47.6 14.  46.4 46.9 47.1 13.3 48.1 51.7 46.3 54.1 14.9]\n",
      "['formerly smoked' 'never smoked' 'smokes' 'Unknown']\n",
      "[1 0]\n"
     ]
    }
   ],
   "source": [
    "#Vérification des valeurs uniques de chaque colonne :\n",
    "for i in df:\n",
    "    print(df[i].unique())"
   ]
  },
  {
   "cell_type": "code",
   "execution_count": 5,
   "id": "85a17f75",
   "metadata": {},
   "outputs": [
    {
     "name": "stdout",
     "output_type": "stream",
     "text": [
      "- Statistiques sur la variable 'age' :\n",
      " count    5110.000000\n",
      "mean       43.226614\n",
      "std        22.612647\n",
      "min         0.080000\n",
      "25%        25.000000\n",
      "50%        45.000000\n",
      "75%        61.000000\n",
      "max        82.000000\n",
      "Name: age, dtype: float64 \n",
      "\n",
      "Ages entre 0 et 2 ans :\n",
      "         age  stroke\n",
      "id                 \n",
      "69768  1.32       1\n",
      "7559   0.64       0\n",
      "22706  0.88       0\n",
      "45238  1.80       0\n",
      "61511  0.32       0\n",
      "...     ...     ...\n",
      "32147  1.32       0\n",
      "67426  1.24       0\n",
      "42709  1.72       0\n",
      "56714  0.72       0\n",
      "68598  1.08       0\n",
      "\n",
      "[115 rows x 2 columns]\n"
     ]
    },
    {
     "data": {
      "text/html": [
       "<div>\n",
       "<style scoped>\n",
       "    .dataframe tbody tr th:only-of-type {\n",
       "        vertical-align: middle;\n",
       "    }\n",
       "\n",
       "    .dataframe tbody tr th {\n",
       "        vertical-align: top;\n",
       "    }\n",
       "\n",
       "    .dataframe thead th {\n",
       "        text-align: right;\n",
       "    }\n",
       "</style>\n",
       "<table border=\"1\" class=\"dataframe\">\n",
       "  <thead>\n",
       "    <tr style=\"text-align: right;\">\n",
       "      <th></th>\n",
       "      <th></th>\n",
       "      <th>stroke</th>\n",
       "    </tr>\n",
       "    <tr>\n",
       "      <th>age_classes</th>\n",
       "      <th>stroke</th>\n",
       "      <th></th>\n",
       "    </tr>\n",
       "  </thead>\n",
       "  <tbody>\n",
       "    <tr>\n",
       "      <th rowspan=\"2\" valign=\"top\">0</th>\n",
       "      <th>0</th>\n",
       "      <td>1291</td>\n",
       "    </tr>\n",
       "    <tr>\n",
       "      <th>1</th>\n",
       "      <td>2</td>\n",
       "    </tr>\n",
       "    <tr>\n",
       "      <th rowspan=\"2\" valign=\"top\">1</th>\n",
       "      <th>0</th>\n",
       "      <td>1314</td>\n",
       "    </tr>\n",
       "    <tr>\n",
       "      <th>1</th>\n",
       "      <td>11</td>\n",
       "    </tr>\n",
       "    <tr>\n",
       "      <th rowspan=\"2\" valign=\"top\">2</th>\n",
       "      <th>0</th>\n",
       "      <td>1199</td>\n",
       "    </tr>\n",
       "    <tr>\n",
       "      <th>1</th>\n",
       "      <td>65</td>\n",
       "    </tr>\n",
       "    <tr>\n",
       "      <th rowspan=\"2\" valign=\"top\">3</th>\n",
       "      <th>0</th>\n",
       "      <td>1057</td>\n",
       "    </tr>\n",
       "    <tr>\n",
       "      <th>1</th>\n",
       "      <td>171</td>\n",
       "    </tr>\n",
       "  </tbody>\n",
       "</table>\n",
       "</div>"
      ],
      "text/plain": [
       "                    stroke\n",
       "age_classes stroke        \n",
       "0           0         1291\n",
       "            1            2\n",
       "1           0         1314\n",
       "            1           11\n",
       "2           0         1199\n",
       "            1           65\n",
       "3           0         1057\n",
       "            1          171"
      ]
     },
     "execution_count": 5,
     "metadata": {},
     "output_type": "execute_result"
    }
   ],
   "source": [
    "# Variable Age\n",
    "\n",
    "print(\"- Statistiques sur la variable 'age' :\\n\", df['age'].describe(),'\\n')\n",
    "# L'écart type, les quantiles et la moyenne nous montre qu'il y a une répartition des âges homogène entre 0 et 82 ans.\n",
    "\n",
    "df.sort_values(by = 'age', ascending = True).head(500)\n",
    "print(\"Ages entre 0 et 2 ans :\\n\", df[(df.age%1 != 0.00) & (df.age<2)][['age', 'stroke']])\n",
    "# Entre 0 et 2 ans, les âges sont exprimés avec des nombres décimaux, voir par la suite si c'est à corriger ou pas\n",
    "# pour l'implémentation des algorithmes de ML. \n",
    "\n",
    "# Classes d'âge\n",
    "df['age_classes'] = pd.qcut(df['age'], labels=[0, 1, 2, 3], q=4)\n",
    "\n",
    "# répartition des attaques selon la classe d'âge\n",
    "df_ca = df.groupby(['age_classes', 'stroke']).agg({'stroke' : 'count'})\n",
    "df_ca.head(10)\n",
    "# il y a beaucoup plus de cas de crise cardiaque chez les personnes plus âgées, c'est logique."
   ]
  },
  {
   "cell_type": "code",
   "execution_count": 6,
   "id": "2777280d",
   "metadata": {},
   "outputs": [
    {
     "name": "stdout",
     "output_type": "stream",
     "text": [
      "Gender :\n",
      " Female    0.585910\n",
      "Male      0.413894\n",
      "Other     0.000196\n",
      "Name: gender, dtype: float64 \n",
      "\n",
      "hypertension :\n",
      " 0    0.902544\n",
      "1    0.097456\n",
      "Name: hypertension, dtype: float64 \n",
      "\n",
      "work_type :\n",
      " Private          0.572407\n",
      "Self-employed    0.160274\n",
      "children         0.134442\n",
      "Govt_job         0.128571\n",
      "Never_worked     0.004305\n",
      "Name: work_type, dtype: float64 \n",
      "\n",
      "stroke :\n",
      " 0    0.951272\n",
      "1    0.048728\n",
      "Name: stroke, dtype: float64 \n",
      "\n"
     ]
    }
   ],
   "source": [
    "print(\"Gender :\\n\", df['gender'].value_counts(normalize=True),'\\n')\n",
    "# Proportion de femmes légèrement plus importante\n",
    "print(\"hypertension :\\n\", df['hypertension'].value_counts(normalize=True),'\\n')\n",
    "#Très peu de cas d'hypertension\n",
    "print(\"work_type :\\n\", df['work_type'].value_counts(normalize=True),'\\n')\n",
    "# une majorité de jobs privés\n",
    "print(\"stroke :\\n\", df['stroke'].value_counts(normalize=True),'\\n')\n",
    "# Très faible proportion d'observations avec la variable cible 'stroke' positive donc peu de cas de crise cardiaque,attention au\n",
    "# déséquilibre des classes pour la variable cible."
   ]
  },
  {
   "cell_type": "code",
   "execution_count": 7,
   "id": "b9331b22",
   "metadata": {},
   "outputs": [
    {
     "name": "stdout",
     "output_type": "stream",
     "text": [
      "0\n",
      "stroke :\n",
      " 0    0.951272\n",
      "1    0.048728\n",
      "Name: stroke, dtype: float64 \n",
      "\n"
     ]
    },
    {
     "data": {
      "text/plain": [
       "0    4861\n",
       "1     249\n",
       "Name: stroke, dtype: int64"
      ]
     },
     "execution_count": 7,
     "metadata": {},
     "output_type": "execute_result"
    }
   ],
   "source": [
    "#Stroke analyse\n",
    "\n",
    "print(df['stroke'].isna().sum())\n",
    "print(\"stroke :\\n\", df['stroke'].value_counts(normalize=True),'\\n')\n",
    "#aucune valeur vide\n",
    "\n",
    "df['stroke'].value_counts()\n",
    "#249 crise cardiaque décelé\n",
    "#4861 sans crise cardiaque\n"
   ]
  },
  {
   "cell_type": "code",
   "execution_count": 8,
   "id": "f1dbb823",
   "metadata": {},
   "outputs": [
    {
     "name": "stdout",
     "output_type": "stream",
     "text": [
      "0\n",
      "Residence_type :\n",
      " Urban    0.508023\n",
      "Rural    0.491977\n",
      "Name: Residence_type, dtype: float64 \n",
      "\n",
      "Urban    2596\n",
      "Rural    2514\n",
      "Name: Residence_type, dtype: int64\n"
     ]
    }
   ],
   "source": [
    "#Type de résidence\n",
    "print(df['Residence_type'].isna().sum())\n",
    "print(\"Residence_type :\\n\", df['Residence_type'].value_counts(normalize=True),'\\n')\n",
    "#aucune valeur vide\n",
    "\n",
    "df['Residence_type'].value_counts()\n",
    "\n",
    "print (df['Residence_type'].value_counts())\n",
    "\n",
    "#Urban    2596\n",
    "#Rural    2514"
   ]
  },
  {
   "cell_type": "code",
   "execution_count": 9,
   "id": "9066a14d",
   "metadata": {},
   "outputs": [
    {
     "name": "stdout",
     "output_type": "stream",
     "text": [
      "0\n"
     ]
    },
    {
     "data": {
      "text/plain": [
       "count    5110.000000\n",
       "mean      106.147677\n",
       "std        45.283560\n",
       "min        55.120000\n",
       "25%        77.245000\n",
       "50%        91.885000\n",
       "75%       114.090000\n",
       "max       271.740000\n",
       "Name: avg_glucose_level, dtype: float64"
      ]
     },
     "execution_count": 9,
     "metadata": {},
     "output_type": "execute_result"
    }
   ],
   "source": [
    "#Taux de glucose\n",
    "print(df['avg_glucose_level'].isna().sum())\n",
    "#aucune valeur vide\n",
    "\n",
    "df['avg_glucose_level'].describe()\n",
    "\n",
    "#taux moyen de glucose 106.147677"
   ]
  },
  {
   "cell_type": "markdown",
   "id": "098d4e46",
   "metadata": {},
   "source": [
    "## Nettoyage des données"
   ]
  },
  {
   "cell_type": "code",
   "execution_count": 10,
   "id": "f415ab68-2538-403f-a4fb-5a154046571e",
   "metadata": {},
   "outputs": [
    {
     "ename": "SyntaxError",
     "evalue": "invalid syntax (Temp/ipykernel_13640/3446608766.py, line 1)",
     "output_type": "error",
     "traceback": [
      "\u001b[1;36m  File \u001b[1;32m\"C:\\Users\\PYTU10~1\\AppData\\Local\\Temp/ipykernel_13640/3446608766.py\"\u001b[1;36m, line \u001b[1;32m1\u001b[0m\n\u001b[1;33m    Il n'y a pas de doublons au niveau de l'index : pas besoin de supprimer de doublons\u001b[0m\n\u001b[1;37m       ^\u001b[0m\n\u001b[1;31mSyntaxError\u001b[0m\u001b[1;31m:\u001b[0m invalid syntax\n"
     ]
    }
   ],
   "source": [
    "\n",
    "Il n'y a pas de doublons au niveau de l'index : pas besoin de supprimer de doublons\n",
    "df.index.duplicated().sum()"
   ]
  },
  {
   "cell_type": "code",
   "execution_count": null,
   "id": "7511460e-9ad0-4d6d-997b-580529fe8f27",
   "metadata": {},
   "outputs": [],
   "source": [
    "print(\"Il y a des valeurs NaN dans la colonne bmi que l'on va remplacer par un mean\")\n",
    "df.isna().sum()"
   ]
  },
  {
   "cell_type": "code",
   "execution_count": null,
   "id": "801d4be0-f767-423e-ae6f-54da6ecaf60b",
   "metadata": {},
   "outputs": [],
   "source": [
    "#On remplace les valeurs NA par le mean de la colonne bmi\n",
    "df_new = df.copy()\n",
    "\n",
    "df_new.loc[:, (\"bmi\")] = df[\"bmi\"].fillna(df[\"bmi\"].mean())\n",
    "\n",
    "#On remplace également les valeurs Unknown par le mode de la colonne\n",
    "df_new = df_new.replace(\"Unknown\", np.NaN)\n",
    "df_new[\"smoking_status\"] = df_new[\"smoking_status\"].fillna(df_new[\"smoking_status\"].mode()[0])\n",
    "df_new.head()"
   ]
  },
  {
   "cell_type": "code",
   "execution_count": null,
   "id": "53cc9ff9-dbbc-421d-a147-697437d2d8bf",
   "metadata": {},
   "outputs": [],
   "source": [
    "df_new[\"bmi\"].describe()"
   ]
  },
  {
   "cell_type": "markdown",
   "id": "fd46b9fa",
   "metadata": {},
   "source": [
    "## Analyse des données"
   ]
  },
  {
   "cell_type": "code",
   "execution_count": null,
   "id": "ac4fbfd9-46ef-4bb8-8198-898a8cd94120",
   "metadata": {},
   "outputs": [],
   "source": [
    "#Est-ce que le fait d'être marié peut avoir un impact sur la crise cardiaque ?\n",
    "pd.crosstab(df_new[\"ever_married\"], df_new[\"stroke\"])"
   ]
  },
  {
   "cell_type": "code",
   "execution_count": null,
   "id": "4a42ba8c-8f99-45d6-b46c-359293667e67",
   "metadata": {},
   "outputs": [],
   "source": [
    "#La même répartition en %\n",
    "round(pd.crosstab(df_new[\"ever_married\"], df_new[\"stroke\"], normalize=\"index\")*100,2)"
   ]
  },
  {
   "cell_type": "code",
   "execution_count": null,
   "id": "1b3a8a31-9907-4a2b-b38c-3fe4820ebf69",
   "metadata": {},
   "outputs": [],
   "source": [
    "#Est-ce que le fait d'être fumeur peut avoir un impact sur la crise cardiaque ?\n",
    "round(pd.crosstab(df_new[\"smoking_status\"], df_new[\"stroke\"],normalize=\"index\")*100, 2)\n",
    "\n",
    "#On constate un écart non significatif entre les fumeurs et les non fumeurs sur le risque de crise cardiaque."
   ]
  },
  {
   "cell_type": "code",
   "execution_count": null,
   "id": "c0ab47c0-07c1-4e62-9f1d-9f160e6a037a",
   "metadata": {},
   "outputs": [],
   "source": [
    "#Est-ce que le bmi peut avoir un impact sur la crise cardiaque ?\n",
    "\n",
    "df_new[\"bmi_classes\"] = pd.qcut(df_new[\"bmi\"], labels=[0,1,2,3], q=4)\n",
    "round(pd.crosstab(df_new[\"bmi_classes\"], df_new[\"stroke\"],normalize=\"index\")*100, 2)"
   ]
  },
  {
   "cell_type": "code",
   "execution_count": null,
   "id": "b7d7f106-0267-4f40-8697-8bad1d5af28c",
   "metadata": {},
   "outputs": [],
   "source": [
    "df_new[\"bmi\"]"
   ]
  },
  {
   "cell_type": "code",
   "execution_count": null,
   "id": "c280ce11",
   "metadata": {},
   "outputs": [],
   "source": [
    "#Est-ce que le type de travail peut avoir un impact sur la crise cardiaque ?\n",
    "round(pd.crosstab(df_new[\"work_type\"], df_new[\"stroke\"],normalize=\"index\")*100, 2)\n",
    "# Les cas de crise cardiaque les plus fréquents se trouvent chez les salariés du privé.\n",
    "# Aucun cas chez ceux qui n'ont jamais travaillé."
   ]
  },
  {
   "cell_type": "code",
   "execution_count": null,
   "id": "9f6c119e",
   "metadata": {},
   "outputs": [],
   "source": [
    "#Est-ce que le genre peut avoir un impact sur la crise cardiaque ?\n",
    "round(pd.crosstab(df_new[\"gender\"], df_new[\"stroke\"],normalize=\"index\")*100, 2)\n",
    "# Un peu plus de crise cardiaque chez les hommes, tout en sachant qu'il y a un nombre plus important d'observation\n",
    "# chez les femmes (58,5 %)."
   ]
  },
  {
   "cell_type": "code",
   "execution_count": null,
   "id": "7bc57988",
   "metadata": {},
   "outputs": [],
   "source": [
    " # Est-ce que le type de résidence est un vecteur marquant sur la crise cardiaque ?\n",
    "colonne1 = df['Residence_type']\n",
    "colonne2 = df['stroke']\n",
    "\n",
    "\n",
    "print(\"Un petit peu plus de crise cardiaque en ville 135 contre 114 en campagne\")\n",
    "\n",
    "pd.crosstab(colonne1, colonne2)\n",
    "\n",
    "\n"
   ]
  },
  {
   "cell_type": "code",
   "execution_count": 156,
   "id": "b36a6c5d",
   "metadata": {},
   "outputs": [
    {
     "name": "stdout",
     "output_type": "stream",
     "text": [
      "les taux de glucose sont presque équivalent en ville et en campagne\n"
     ]
    },
    {
     "name": "stderr",
     "output_type": "stream",
     "text": [
      "C:\\Users\\PYTU10~1\\AppData\\Local\\Temp/ipykernel_13640/1050954586.py:25: FutureWarning: inplace is deprecated and will be removed in a future version.\n",
      "  avg_glucose_level_groupby.columns.set_levels(['max_avg_glucose_level', 'min_avg_glucose_level', 'median_avg_glucose_level'], level=1, inplace = True)\n"
     ]
    },
    {
     "data": {
      "text/html": [
       "<div>\n",
       "<style scoped>\n",
       "    .dataframe tbody tr th:only-of-type {\n",
       "        vertical-align: middle;\n",
       "    }\n",
       "\n",
       "    .dataframe tbody tr th {\n",
       "        vertical-align: top;\n",
       "    }\n",
       "\n",
       "    .dataframe thead tr th {\n",
       "        text-align: left;\n",
       "    }\n",
       "\n",
       "    .dataframe thead tr:last-of-type th {\n",
       "        text-align: right;\n",
       "    }\n",
       "</style>\n",
       "<table border=\"1\" class=\"dataframe\">\n",
       "  <thead>\n",
       "    <tr>\n",
       "      <th></th>\n",
       "      <th colspan=\"3\" halign=\"left\">avg_glucose_level</th>\n",
       "    </tr>\n",
       "    <tr>\n",
       "      <th></th>\n",
       "      <th>max_avg_glucose_level</th>\n",
       "      <th>min_avg_glucose_level</th>\n",
       "      <th>median_avg_glucose_level</th>\n",
       "    </tr>\n",
       "    <tr>\n",
       "      <th>Residence_type</th>\n",
       "      <th></th>\n",
       "      <th></th>\n",
       "      <th></th>\n",
       "    </tr>\n",
       "  </thead>\n",
       "  <tbody>\n",
       "    <tr>\n",
       "      <th>Rural</th>\n",
       "      <td>271.74</td>\n",
       "      <td>55.12</td>\n",
       "      <td>92.955</td>\n",
       "    </tr>\n",
       "    <tr>\n",
       "      <th>Urban</th>\n",
       "      <td>267.76</td>\n",
       "      <td>55.22</td>\n",
       "      <td>90.770</td>\n",
       "    </tr>\n",
       "  </tbody>\n",
       "</table>\n",
       "</div>"
      ],
      "text/plain": [
       "                   avg_glucose_level                        \\\n",
       "               max_avg_glucose_level min_avg_glucose_level   \n",
       "Residence_type                                               \n",
       "Rural                         271.74                 55.12   \n",
       "Urban                         267.76                 55.22   \n",
       "\n",
       "                                         \n",
       "               median_avg_glucose_level  \n",
       "Residence_type                           \n",
       "Rural                            92.955  \n",
       "Urban                            90.770  "
      ]
     },
     "execution_count": 156,
     "metadata": {},
     "output_type": "execute_result"
    }
   ],
   "source": [
    "#Taux de glucose en fonction de l'habitation\n",
    "\n",
    "# Quantité maximale\n",
    "max_avg_glucose_level = lambda avg_glucose_level: avg_glucose_level[avg_glucose_level > 0].max()\n",
    "\n",
    "# Quantité minimale\n",
    "min_avg_glucose_level = lambda avg_glucose_level: avg_glucose_level[avg_glucose_level > 0].min()\n",
    "\n",
    "# Quantité médiane\n",
    "median_avg_glucose_level = lambda avg_glucose_level : avg_glucose_level[avg_glucose_level > 0].median()\n",
    "\n",
    "\n",
    "\n",
    "\n",
    "# Définition du dictionnaire de fonctions à appliquer\n",
    "functions_to_apply = {\n",
    "    'avg_glucose_level' : [max_avg_glucose_level, min_avg_glucose_level, median_avg_glucose_level]\n",
    "}\n",
    "\n",
    "\n",
    "# Operation groupby\n",
    "avg_glucose_level_groupby = df.groupby('Residence_type').agg(functions_to_apply)\n",
    "\n",
    "# Je renomme les colonnes produite par le groupby\n",
    "avg_glucose_level_groupby.columns.set_levels(['max_avg_glucose_level', 'min_avg_glucose_level', 'median_avg_glucose_level'], level=1, inplace = True)\n",
    "\n",
    "print(\"les taux de glucose sont presque équivalent en ville et en campagne\")\n",
    "\n",
    "# Affichage des premières lignes du Dataframe produit par l'opération groupby\n",
    "avg_glucose_level_groupby.head()\n",
    "\n"
   ]
  },
  {
   "cell_type": "code",
   "execution_count": null,
   "id": "5c9e8d86",
   "metadata": {},
   "outputs": [],
   "source": [
    "print(\"Hypoglycémie : Inférieur à 70g/dL de sang\")\n",
    "print(\"Le taux normal de la glycémie à jeun oscille entre 70 mg/dL et 100 g/dL\")\n",
    "print(\"Hyperglycémie modérée : Entre 1 et 1.25g/L\")\n",
    "print(\"Au dessus de 126mg à jeune la personne est considéré comme diablétique\")\n",
    "print(\"Les données sont donc divisées en 4 quantile 0:70  < 70:100 < 100:125 < 125:\")\n",
    "\n",
    "\n",
    "\n",
    "df['avg_glucose_level_classes'] = pd.cut(df['avg_glucose_level'], bins=[0,70,100,125,np.inf],labels=['Hypoglycémie','Taux normal','Hyperglycémie modérée','Diablétique'])\n",
    "\n",
    "\n",
    "df['avg_glucose_level_classes']\n"
   ]
  },
  {
   "cell_type": "code",
   "execution_count": null,
   "id": "2a7ac721",
   "metadata": {},
   "outputs": [],
   "source": [
    "state_summary=df.groupby(['avg_glucose_level_classes','gender']).agg( {\"gender\": 'count'})\n",
    "state_summary\n",
    "\n",
    "#nb_gender=df.groupby(['gender']).agg( {\"gender\": 'count'})\n",
    "#nb_gender\n",
    "#Etude des crises cardiaques qui dépend de sa tranche de son taux de glucose"
   ]
  },
  {
   "cell_type": "code",
   "execution_count": null,
   "id": "4d85783b",
   "metadata": {},
   "outputs": [],
   "source": [
    "state_summary=df.groupby(['avg_glucose_level_classes','Residence_type']).agg( {\"stroke\": 'sum'})\n",
    "state_summary\n",
    " "
   ]
  },
  {
   "cell_type": "code",
   "execution_count": null,
   "id": "62a88a5a",
   "metadata": {
    "scrolled": true
   },
   "outputs": [],
   "source": [
    "\n",
    "print(\"Moins de crise cardiaque sur les cas en Hypoglycemie et sur ceux en Hyperglycémie modérée\")\n",
    "class_summary=df.groupby(['avg_glucose_level_classes']).agg({'stroke': 'sum'})\n",
    "\n",
    "\n",
    "class_summary\n",
    "\n",
    "\n"
   ]
  },
  {
   "cell_type": "code",
   "execution_count": null,
   "id": "5c25b5a7",
   "metadata": {},
   "outputs": [],
   "source": [
    "# Analyse de la variable avg_glucose_level\n",
    "\n",
    "#Séparation de la variable\n",
    "avg_glucose_level_studies=df[[\"avg_glucose_level\"]]\n",
    "\n",
    "#Calcul de la moyenne de la variable\n",
    "stats=pd.DataFrame(avg_glucose_level_studies.mean(), columns=['moyenne'])\n",
    "stats.round(2)\n",
    "\n",
    "#Calcul de la median de la variable\n",
    "stats['median']=avg_glucose_level_studies.median()\n",
    "\n",
    "#Calcul de la différence entre la moyenne et la median de la variable\n",
    "stats['mean_med_diff'] = abs(stats['moyenne'] - stats['median'])\n",
    "stats.round(2)\n",
    "\n",
    "#Calcul du quantile de la variable\n",
    "quantile=avg_glucose_level_studies[\"avg_glucose_level\"].quantile(q = [0.25,0.5,0.75])\n",
    "quantile\n",
    "\n",
    "stats[['q1', 'q2', 'q3']] = avg_glucose_level_studies.quantile(q=[0.25, 0.5, 0.75]).transpose()\n",
    "\n",
    "#Calcul du max et minimum et de la différence de la variable\n",
    "stats['min'] = avg_glucose_level_studies.min()\n",
    "stats['max'] = avg_glucose_level_studies.max()\n",
    "stats['min_max_diff'] = stats['max'] - stats['min']\n",
    "\n",
    "stats"
   ]
  },
  {
   "cell_type": "markdown",
   "id": "0047bb22",
   "metadata": {},
   "source": [
    "## Liaisons entre les variables"
   ]
  },
  {
   "cell_type": "code",
   "execution_count": null,
   "id": "d8a0c89c",
   "metadata": {},
   "outputs": [],
   "source": [
    "df.head()\n",
    "\n",
    "df=df.drop(['age_classes'], axis = 1)"
   ]
  },
  {
   "cell_type": "markdown",
   "id": "4fa48802",
   "metadata": {},
   "source": [
    "#### Analyse des liaisons entre les variables continues"
   ]
  },
  {
   "cell_type": "code",
   "execution_count": null,
   "id": "0a110db4",
   "metadata": {},
   "outputs": [],
   "source": [
    "print(\"Les trois variables sont indépendante p-value >5%\")\n",
    "\n",
    "\n",
    "dfnum=df[['age','avg_glucose_level','bmi']]\n",
    "dfnum.corr()\n",
    "\n",
    "from pandas.plotting import scatter_matrix\n",
    "%matplotlib inline\n",
    "\n",
    "df[df['age']<100].plot(kind='scatter', x='avg_glucose_level', y='age', alpha=0.1);\n",
    "dfnum.corr()"
   ]
  },
  {
   "cell_type": "markdown",
   "id": "c7d784af",
   "metadata": {},
   "source": [
    "#### Analyse des liaisons entre les variables catégorielles"
   ]
  },
  {
   "cell_type": "code",
   "execution_count": null,
   "id": "6c35ed36",
   "metadata": {},
   "outputs": [],
   "source": [
    "dfcat=df[['gender','hypertension','heart_disease','ever_married','work_type','Residence_type','smoking_status','stroke']]\n",
    "\n",
    "\n",
    "table = pd.crosstab(dfcat['work_type'],dfcat['smoking_status'])\n",
    "\n",
    "from scipy.stats import chi2_contingency\n",
    "\n",
    "resultats_test = chi2_contingency(table)\n",
    "statistique = resultats_test[0]\n",
    "p_valeur = resultats_test[1]\n",
    "degre_liberte = resultats_test[2]\n",
    "la_liste = resultats_test[3]\n",
    "print(statistique, p_valeur,degre_liberte)\n",
    "\n",
    "table\n",
    "\n",
    "\n",
    "# p-value < 5% donc on rejette H0"
   ]
  },
  {
   "cell_type": "code",
   "execution_count": 155,
   "id": "94090961",
   "metadata": {
    "scrolled": false
   },
   "outputs": [
    {
     "data": {
      "image/png": "[encoded data removed]",
      "text/plain": [
       "<Figure size 720x720 with 2 Axes>"
      ]
     },
     "metadata": {
      "needs_background": "light"
     },
     "output_type": "display_data"
    },
    {
     "name": "stderr",
     "output_type": "stream",
     "text": [
      "C:\\Users\\PYTU10~1\\AppData\\Local\\Temp/ipykernel_13640/2274680046.py:17: FutureWarning: this method is deprecated in favour of `Styler.format(precision=..)`\n",
      "  df_complete_corr.dropna(axis=1, how='all').dropna(axis=0, how='all').style.background_gradient(cmap='coolwarm', axis=None).set_precision(2)\n"
     ]
    },
    {
     "ename": "NameError",
     "evalue": "name 'dfcat' is not defined",
     "output_type": "error",
     "traceback": [
      "\u001b[1;31m---------------------------------------------------------------------------\u001b[0m",
      "\u001b[1;31mNameError\u001b[0m                                 Traceback (most recent call last)",
      "\u001b[1;32mC:\\Users\\PYTU10~1\\AppData\\Local\\Temp/ipykernel_13640/2274680046.py\u001b[0m in \u001b[0;36m<module>\u001b[1;34m\u001b[0m\n\u001b[0;32m     19\u001b[0m \u001b[1;33m\u001b[0m\u001b[0m\n\u001b[0;32m     20\u001b[0m \u001b[1;33m\u001b[0m\u001b[0m\n\u001b[1;32m---> 21\u001b[1;33m \u001b[0mcategorical_correlation\u001b[0m\u001b[1;33m=\u001b[0m \u001b[0massociations\u001b[0m\u001b[1;33m(\u001b[0m\u001b[0mdfcat\u001b[0m\u001b[1;33m,\u001b[0m \u001b[0mfilename\u001b[0m\u001b[1;33m=\u001b[0m \u001b[1;34m'categorical_correlation.png'\u001b[0m\u001b[1;33m,\u001b[0m \u001b[0mfigsize\u001b[0m\u001b[1;33m=\u001b[0m\u001b[1;33m(\u001b[0m\u001b[1;36m10\u001b[0m\u001b[1;33m,\u001b[0m\u001b[1;36m10\u001b[0m\u001b[1;33m)\u001b[0m\u001b[1;33m)\u001b[0m\u001b[1;33m\u001b[0m\u001b[1;33m\u001b[0m\u001b[0m\n\u001b[0m",
      "\u001b[1;31mNameError\u001b[0m: name 'dfcat' is not defined"
     ]
    }
   ],
   "source": [
    "#https://medium.com/@knoldus/how-to-find-correlation-value-of-categorical-variables-23de7e7a9e26\n",
    "# pip install dython redémarrer jupyter après\n",
    "import pandas as pd\n",
    "from dython.nominal import associations\n",
    "\n",
    "from dython.nominal import identify_nominal_columns\n",
    "categorical_features=identify_nominal_columns(df)\n",
    "categorical_features\n",
    "['gender','hypertension','heart_disease','ever_married','work_type','Residence_type','smoking_status','stroke']\n",
    "\n",
    "\n",
    "\n",
    "complete_correlation= associations(df, filename= 'complete_correlation.png', figsize=(10,10))\n",
    "\n",
    "\n",
    "df_complete_corr=complete_correlation['corr']\n",
    "df_complete_corr.dropna(axis=1, how='all').dropna(axis=0, how='all').style.background_gradient(cmap='coolwarm', axis=None).set_precision(2)\n",
    "\n",
    "\n",
    "\n",
    "categorical_correlation= associations(dfcat, filename= 'categorical_correlation.png', figsize=(10,10))"
   ]
  },
  {
   "cell_type": "markdown",
   "id": "ac3df489",
   "metadata": {},
   "source": [
    "## Festivale de graphique"
   ]
  },
  {
   "cell_type": "code",
   "execution_count": 154,
   "id": "b6b9e199",
   "metadata": {},
   "outputs": [
    {
     "name": "stderr",
     "output_type": "stream",
     "text": [
      "No handles with labels found to put in legend.\n"
     ]
    },
    {
     "data": {
      "image/png": "[encoded data removed]",
      "text/plain": [
       "<Figure size 432x288 with 1 Axes>"
      ]
     },
     "metadata": {
      "needs_background": "light"
     },
     "output_type": "display_data"
    }
   ],
   "source": [
    "import matplotlib.pyplot as plt\n",
    "\n",
    "N1 = len(df[df['stroke']==0])\n",
    "N2 = len(df[df['stroke'] == 1])\n",
    "\n",
    "\n",
    "plt.bar([1],[N1], color = ['green'], width =  [0.6,0.5])\n",
    "plt.bar([2],[N2], color = ['red'], width =  [0.6,0.5])\n",
    "\n",
    "plt.xticks([1,2], ['Sans Crises Cardiaque','Crises Cardiaque'])\n",
    "\n",
    "\n",
    "plt.ylabel('Nombre de cas')\n",
    "\n",
    "\n",
    "plt.text(1,N1,N1)\n",
    "plt.text(2,N2,N2)\n",
    "plt.legend();"
   ]
  },
  {
   "cell_type": "code",
   "execution_count": 159,
   "id": "bb804f1f",
   "metadata": {},
   "outputs": [
    {
     "name": "stderr",
     "output_type": "stream",
     "text": [
      "No handles with labels found to put in legend.\n"
     ]
    },
    {
     "data": {
      "image/png": "[encoded data removed]",
      "text/plain": [
       "<Figure size 432x288 with 1 Axes>"
      ]
     },
     "metadata": {
      "needs_background": "light"
     },
     "output_type": "display_data"
    }
   ],
   "source": [
    "import matplotlib.pyplot as plt\n",
    "\n",
    "N1 = len(df[df['Residence_type']=='Rural'])\n",
    "N2 = len(df[df['Residence_type'] == 'Urban'])\n",
    "\n",
    "\n",
    "plt.bar([1],[N1], color = ['green'], width =  [0.6,0.5])\n",
    "plt.bar([2],[N2], color = ['grey'], width =  [0.6,0.5])\n",
    "\n",
    "plt.xticks([1,2], ['Rural','Urban'])\n",
    "\n",
    "\n",
    "plt.ylabel('Nombre de cas')\n",
    "\n",
    "\n",
    "plt.text(1,N1,N1)\n",
    "plt.text(2,N2,N2)\n",
    "plt.legend();"
   ]
  }
 ],
 "metadata": {
  "kernelspec": {
   "display_name": "Python 3 (ipykernel)",
   "language": "python",
   "name": "python3"
  },
  "language_info": {
   "codemirror_mode": {
    "name": "ipython",
    "version": 3
   },
   "file_extension": ".py",
   "mimetype": "text/x-python",
   "name": "python",
   "nbconvert_exporter": "python",
   "pygments_lexer": "ipython3",
   "version": "3.9.7"
  }
 },
 "nbformat": 4,
 "nbformat_minor": 5
}
