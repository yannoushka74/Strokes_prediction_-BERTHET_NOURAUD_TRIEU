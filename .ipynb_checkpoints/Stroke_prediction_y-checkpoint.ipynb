{
 "cells": [
  {
   "cell_type": "markdown",
   "id": "1fab5910",
   "metadata": {},
   "source": [
    "# Stroke prediction"
   ]
  },
  {
   "cell_type": "markdown",
   "id": "56bfd203",
   "metadata": {},
   "source": [
    "Chargement des données"
   ]
  },
  {
   "cell_type": "code",
   "execution_count": null,
   "id": "abe4de04",
   "metadata": {},
   "outputs": [],
   "source": [
    "Chargement du jeu de donnée\n",
    "\n",
    "Aucun ID en doublon"
   ]
  },
  {
   "cell_type": "code",
   "execution_count": 26,
   "id": "c5591745",
   "metadata": {
    "scrolled": false
   },
   "outputs": [
    {
     "name": "stdout",
     "output_type": "stream",
     "text": [
      "0\n",
      "0\n"
     ]
    }
   ],
   "source": [
    "import numpy as np \n",
    "import pandas as pd\n",
    "\n",
    "df=pd.read_csv('strokes.csv')\n",
    "\n",
    "\n",
    "df.head()\n",
    "\n",
    "print(df['id'].duplicated().sum())\n",
    "\n",
    "#0 doublon d'ID\n",
    "\n"
   ]
  },
  {
   "cell_type": "code",
   "execution_count": null,
   "id": "c358dab3",
   "metadata": {},
   "outputs": [],
   "source": [
    "#Collonne affectée Stroke, residence_type, avg_glucose_level"
   ]
  },
  {
   "cell_type": "code",
   "execution_count": 28,
   "id": "323e346c",
   "metadata": {
    "scrolled": true
   },
   "outputs": [
    {
     "data": {
      "text/plain": [
       "id     stroke  Residence_type  avg_glucose_level\n",
       "67     0       Urban           92.97                1\n",
       "49095  0       Urban           64.51                1\n",
       "49229  0       Rural           72.71                1\n",
       "49196  0       Urban           127.28               1\n",
       "49190  0       Rural           112.55               1\n",
       "                                                   ..\n",
       "24289  0       Urban           89.83                1\n",
       "24272  0       Rural           217.66               1\n",
       "24262  0       Rural           70.91                1\n",
       "24257  0       Rural           90.42                1\n",
       "72940  0       Urban           102.92               1\n",
       "Length: 5110, dtype: int64"
      ]
     },
     "execution_count": 28,
     "metadata": {},
     "output_type": "execute_result"
    }
   ],
   "source": [
    "yann_affect=df[[\"id\",\"stroke\",\"Residence_type\",\"avg_glucose_level\"]]\n",
    "\n",
    "yann_affect.head()\n",
    "\n",
    "yann_affect.value_counts()\n",
    "\n",
    "#5110 données récoltés\n",
    "\n",
    "#4861 crise cardiaque décelé\n",
    "#249 sans crise cardiaque\n",
    "\n",
    "\n"
   ]
  },
  {
   "cell_type": "code",
   "execution_count": 31,
   "id": "abf7c28c",
   "metadata": {},
   "outputs": [
    {
     "name": "stdout",
     "output_type": "stream",
     "text": [
      "0\n"
     ]
    },
    {
     "data": {
      "text/plain": [
       "0    4861\n",
       "1     249\n",
       "Name: stroke, dtype: int64"
      ]
     },
     "execution_count": 31,
     "metadata": {},
     "output_type": "execute_result"
    }
   ],
   "source": [
    "#Stroke analyse\n",
    "\n",
    "\n",
    "print(df['stroke'].isna().sum())\n",
    "#aucune valeur vide\n",
    "\n",
    "yann_affect['stroke'].value_counts()\n",
    "#249 crise cardiaque décelé\n",
    "#4861 sans crise cardiaque\n"
   ]
  },
  {
   "cell_type": "code",
   "execution_count": 32,
   "id": "6e343188",
   "metadata": {},
   "outputs": [
    {
     "name": "stdout",
     "output_type": "stream",
     "text": [
      "0\n"
     ]
    },
    {
     "data": {
      "text/plain": [
       "Urban    2596\n",
       "Rural    2514\n",
       "Name: Residence_type, dtype: int64"
      ]
     },
     "execution_count": 32,
     "metadata": {},
     "output_type": "execute_result"
    }
   ],
   "source": [
    "\n",
    "print(df['Residence_type'].isna().sum())\n",
    "#aucune valeur vide\n",
    "\n",
    "yann_affect['Residence_type'].value_counts()\n",
    "\n",
    "#2 type de d'habitation recensé  Urbain ou Rural\n",
    "\n",
    "#Urban    2596\n",
    "#Rural    2514\n"
   ]
  },
  {
   "cell_type": "code",
   "execution_count": 33,
   "id": "4bd8405f",
   "metadata": {},
   "outputs": [
    {
     "name": "stdout",
     "output_type": "stream",
     "text": [
      "0\n"
     ]
    },
    {
     "data": {
      "text/plain": [
       "count    5110.000000\n",
       "mean      106.147677\n",
       "std        45.283560\n",
       "min        55.120000\n",
       "25%        77.245000\n",
       "50%        91.885000\n",
       "75%       114.090000\n",
       "max       271.740000\n",
       "Name: avg_glucose_level, dtype: float64"
      ]
     },
     "execution_count": 33,
     "metadata": {},
     "output_type": "execute_result"
    }
   ],
   "source": [
    "print(df['Residence_type'].isna().sum())\n",
    "#aucune valeur vide\n",
    "\n",
    "\n",
    "yann_affect['avg_glucose_level'].describe()\n",
    "\n",
    "#taux moyen de glucose 106.147677"
   ]
  },
  {
   "cell_type": "code",
   "execution_count": 34,
   "id": "11dcb34a",
   "metadata": {},
   "outputs": [
    {
     "data": {
      "text/html": [
       "<div>\n",
       "<style scoped>\n",
       "    .dataframe tbody tr th:only-of-type {\n",
       "        vertical-align: middle;\n",
       "    }\n",
       "\n",
       "    .dataframe tbody tr th {\n",
       "        vertical-align: top;\n",
       "    }\n",
       "\n",
       "    .dataframe thead th {\n",
       "        text-align: right;\n",
       "    }\n",
       "</style>\n",
       "<table border=\"1\" class=\"dataframe\">\n",
       "  <thead>\n",
       "    <tr style=\"text-align: right;\">\n",
       "      <th>stroke</th>\n",
       "      <th>0</th>\n",
       "      <th>1</th>\n",
       "    </tr>\n",
       "    <tr>\n",
       "      <th>Residence_type</th>\n",
       "      <th></th>\n",
       "      <th></th>\n",
       "    </tr>\n",
       "  </thead>\n",
       "  <tbody>\n",
       "    <tr>\n",
       "      <th>Rural</th>\n",
       "      <td>2400</td>\n",
       "      <td>114</td>\n",
       "    </tr>\n",
       "    <tr>\n",
       "      <th>Urban</th>\n",
       "      <td>2461</td>\n",
       "      <td>135</td>\n",
       "    </tr>\n",
       "  </tbody>\n",
       "</table>\n",
       "</div>"
      ],
      "text/plain": [
       "stroke             0    1\n",
       "Residence_type           \n",
       "Rural           2400  114\n",
       "Urban           2461  135"
      ]
     },
     "execution_count": 34,
     "metadata": {},
     "output_type": "execute_result"
    }
   ],
   "source": [
    " # Nombre de cas de crise cardiaque en fonction de l'habitation\n",
    "colonne1 = yann_affect['Residence_type']\n",
    "colonne2 = yann_affect['stroke']\n",
    "\n",
    "pd.crosstab(colonne1, colonne2)\n",
    "\n",
    "#un petit peu plus de crisen cardiaque en ville\n",
    "\n"
   ]
  },
  {
   "cell_type": "code",
   "execution_count": 38,
   "id": "bf192b0a",
   "metadata": {
    "scrolled": true
   },
   "outputs": [
    {
     "name": "stderr",
     "output_type": "stream",
     "text": [
      "C:\\Users\\pytu10841\\AppData\\Local\\Temp\\ipykernel_20324\\2551123393.py:23: FutureWarning: inplace is deprecated and will be removed in a future version.\n",
      "  avg_glucose_level_groupby.columns.set_levels(['max_avg_glucose_level', 'min_avg_glucose_level', 'median_avg_glucose_level'], level=1, inplace = True)\n"
     ]
    },
    {
     "data": {
      "text/html": [
       "<div>\n",
       "<style scoped>\n",
       "    .dataframe tbody tr th:only-of-type {\n",
       "        vertical-align: middle;\n",
       "    }\n",
       "\n",
       "    .dataframe tbody tr th {\n",
       "        vertical-align: top;\n",
       "    }\n",
       "\n",
       "    .dataframe thead tr th {\n",
       "        text-align: left;\n",
       "    }\n",
       "\n",
       "    .dataframe thead tr:last-of-type th {\n",
       "        text-align: right;\n",
       "    }\n",
       "</style>\n",
       "<table border=\"1\" class=\"dataframe\">\n",
       "  <thead>\n",
       "    <tr>\n",
       "      <th></th>\n",
       "      <th colspan=\"3\" halign=\"left\">avg_glucose_level</th>\n",
       "    </tr>\n",
       "    <tr>\n",
       "      <th></th>\n",
       "      <th>max_avg_glucose_level</th>\n",
       "      <th>min_avg_glucose_level</th>\n",
       "      <th>median_avg_glucose_level</th>\n",
       "    </tr>\n",
       "    <tr>\n",
       "      <th>Residence_type</th>\n",
       "      <th></th>\n",
       "      <th></th>\n",
       "      <th></th>\n",
       "    </tr>\n",
       "  </thead>\n",
       "  <tbody>\n",
       "    <tr>\n",
       "      <th>Rural</th>\n",
       "      <td>271.74</td>\n",
       "      <td>55.12</td>\n",
       "      <td>92.955</td>\n",
       "    </tr>\n",
       "    <tr>\n",
       "      <th>Urban</th>\n",
       "      <td>267.76</td>\n",
       "      <td>55.22</td>\n",
       "      <td>90.770</td>\n",
       "    </tr>\n",
       "  </tbody>\n",
       "</table>\n",
       "</div>"
      ],
      "text/plain": [
       "                   avg_glucose_level                        \\\n",
       "               max_avg_glucose_level min_avg_glucose_level   \n",
       "Residence_type                                               \n",
       "Rural                         271.74                 55.12   \n",
       "Urban                         267.76                 55.22   \n",
       "\n",
       "                                         \n",
       "               median_avg_glucose_level  \n",
       "Residence_type                           \n",
       "Rural                            92.955  \n",
       "Urban                            90.770  "
      ]
     },
     "execution_count": 38,
     "metadata": {},
     "output_type": "execute_result"
    }
   ],
   "source": [
    "#Taux de glucose en fonction de l'habitation\n",
    "\n",
    "# Quantité maximale\n",
    "max_avg_glucose_level = lambda avg_glucose_level: avg_glucose_level[avg_glucose_level > 0].max()\n",
    "\n",
    "# Quantité minimale\n",
    "min_avg_glucose_level = lambda avg_glucose_level: avg_glucose_level[avg_glucose_level > 0].min()\n",
    "\n",
    "# Quantité médiane\n",
    "median_avg_glucose_level = lambda avg_glucose_level : avg_glucose_level[avg_glucose_level > 0].median()\n",
    "\n",
    "\n",
    "\n",
    "\n",
    "# Définition du dictionnaire de fonctions à appliquer\n",
    "functions_to_apply = {\n",
    "    'avg_glucose_level' : [max_avg_glucose_level, min_avg_glucose_level, median_avg_glucose_level]\n",
    "}\n",
    "\n",
    "\n",
    "# Operation groupby\n",
    "avg_glucose_level_groupby = yann_affect.groupby('Residence_type').agg(functions_to_apply)\n",
    "\n",
    "# Pour un meilleur affichage, on peut renommer les colonnes produite par le groupby\n",
    "avg_glucose_level_groupby.columns.set_levels(['max_avg_glucose_level', 'min_avg_glucose_level', 'median_avg_glucose_level'], level=1, inplace = True)\n",
    "\n",
    "# Affichage des premières lignes du Dataframe produit par l'opération groupby\n",
    "avg_glucose_level_groupby.head()"
   ]
  },
  {
   "cell_type": "code",
   "execution_count": 39,
   "id": "112d07d8",
   "metadata": {},
   "outputs": [
    {
     "name": "stderr",
     "output_type": "stream",
     "text": [
      "C:\\Users\\pytu10841\\AppData\\Local\\Temp\\ipykernel_20324\\1907194084.py:25: FutureWarning: inplace is deprecated and will be removed in a future version.\n",
      "  avg_glucose_level_groupby.columns.set_levels(['max_avg_glucose_level', 'min_avg_glucose_level', 'median_avg_glucose_level'], level=1, inplace = True)\n"
     ]
    },
    {
     "data": {
      "text/html": [
       "<div>\n",
       "<style scoped>\n",
       "    .dataframe tbody tr th:only-of-type {\n",
       "        vertical-align: middle;\n",
       "    }\n",
       "\n",
       "    .dataframe tbody tr th {\n",
       "        vertical-align: top;\n",
       "    }\n",
       "\n",
       "    .dataframe thead tr th {\n",
       "        text-align: left;\n",
       "    }\n",
       "\n",
       "    .dataframe thead tr:last-of-type th {\n",
       "        text-align: right;\n",
       "    }\n",
       "</style>\n",
       "<table border=\"1\" class=\"dataframe\">\n",
       "  <thead>\n",
       "    <tr>\n",
       "      <th></th>\n",
       "      <th colspan=\"3\" halign=\"left\">avg_glucose_level</th>\n",
       "    </tr>\n",
       "    <tr>\n",
       "      <th></th>\n",
       "      <th>max_avg_glucose_level</th>\n",
       "      <th>min_avg_glucose_level</th>\n",
       "      <th>median_avg_glucose_level</th>\n",
       "    </tr>\n",
       "    <tr>\n",
       "      <th>stroke</th>\n",
       "      <th></th>\n",
       "      <th></th>\n",
       "      <th></th>\n",
       "    </tr>\n",
       "  </thead>\n",
       "  <tbody>\n",
       "    <tr>\n",
       "      <th>0</th>\n",
       "      <td>267.76</td>\n",
       "      <td>55.12</td>\n",
       "      <td>91.47</td>\n",
       "    </tr>\n",
       "    <tr>\n",
       "      <th>1</th>\n",
       "      <td>271.74</td>\n",
       "      <td>56.11</td>\n",
       "      <td>105.22</td>\n",
       "    </tr>\n",
       "  </tbody>\n",
       "</table>\n",
       "</div>"
      ],
      "text/plain": [
       "           avg_glucose_level                                               \n",
       "       max_avg_glucose_level min_avg_glucose_level median_avg_glucose_level\n",
       "stroke                                                                     \n",
       "0                     267.76                 55.12                    91.47\n",
       "1                     271.74                 56.11                   105.22"
      ]
     },
     "execution_count": 39,
     "metadata": {},
     "output_type": "execute_result"
    }
   ],
   "source": [
    "#Taux de glucose en fonction de l'habitation\n",
    "\n",
    "# Quantité maximale\n",
    "max_avg_glucose_level = lambda avg_glucose_level: avg_glucose_level[avg_glucose_level > 0].max()\n",
    "\n",
    "# Quantité minimale\n",
    "min_avg_glucose_level = lambda avg_glucose_level: avg_glucose_level[avg_glucose_level > 0].min()\n",
    "\n",
    "# Quantité médiane\n",
    "median_avg_glucose_level = lambda avg_glucose_level : avg_glucose_level[avg_glucose_level > 0].median()\n",
    "\n",
    "\n",
    "\n",
    "\n",
    "# Définition du dictionnaire de fonctions à appliquer\n",
    "functions_to_apply = {\n",
    "    'avg_glucose_level' : [max_avg_glucose_level, min_avg_glucose_level, median_avg_glucose_level]\n",
    "}\n",
    "\n",
    "\n",
    "# Operation groupby\n",
    "avg_glucose_level_groupby = yann_affect.groupby('stroke').agg(functions_to_apply)\n",
    "\n",
    "# Pour un meilleur affichage, on peut renommer les colonnes produite par le groupby\n",
    "avg_glucose_level_groupby.columns.set_levels(['max_avg_glucose_level', 'min_avg_glucose_level', 'median_avg_glucose_level'], level=1, inplace = True)\n",
    "\n",
    "# Affichage des premières lignes du Dataframe produit par l'opération groupby\n",
    "avg_glucose_level_groupby.head()"
   ]
  }
 ],
 "metadata": {
  "kernelspec": {
   "display_name": "Python 3 (ipykernel)",
   "language": "python",
   "name": "python3"
  },
  "language_info": {
   "codemirror_mode": {
    "name": "ipython",
    "version": 3
   },
   "file_extension": ".py",
   "mimetype": "text/x-python",
   "name": "python",
   "nbconvert_exporter": "python",
   "pygments_lexer": "ipython3",
   "version": "3.9.7"
  },
  "toc-autonumbering": true,
  "toc-showcode": true,
  "toc-showmarkdowntxt": true
 },
 "nbformat": 4,
 "nbformat_minor": 5
}
