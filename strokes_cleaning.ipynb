{
 "cells": [
  {
   "cell_type": "markdown",
   "id": "6a166d67-b39f-4d85-a701-a89c6b02e432",
   "metadata": {},
   "source": [
    "# 0. Librairies utilisées"
   ]
  },
  {
   "cell_type": "code",
   "execution_count": 1,
   "id": "486d97ae-cd60-4b56-8b49-00042454f8ec",
   "metadata": {
    "tags": []
   },
   "outputs": [],
   "source": [
    "# pip install dython redémarrer jupyter après\n",
    "from dython.nominal import associations, identify_nominal_columns\n",
    "\n",
    "from imblearn.metrics import classification_report_imbalanced\n",
    "# Oversampling\n",
    "from imblearn.over_sampling import RandomOverSampler\n",
    "\n",
    "import matplotlib.pyplot as plt\n",
    "import numpy as np\n",
    "import pandas as pd\n",
    "from pandas.plotting import scatter_matrix\n",
    "from scipy.stats import pearsonr, chi2_contingency\n",
    "from sklearn.decomposition import PCA\n",
    "from sklearn.linear_model import LogisticRegression\n",
    "from sklearn.metrics import accuracy_score, balanced_accuracy_score, confusion_matrix\n",
    "from sklearn.model_selection import train_test_split\n",
    "from sklearn.model_selection import GridSearchCV\n",
    "from sklearn.preprocessing import StandardScaler\n",
    "from sklearn.pipeline import make_pipeline\n",
    "from sklearn.svm import SVC\n",
    "from sklearn.svm import LinearSVC\n",
    "from sklearn.model_selection import cross_val_score\n",
    "from sklearn.metrics import classification_report\n",
    "import statsmodels.api\n",
    "import warnings\n",
    "\n",
    "\n",
    "%matplotlib inline"
   ]
  },
  {
   "cell_type": "markdown",
   "id": "30eb582c-5afe-4b73-bdeb-2a4737c86d11",
   "metadata": {},
   "source": [
    "# Sommaire\n",
    "\n",
    "- ### [1. Exploration des données](#1)\n",
    "- ### [2. Nettoyage des données](#2)\n",
    "- ### [3. Analyse descriptive](#3)\n",
    "- ### [3.1. Liaisons entre les variables](#3.1)\n",
    "- ### [3.2. Analyse des liaisons entre les variables catégorielles](#3.2)\n",
    "- ### [3.3. Liaison entre variables quantitatives et qualitatives](#3.3)\n",
    "- ### [4. Implémentation des algorithmes de ML](#4)\n"
   ]
  },
  {
   "cell_type": "markdown",
   "id": "fcb6461a",
   "metadata": {},
   "source": [
    "<a class=\"anchor\" name=\"1\"></a>\n",
    "# 1. Exploration des données"
   ]
  },
  {
   "cell_type": "code",
   "execution_count": 2,
   "id": "c76e1971-737f-4ef7-a1f3-8584850c0f0e",
   "metadata": {
    "tags": []
   },
   "outputs": [
    {
     "ename": "FileNotFoundError",
     "evalue": "[Errno 2] No such file or directory: 'strokes.csv'",
     "output_type": "error",
     "traceback": [
      "\u001b[1;31m---------------------------------------------------------------------------\u001b[0m",
      "\u001b[1;31mFileNotFoundError\u001b[0m                         Traceback (most recent call last)",
      "\u001b[1;32mC:\\Users\\PYTU10~1\\AppData\\Local\\Temp/ipykernel_16732/1158931535.py\u001b[0m in \u001b[0;36m<module>\u001b[1;34m\u001b[0m\n\u001b[1;32m----> 1\u001b[1;33m \u001b[0mdf\u001b[0m \u001b[1;33m=\u001b[0m \u001b[0mpd\u001b[0m\u001b[1;33m.\u001b[0m\u001b[0mread_csv\u001b[0m\u001b[1;33m(\u001b[0m\u001b[1;34m\"strokes.csv\"\u001b[0m\u001b[1;33m,\u001b[0m \u001b[0mindex_col\u001b[0m\u001b[1;33m=\u001b[0m\u001b[1;34m\"id\"\u001b[0m\u001b[1;33m)\u001b[0m\u001b[1;33m\u001b[0m\u001b[1;33m\u001b[0m\u001b[0m\n\u001b[0m\u001b[0;32m      2\u001b[0m \u001b[0mdf\u001b[0m\u001b[1;33m.\u001b[0m\u001b[0mhead\u001b[0m\u001b[1;33m(\u001b[0m\u001b[1;33m)\u001b[0m\u001b[1;33m\u001b[0m\u001b[1;33m\u001b[0m\u001b[0m\n",
      "\u001b[1;32m~\\Anaconda3\\lib\\site-packages\\pandas\\util\\_decorators.py\u001b[0m in \u001b[0;36mwrapper\u001b[1;34m(*args, **kwargs)\u001b[0m\n\u001b[0;32m    309\u001b[0m                     \u001b[0mstacklevel\u001b[0m\u001b[1;33m=\u001b[0m\u001b[0mstacklevel\u001b[0m\u001b[1;33m,\u001b[0m\u001b[1;33m\u001b[0m\u001b[1;33m\u001b[0m\u001b[0m\n\u001b[0;32m    310\u001b[0m                 )\n\u001b[1;32m--> 311\u001b[1;33m             \u001b[1;32mreturn\u001b[0m \u001b[0mfunc\u001b[0m\u001b[1;33m(\u001b[0m\u001b[1;33m*\u001b[0m\u001b[0margs\u001b[0m\u001b[1;33m,\u001b[0m \u001b[1;33m**\u001b[0m\u001b[0mkwargs\u001b[0m\u001b[1;33m)\u001b[0m\u001b[1;33m\u001b[0m\u001b[1;33m\u001b[0m\u001b[0m\n\u001b[0m\u001b[0;32m    312\u001b[0m \u001b[1;33m\u001b[0m\u001b[0m\n\u001b[0;32m    313\u001b[0m         \u001b[1;32mreturn\u001b[0m \u001b[0mwrapper\u001b[0m\u001b[1;33m\u001b[0m\u001b[1;33m\u001b[0m\u001b[0m\n",
      "\u001b[1;32m~\\Anaconda3\\lib\\site-packages\\pandas\\io\\parsers\\readers.py\u001b[0m in \u001b[0;36mread_csv\u001b[1;34m(filepath_or_buffer, sep, delimiter, header, names, index_col, usecols, squeeze, prefix, mangle_dupe_cols, dtype, engine, converters, true_values, false_values, skipinitialspace, skiprows, skipfooter, nrows, na_values, keep_default_na, na_filter, verbose, skip_blank_lines, parse_dates, infer_datetime_format, keep_date_col, date_parser, dayfirst, cache_dates, iterator, chunksize, compression, thousands, decimal, lineterminator, quotechar, quoting, doublequote, escapechar, comment, encoding, encoding_errors, dialect, error_bad_lines, warn_bad_lines, on_bad_lines, delim_whitespace, low_memory, memory_map, float_precision, storage_options)\u001b[0m\n\u001b[0;32m    584\u001b[0m     \u001b[0mkwds\u001b[0m\u001b[1;33m.\u001b[0m\u001b[0mupdate\u001b[0m\u001b[1;33m(\u001b[0m\u001b[0mkwds_defaults\u001b[0m\u001b[1;33m)\u001b[0m\u001b[1;33m\u001b[0m\u001b[1;33m\u001b[0m\u001b[0m\n\u001b[0;32m    585\u001b[0m \u001b[1;33m\u001b[0m\u001b[0m\n\u001b[1;32m--> 586\u001b[1;33m     \u001b[1;32mreturn\u001b[0m \u001b[0m_read\u001b[0m\u001b[1;33m(\u001b[0m\u001b[0mfilepath_or_buffer\u001b[0m\u001b[1;33m,\u001b[0m \u001b[0mkwds\u001b[0m\u001b[1;33m)\u001b[0m\u001b[1;33m\u001b[0m\u001b[1;33m\u001b[0m\u001b[0m\n\u001b[0m\u001b[0;32m    587\u001b[0m \u001b[1;33m\u001b[0m\u001b[0m\n\u001b[0;32m    588\u001b[0m \u001b[1;33m\u001b[0m\u001b[0m\n",
      "\u001b[1;32m~\\Anaconda3\\lib\\site-packages\\pandas\\io\\parsers\\readers.py\u001b[0m in \u001b[0;36m_read\u001b[1;34m(filepath_or_buffer, kwds)\u001b[0m\n\u001b[0;32m    480\u001b[0m \u001b[1;33m\u001b[0m\u001b[0m\n\u001b[0;32m    481\u001b[0m     \u001b[1;31m# Create the parser.\u001b[0m\u001b[1;33m\u001b[0m\u001b[1;33m\u001b[0m\u001b[0m\n\u001b[1;32m--> 482\u001b[1;33m     \u001b[0mparser\u001b[0m \u001b[1;33m=\u001b[0m \u001b[0mTextFileReader\u001b[0m\u001b[1;33m(\u001b[0m\u001b[0mfilepath_or_buffer\u001b[0m\u001b[1;33m,\u001b[0m \u001b[1;33m**\u001b[0m\u001b[0mkwds\u001b[0m\u001b[1;33m)\u001b[0m\u001b[1;33m\u001b[0m\u001b[1;33m\u001b[0m\u001b[0m\n\u001b[0m\u001b[0;32m    483\u001b[0m \u001b[1;33m\u001b[0m\u001b[0m\n\u001b[0;32m    484\u001b[0m     \u001b[1;32mif\u001b[0m \u001b[0mchunksize\u001b[0m \u001b[1;32mor\u001b[0m \u001b[0miterator\u001b[0m\u001b[1;33m:\u001b[0m\u001b[1;33m\u001b[0m\u001b[1;33m\u001b[0m\u001b[0m\n",
      "\u001b[1;32m~\\Anaconda3\\lib\\site-packages\\pandas\\io\\parsers\\readers.py\u001b[0m in \u001b[0;36m__init__\u001b[1;34m(self, f, engine, **kwds)\u001b[0m\n\u001b[0;32m    809\u001b[0m             \u001b[0mself\u001b[0m\u001b[1;33m.\u001b[0m\u001b[0moptions\u001b[0m\u001b[1;33m[\u001b[0m\u001b[1;34m\"has_index_names\"\u001b[0m\u001b[1;33m]\u001b[0m \u001b[1;33m=\u001b[0m \u001b[0mkwds\u001b[0m\u001b[1;33m[\u001b[0m\u001b[1;34m\"has_index_names\"\u001b[0m\u001b[1;33m]\u001b[0m\u001b[1;33m\u001b[0m\u001b[1;33m\u001b[0m\u001b[0m\n\u001b[0;32m    810\u001b[0m \u001b[1;33m\u001b[0m\u001b[0m\n\u001b[1;32m--> 811\u001b[1;33m         \u001b[0mself\u001b[0m\u001b[1;33m.\u001b[0m\u001b[0m_engine\u001b[0m \u001b[1;33m=\u001b[0m \u001b[0mself\u001b[0m\u001b[1;33m.\u001b[0m\u001b[0m_make_engine\u001b[0m\u001b[1;33m(\u001b[0m\u001b[0mself\u001b[0m\u001b[1;33m.\u001b[0m\u001b[0mengine\u001b[0m\u001b[1;33m)\u001b[0m\u001b[1;33m\u001b[0m\u001b[1;33m\u001b[0m\u001b[0m\n\u001b[0m\u001b[0;32m    812\u001b[0m \u001b[1;33m\u001b[0m\u001b[0m\n\u001b[0;32m    813\u001b[0m     \u001b[1;32mdef\u001b[0m \u001b[0mclose\u001b[0m\u001b[1;33m(\u001b[0m\u001b[0mself\u001b[0m\u001b[1;33m)\u001b[0m\u001b[1;33m:\u001b[0m\u001b[1;33m\u001b[0m\u001b[1;33m\u001b[0m\u001b[0m\n",
      "\u001b[1;32m~\\Anaconda3\\lib\\site-packages\\pandas\\io\\parsers\\readers.py\u001b[0m in \u001b[0;36m_make_engine\u001b[1;34m(self, engine)\u001b[0m\n\u001b[0;32m   1038\u001b[0m             )\n\u001b[0;32m   1039\u001b[0m         \u001b[1;31m# error: Too many arguments for \"ParserBase\"\u001b[0m\u001b[1;33m\u001b[0m\u001b[1;33m\u001b[0m\u001b[0m\n\u001b[1;32m-> 1040\u001b[1;33m         \u001b[1;32mreturn\u001b[0m \u001b[0mmapping\u001b[0m\u001b[1;33m[\u001b[0m\u001b[0mengine\u001b[0m\u001b[1;33m]\u001b[0m\u001b[1;33m(\u001b[0m\u001b[0mself\u001b[0m\u001b[1;33m.\u001b[0m\u001b[0mf\u001b[0m\u001b[1;33m,\u001b[0m \u001b[1;33m**\u001b[0m\u001b[0mself\u001b[0m\u001b[1;33m.\u001b[0m\u001b[0moptions\u001b[0m\u001b[1;33m)\u001b[0m  \u001b[1;31m# type: ignore[call-arg]\u001b[0m\u001b[1;33m\u001b[0m\u001b[1;33m\u001b[0m\u001b[0m\n\u001b[0m\u001b[0;32m   1041\u001b[0m \u001b[1;33m\u001b[0m\u001b[0m\n\u001b[0;32m   1042\u001b[0m     \u001b[1;32mdef\u001b[0m \u001b[0m_failover_to_python\u001b[0m\u001b[1;33m(\u001b[0m\u001b[0mself\u001b[0m\u001b[1;33m)\u001b[0m\u001b[1;33m:\u001b[0m\u001b[1;33m\u001b[0m\u001b[1;33m\u001b[0m\u001b[0m\n",
      "\u001b[1;32m~\\Anaconda3\\lib\\site-packages\\pandas\\io\\parsers\\c_parser_wrapper.py\u001b[0m in \u001b[0;36m__init__\u001b[1;34m(self, src, **kwds)\u001b[0m\n\u001b[0;32m     49\u001b[0m \u001b[1;33m\u001b[0m\u001b[0m\n\u001b[0;32m     50\u001b[0m         \u001b[1;31m# open handles\u001b[0m\u001b[1;33m\u001b[0m\u001b[1;33m\u001b[0m\u001b[0m\n\u001b[1;32m---> 51\u001b[1;33m         \u001b[0mself\u001b[0m\u001b[1;33m.\u001b[0m\u001b[0m_open_handles\u001b[0m\u001b[1;33m(\u001b[0m\u001b[0msrc\u001b[0m\u001b[1;33m,\u001b[0m \u001b[0mkwds\u001b[0m\u001b[1;33m)\u001b[0m\u001b[1;33m\u001b[0m\u001b[1;33m\u001b[0m\u001b[0m\n\u001b[0m\u001b[0;32m     52\u001b[0m         \u001b[1;32massert\u001b[0m \u001b[0mself\u001b[0m\u001b[1;33m.\u001b[0m\u001b[0mhandles\u001b[0m \u001b[1;32mis\u001b[0m \u001b[1;32mnot\u001b[0m \u001b[1;32mNone\u001b[0m\u001b[1;33m\u001b[0m\u001b[1;33m\u001b[0m\u001b[0m\n\u001b[0;32m     53\u001b[0m \u001b[1;33m\u001b[0m\u001b[0m\n",
      "\u001b[1;32m~\\Anaconda3\\lib\\site-packages\\pandas\\io\\parsers\\base_parser.py\u001b[0m in \u001b[0;36m_open_handles\u001b[1;34m(self, src, kwds)\u001b[0m\n\u001b[0;32m    220\u001b[0m         \u001b[0mLet\u001b[0m \u001b[0mthe\u001b[0m \u001b[0mreaders\u001b[0m \u001b[0mopen\u001b[0m \u001b[0mIOHandles\u001b[0m \u001b[0mafter\u001b[0m \u001b[0mthey\u001b[0m \u001b[0mare\u001b[0m \u001b[0mdone\u001b[0m \u001b[1;32mwith\u001b[0m \u001b[0mtheir\u001b[0m \u001b[0mpotential\u001b[0m \u001b[0mraises\u001b[0m\u001b[1;33m.\u001b[0m\u001b[1;33m\u001b[0m\u001b[1;33m\u001b[0m\u001b[0m\n\u001b[0;32m    221\u001b[0m         \"\"\"\n\u001b[1;32m--> 222\u001b[1;33m         self.handles = get_handle(\n\u001b[0m\u001b[0;32m    223\u001b[0m             \u001b[0msrc\u001b[0m\u001b[1;33m,\u001b[0m\u001b[1;33m\u001b[0m\u001b[1;33m\u001b[0m\u001b[0m\n\u001b[0;32m    224\u001b[0m             \u001b[1;34m\"r\"\u001b[0m\u001b[1;33m,\u001b[0m\u001b[1;33m\u001b[0m\u001b[1;33m\u001b[0m\u001b[0m\n",
      "\u001b[1;32m~\\Anaconda3\\lib\\site-packages\\pandas\\io\\common.py\u001b[0m in \u001b[0;36mget_handle\u001b[1;34m(path_or_buf, mode, encoding, compression, memory_map, is_text, errors, storage_options)\u001b[0m\n\u001b[0;32m    700\u001b[0m         \u001b[1;32mif\u001b[0m \u001b[0mioargs\u001b[0m\u001b[1;33m.\u001b[0m\u001b[0mencoding\u001b[0m \u001b[1;32mand\u001b[0m \u001b[1;34m\"b\"\u001b[0m \u001b[1;32mnot\u001b[0m \u001b[1;32min\u001b[0m \u001b[0mioargs\u001b[0m\u001b[1;33m.\u001b[0m\u001b[0mmode\u001b[0m\u001b[1;33m:\u001b[0m\u001b[1;33m\u001b[0m\u001b[1;33m\u001b[0m\u001b[0m\n\u001b[0;32m    701\u001b[0m             \u001b[1;31m# Encoding\u001b[0m\u001b[1;33m\u001b[0m\u001b[1;33m\u001b[0m\u001b[0m\n\u001b[1;32m--> 702\u001b[1;33m             handle = open(\n\u001b[0m\u001b[0;32m    703\u001b[0m                 \u001b[0mhandle\u001b[0m\u001b[1;33m,\u001b[0m\u001b[1;33m\u001b[0m\u001b[1;33m\u001b[0m\u001b[0m\n\u001b[0;32m    704\u001b[0m                 \u001b[0mioargs\u001b[0m\u001b[1;33m.\u001b[0m\u001b[0mmode\u001b[0m\u001b[1;33m,\u001b[0m\u001b[1;33m\u001b[0m\u001b[1;33m\u001b[0m\u001b[0m\n",
      "\u001b[1;31mFileNotFoundError\u001b[0m: [Errno 2] No such file or directory: 'strokes.csv'"
     ]
    }
   ],
   "source": [
    "df = pd.read_csv(\"strokes.csv\", index_col=\"id\")\n",
    "df.head()"
   ]
  },
  {
   "cell_type": "code",
   "execution_count": null,
   "id": "be2e7c7a",
   "metadata": {
    "tags": []
   },
   "outputs": [],
   "source": [
    "print(\"- Nombre d'observations et de variables : \", df.shape,'\\n')\n",
    "print(\"- Variables explicatives/expliquée et type : \")\n",
    "df.info()"
   ]
  },
  {
   "cell_type": "markdown",
   "id": "996f0584",
   "metadata": {},
   "source": [
    "<div class= \"alert alert-info\">\n",
    "    - C'est un jeu de données avec un nombre d'observations assez bas : 5110\n",
    "</div>"
   ]
  },
  {
   "cell_type": "code",
   "execution_count": null,
   "id": "85a17f75",
   "metadata": {
    "tags": []
   },
   "outputs": [],
   "source": [
    "# Variable Age\n",
    "\n",
    "print(\"- Statistiques sur la variable 'age' :\\n\", df['age'].describe(),'\\n')\n",
    "\n",
    "df.sort_values(by = 'age', ascending = True).head(500)\n",
    "print(\"Ages entre 0 et 2 ans :\\n\", df[(df.age%1 != 0.00) & (df.age<2)][['age', 'stroke']])\n",
    "# Entre 0 et 2 ans, les âges sont exprimés avec des nombres décimaux, voir par la suite si c'est à corriger ou pas\n",
    "# pour l'implémentation des algorithmes de ML. \n",
    "\n",
    "# Classes d'âge\n",
    "df_ca = df.copy()\n",
    "df_ca['age_classes'] = pd.qcut(df['age'], labels=[0, 1, 2, 3], q=4)\n",
    "\n",
    "# répartition des attaques selon la classe d'âge\n",
    "stroke_groupby = df_ca.groupby(['age_classes', 'stroke']).agg({'stroke' : 'count'})\n",
    "stroke_groupby\n"
   ]
  },
  {
   "cell_type": "markdown",
   "id": "5cfa0565",
   "metadata": {},
   "source": [
    "<div class= \"alert alert-info\">\n",
    "    - L'écart type, les quantiles et la moyenne nous montrent qu'il y a une répartition des âges homogène entre 0 et 82 ans.</br>\n",
    "    - Il y a de plus en plus de cas de crises cardiaques dans les classes d'âge des personnes les plus âgées, c'est logique.\n",
    "</div>"
   ]
  },
  {
   "cell_type": "code",
   "execution_count": null,
   "id": "2777280d",
   "metadata": {
    "tags": []
   },
   "outputs": [],
   "source": [
    "print(\"Gender :\\n\", df['gender'].value_counts(normalize=True),'\\n')\n",
    "print(\"hypertension :\\n\", df['hypertension'].value_counts(normalize=True),'\\n')\n",
    "print(\"work_type :\\n\", df['work_type'].value_counts(normalize=True),'\\n')"
   ]
  },
  {
   "cell_type": "markdown",
   "id": "a80889fd",
   "metadata": {},
   "source": [
    "<div class= \"alert alert-info\">\n",
    "     Dans le jeu de données : </br>\n",
    "    - La proportion de femmes est légèrement plus importante.</br>\n",
    "    - Très peu de cas d'hypertension.</br>\n",
    "    - Une majorité de jobs privés.</br>   \n",
    "</div>"
   ]
  },
  {
   "cell_type": "code",
   "execution_count": null,
   "id": "b9331b22",
   "metadata": {
    "tags": []
   },
   "outputs": [],
   "source": [
    "#Stroke analyse\n",
    "\n",
    "print(df['stroke'].isna().sum())\n",
    "print(\"stroke :\\n\", df['stroke'].value_counts(normalize=True),'\\n')\n",
    "#aucune valeur vide\n",
    "\n",
    "df['stroke'].value_counts()\n",
    "#249 crise cardiaque décelé\n",
    "#4861 sans crise cardiaque\n"
   ]
  },
  {
   "cell_type": "markdown",
   "id": "0a4bae05",
   "metadata": {},
   "source": [
    "<div class= \"alert alert-info\">\n",
    "    - Très faible proportion d'observations avec la variable cible 'stroke' positive donc peu de cas de crise cardiaque, attention au déséquilibre des classes pour la variable cible. Comme le nombre d'observations est faible, nécessité de faire de <b>l'oversampling</b>.   \n",
    "</div>"
   ]
  },
  {
   "cell_type": "code",
   "execution_count": null,
   "id": "f1dbb823",
   "metadata": {
    "tags": []
   },
   "outputs": [],
   "source": [
    "#Type de résidence\n",
    "print(df['Residence_type'].isna().sum())\n",
    "print(\"Residence_type :\\n\", df['Residence_type'].value_counts(normalize=True),'\\n')\n",
    "#aucune valeur vide\n",
    "\n",
    "df['Residence_type'].value_counts()\n",
    "\n",
    "print (df['Residence_type'].value_counts())\n",
    "\n",
    "#Urban    2596\n",
    "#Rural    2514"
   ]
  },
  {
   "cell_type": "code",
   "execution_count": null,
   "id": "9066a14d",
   "metadata": {
    "tags": []
   },
   "outputs": [],
   "source": [
    "#Taux de glucose\n",
    "print(df['avg_glucose_level'].isna().sum())\n",
    "#aucune valeur vide\n",
    "\n",
    "df['avg_glucose_level'].describe()\n",
    "\n",
    "#taux moyen de glucose 106.147677"
   ]
  },
  {
   "cell_type": "markdown",
   "id": "098d4e46",
   "metadata": {},
   "source": [
    "<a class=\"anchor\" name=\"2\"></a>\n",
    "# 2. Nettoyage des données"
   ]
  },
  {
   "cell_type": "code",
   "execution_count": null,
   "id": "f415ab68-2538-403f-a4fb-5a154046571e",
   "metadata": {
    "tags": []
   },
   "outputs": [],
   "source": [
    "df.index.duplicated().sum()"
   ]
  },
  {
   "cell_type": "markdown",
   "id": "a4429ecc",
   "metadata": {},
   "source": [
    "<div class= \"alert alert-info\">\n",
    "    Il n'y a pas de doublons au niveau de l'index : pas besoin de supprimer de doublons\n",
    "</div>"
   ]
  },
  {
   "cell_type": "code",
   "execution_count": null,
   "id": "7511460e-9ad0-4d6d-997b-580529fe8f27",
   "metadata": {
    "tags": []
   },
   "outputs": [],
   "source": [
    "df.isna().sum()"
   ]
  },
  {
   "cell_type": "markdown",
   "id": "0295e256",
   "metadata": {},
   "source": [
    "<div class= \"alert alert-info\">\n",
    "    Il y a des valeurs NaN dans la colonne bmi que l'on va remplacer par un mean\n",
    "</div>"
   ]
  },
  {
   "cell_type": "code",
   "execution_count": null,
   "id": "801d4be0-f767-423e-ae6f-54da6ecaf60b",
   "metadata": {
    "tags": []
   },
   "outputs": [],
   "source": [
    "#On remplace les valeurs NA par le mean de la colonne bmi\n",
    "df_new = df.copy()\n",
    "\n",
    "df_new.loc[:, (\"bmi\")] = df[\"bmi\"].fillna(df[\"bmi\"].mean())\n",
    "\n",
    "#On remplace également les valeurs Unknown par le mode de la colonne\n",
    "df_new = df_new.replace(\"Unknown\", np.NaN)\n",
    "df_new[\"smoking_status\"] = df_new[\"smoking_status\"].fillna(df_new[\"smoking_status\"].mode()[0])\n",
    "df_new.head()"
   ]
  },
  {
   "cell_type": "code",
   "execution_count": null,
   "id": "53cc9ff9-dbbc-421d-a147-697437d2d8bf",
   "metadata": {
    "tags": []
   },
   "outputs": [],
   "source": [
    "df_new[\"bmi\"].describe()"
   ]
  },
  {
   "cell_type": "markdown",
   "id": "fd46b9fa",
   "metadata": {},
   "source": [
    "<a class=\"anchor\" name=\"3\"></a>\n",
    "# 3. Analyse descriptive"
   ]
  },
  {
   "cell_type": "code",
   "execution_count": null,
   "id": "ac4fbfd9-46ef-4bb8-8198-898a8cd94120",
   "metadata": {
    "tags": []
   },
   "outputs": [],
   "source": [
    "#Est-ce que le fait d'être marié peut avoir un impact sur la crise cardiaque ?\n",
    "pd.crosstab(df_new[\"ever_married\"], df_new[\"stroke\"])"
   ]
  },
  {
   "cell_type": "code",
   "execution_count": null,
   "id": "4a42ba8c-8f99-45d6-b46c-359293667e67",
   "metadata": {
    "tags": []
   },
   "outputs": [],
   "source": [
    "#La même répartition en %\n",
    "round(pd.crosstab(df_new[\"ever_married\"], df_new[\"stroke\"], normalize=\"index\")*100,2)"
   ]
  },
  {
   "cell_type": "code",
   "execution_count": null,
   "id": "1b3a8a31-9907-4a2b-b38c-3fe4820ebf69",
   "metadata": {
    "tags": []
   },
   "outputs": [],
   "source": [
    "#Est-ce que le fait d'être fumeur peut avoir un impact sur la crise cardiaque ?\n",
    "round(pd.crosstab(df_new[\"smoking_status\"], df_new[\"stroke\"],normalize=\"index\")*100, 2)\n",
    "\n",
    "#On constate un écart non significatif entre les fumeurs et les non fumeurs sur le risque de crise cardiaque."
   ]
  },
  {
   "cell_type": "code",
   "execution_count": null,
   "id": "c0ab47c0-07c1-4e62-9f1d-9f160e6a037a",
   "metadata": {
    "tags": []
   },
   "outputs": [],
   "source": [
    "#Est-ce que le bmi peut avoir un impact sur la crise cardiaque ?\n",
    "\n",
    "df_bm1c = df_new.copy()\n",
    "df_bm1c[\"bmi_classes\"] = pd.qcut(df_new[\"bmi\"], labels=[0,1,2,3], q=4)\n",
    "round(pd.crosstab(df_bm1c[\"bmi_classes\"], df_bm1c[\"stroke\"],normalize=\"index\")*100, 2)"
   ]
  },
  {
   "cell_type": "code",
   "execution_count": null,
   "id": "b7d7f106-0267-4f40-8697-8bad1d5af28c",
   "metadata": {
    "tags": []
   },
   "outputs": [],
   "source": [
    "df_new[\"bmi\"]"
   ]
  },
  {
   "cell_type": "code",
   "execution_count": null,
   "id": "c280ce11",
   "metadata": {
    "tags": []
   },
   "outputs": [],
   "source": [
    "#Est-ce que le type de travail peut avoir un impact sur la crise cardiaque ?\n",
    "round(pd.crosstab(df_new[\"work_type\"], df_new[\"stroke\"],normalize=\"index\")*100, 2)\n"
   ]
  },
  {
   "cell_type": "markdown",
   "id": "a3fad718",
   "metadata": {},
   "source": [
    "<div class= \"alert alert-info\">\n",
    "  Les cas de crise cardiaque les plus fréquents se trouvent chez les salariés du privé.</br>\n",
    "  Aucun cas chez ceux qui n'ont jamais travaillé.\n",
    "</div>"
   ]
  },
  {
   "cell_type": "code",
   "execution_count": null,
   "id": "9f6c119e",
   "metadata": {
    "tags": []
   },
   "outputs": [],
   "source": [
    "#Est-ce que le genre peut avoir un impact sur la crise cardiaque ?\n",
    "round(pd.crosstab(df_new[\"gender\"], df_new[\"stroke\"],normalize=\"index\")*100, 2)\n"
   ]
  },
  {
   "cell_type": "markdown",
   "id": "0fefa0dd",
   "metadata": {},
   "source": [
    "<div class= \"alert alert-info\">\n",
    "  Un peu plus de crise cardiaque chez les hommes, tout en sachant qu'il y a un nombre plus important d'observation chez les femmes (58,5 %).\n",
    "</div>"
   ]
  },
  {
   "cell_type": "code",
   "execution_count": null,
   "id": "7bc57988",
   "metadata": {
    "tags": []
   },
   "outputs": [],
   "source": [
    " # Est-ce que le type de résidence est un vecteur marquant sur la crise cardiaque ?\n",
    "colonne1 = df_new['Residence_type']\n",
    "colonne2 = df_new['stroke']\n",
    "\n",
    "\n",
    "print(\"\")\n",
    "\n",
    "pd.crosstab(colonne1, colonne2)\n"
   ]
  },
  {
   "cell_type": "markdown",
   "id": "72a9b827",
   "metadata": {},
   "source": [
    "<div class= \"alert alert-info\">\n",
    "    Un petit peu plus de crise cardiaque en ville 135 contre 114 en campagne\n",
    " </div>"
   ]
  },
  {
   "cell_type": "code",
   "execution_count": null,
   "id": "b36a6c5d",
   "metadata": {
    "tags": []
   },
   "outputs": [],
   "source": [
    "#Taux de glucose en fonction de l'habitation\n",
    "\n",
    "# Quantité maximale\n",
    "max_avg_glucose_level = lambda avg_glucose_level: avg_glucose_level[avg_glucose_level > 0].max()\n",
    "\n",
    "# Quantité minimale\n",
    "min_avg_glucose_level = lambda avg_glucose_level: avg_glucose_level[avg_glucose_level > 0].min()\n",
    "\n",
    "# Quantité médiane\n",
    "median_avg_glucose_level = lambda avg_glucose_level : avg_glucose_level[avg_glucose_level > 0].median()\n",
    "\n",
    "\n",
    "\n",
    "\n",
    "# Définition du dictionnaire de fonctions à appliquer\n",
    "functions_to_apply = {\n",
    "    'avg_glucose_level' : [max_avg_glucose_level, min_avg_glucose_level, median_avg_glucose_level]\n",
    "}\n",
    "\n",
    "\n",
    "# Operation groupby\n",
    "avg_glucose_level_groupby = df_new.groupby('Residence_type').agg(functions_to_apply)\n",
    "\n",
    "# Je renomme les colonnes produite par le groupby\n",
    "avg_glucose_level_groupby.columns.set_levels(['max_avg_glucose_level', 'min_avg_glucose_level', 'median_avg_glucose_level'], level=1, inplace = True)\n",
    "\n",
    "\n",
    "\n",
    "# Affichage des premières lignes du Dataframe produit par l'opération groupby\n",
    "avg_glucose_level_groupby.head()\n",
    "\n"
   ]
  },
  {
   "cell_type": "markdown",
   "id": "5d941d96",
   "metadata": {},
   "source": [
    "<div class= \"alert alert-block alert-info\">\n",
    "les taux de glucose sont presque équivalent en ville et en campagne\n",
    "</div>"
   ]
  },
  {
   "cell_type": "code",
   "execution_count": null,
   "id": "5c9e8d86",
   "metadata": {
    "tags": []
   },
   "outputs": [],
   "source": [
    "df_avg_gluc_c = df_new.copy()\n",
    "df_avg_gluc_c['avg_glucose_level_classes'] = pd.cut(df_new['avg_glucose_level'], bins=[0,70,100,125,np.inf],labels=['Hypoglycémie','Taux normal','Hyperglycémie modérée','Diablétique'])\n",
    "\n",
    "df_avg_gluc_c['avg_glucose_level_classes']\n"
   ]
  },
  {
   "cell_type": "code",
   "execution_count": null,
   "id": "c02cc94d",
   "metadata": {},
   "outputs": [],
   "source": [
    "df_age_c = df_new.copy()\n",
    "df_age_c =df_age_c[df_age_c['stroke']==1]\n",
    "df_age_c['age_c'] = pd.cut(df_new['age'], bins=[0,14,24,64,np.inf],labels=['Enfants','Adolescents ','Adultes','Aînés'])\n",
    "\n",
    "df_age_c['age_c']"
   ]
  },
  {
   "cell_type": "code",
   "execution_count": null,
   "id": "80e818f3",
   "metadata": {},
   "outputs": [],
   "source": [
    "state_summary_age=df_age_c.groupby(['age_c','gender']).agg( {\"stroke\": 'count'})\n",
    "\n",
    "state_summary_age"
   ]
  },
  {
   "cell_type": "markdown",
   "id": "460e7062",
   "metadata": {},
   "source": [
    "<div class= \"alert alert-block alert-info\">\n",
    "Hypoglycémie : Inférieur à 70g/dL de sang </br>\n",
    "Le taux normal de la glycémie à jeun oscille entre 70 mg/dL et 100 g/dL </br>\n",
    "Hyperglycémie modérée : Entre 1 et 1.25g/L </br>\n",
    "Au dessus de 126mg à jeune la personne est considéré comme diablétique </br></br>\n",
    "Les données sont donc divisées en 4 quantile 0:70  < 70:100 < 100:125 < 125: </br>\n",
    "</div>"
   ]
  },
  {
   "cell_type": "code",
   "execution_count": null,
   "id": "2a7ac721",
   "metadata": {
    "tags": []
   },
   "outputs": [],
   "source": [
    "state_summary=df_avg_gluc_c.groupby(['avg_glucose_level_classes','gender']).agg( {\"gender\": 'count'})\n",
    "state_summary\n",
    "\n",
    "#nb_gender=df.groupby(['gender']).agg( {\"gender\": 'count'})\n",
    "#nb_gender\n",
    "#Etude des crises cardiaques qui dépend de sa tranche de son taux de glucose\n",
    "\n",
    "#60% Femme 40%Homme"
   ]
  },
  {
   "cell_type": "markdown",
   "id": "eee445a1",
   "metadata": {},
   "source": [
    "<div class= \"alert alert-block alert-info\">\n",
    "Répartition équilibré des taux de glucose sachant qu'il y 800 femmes de plus </br>\n",
    "\n",
    "</div>"
   ]
  },
  {
   "cell_type": "code",
   "execution_count": null,
   "id": "4d85783b",
   "metadata": {
    "tags": []
   },
   "outputs": [],
   "source": [
    "df_avg_gluc_c = df_new.copy()\n",
    "df_avg_gluc_c =df_avg_gluc_c[df_avg_gluc_c['stroke']==1]\n",
    "df_avg_gluc_c['avg_glucose_level_classes'] = pd.cut(df_new['avg_glucose_level'], bins=[0,70,100,125,np.inf],labels=['Hypoglycémie','Taux normal','Hyperglycémie modérée','Diablétique'])\n",
    "\n",
    "df_avg_gluc_c\n"
   ]
  },
  {
   "cell_type": "markdown",
   "id": "a4a37cd7",
   "metadata": {},
   "source": [
    "<div class= \"alert alert-block alert-info\">\n",
    "Le type d'habitation n'influence pas le taux de glucose dans le sang </br>\n",
    "\n",
    "</div>"
   ]
  },
  {
   "cell_type": "code",
   "execution_count": null,
   "id": "62a88a5a",
   "metadata": {
    "scrolled": true,
    "tags": []
   },
   "outputs": [],
   "source": [
    "\n",
    "\n",
    "\n",
    "state_summary=df_avg_gluc_c.groupby(['avg_glucose_level_classes','g_Male']).agg( {\"stroke\": 'count'})\n",
    "state_summary\n",
    "\n",
    "\n"
   ]
  },
  {
   "cell_type": "markdown",
   "id": "2bbdd33b",
   "metadata": {},
   "source": [
    "<div class= \"alert alert-block alert-info\">\n",
    "Moins de crise cardiaque sur les cas en Hypoglycemie et sur ceux en Hyperglycémie modérée</br>\n",
    "\n",
    "</div>\n",
    "\n"
   ]
  },
  {
   "cell_type": "code",
   "execution_count": null,
   "id": "5c25b5a7",
   "metadata": {
    "tags": []
   },
   "outputs": [],
   "source": [
    "# Analyse de la variable avg_glucose_level\n",
    "\n",
    "#Séparation de la variable\n",
    "avg_glucose_level_studies=df_new[[\"avg_glucose_level\"]]\n",
    "\n",
    "#Calcul de la moyenne de la variable\n",
    "stats=pd.DataFrame(avg_glucose_level_studies.mean(), columns=['moyenne'])\n",
    "stats.round(2)\n",
    "\n",
    "#Calcul de la median de la variable\n",
    "stats['median']=avg_glucose_level_studies.median()\n",
    "\n",
    "#Calcul de la différence entre la moyenne et la median de la variable\n",
    "stats['mean_med_diff'] = abs(stats['moyenne'] - stats['median'])\n",
    "stats.round(2)\n",
    "\n",
    "#Calcul du quantile de la variable\n",
    "quantile=avg_glucose_level_studies[\"avg_glucose_level\"].quantile(q = [0.25,0.5,0.75])\n",
    "quantile\n",
    "\n",
    "stats[['q1', 'q2', 'q3']] = avg_glucose_level_studies.quantile(q=[0.25, 0.5, 0.75]).transpose()\n",
    "\n",
    "#Calcul du max et minimum et de la différence de la variable\n",
    "stats['min'] = avg_glucose_level_studies.min()\n",
    "stats['max'] = avg_glucose_level_studies.max()\n",
    "stats['min_max_diff'] = stats['max'] - stats['min']\n",
    "\n",
    "stats"
   ]
  },
  {
   "cell_type": "markdown",
   "id": "0047bb22",
   "metadata": {},
   "source": [
    "<a class=\"anchor\" name=\"3.1\"></a>\n",
    "## 3.1 Liaisons entre les variables"
   ]
  },
  {
   "cell_type": "code",
   "execution_count": null,
   "id": "d8a0c89c",
   "metadata": {
    "tags": []
   },
   "outputs": [],
   "source": [
    "df_new.head()"
   ]
  },
  {
   "cell_type": "markdown",
   "id": "4fa48802",
   "metadata": {},
   "source": [
    "## 3.1 Analyse des liaisons entre les variables continues"
   ]
  },
  {
   "cell_type": "code",
   "execution_count": null,
   "id": "0a110db4",
   "metadata": {
    "tags": []
   },
   "outputs": [],
   "source": [
    "\n",
    "\n",
    "\n",
    "dfnum=df_new[['age','avg_glucose_level','bmi']]\n",
    "dfnum.corr()\n",
    "\n",
    "\n"
   ]
  },
  {
   "cell_type": "markdown",
   "id": "980f67ce",
   "metadata": {},
   "source": [
    "<div class= \"alert alert-block alert-info\">\n",
    "    Compte-tenu des coefficients de corrélation plus proche de 0 que de 1, les variables semblent peu corrélées entre elles. \n",
    "</div>"
   ]
  },
  {
   "cell_type": "code",
   "execution_count": null,
   "id": "22371516",
   "metadata": {
    "tags": []
   },
   "outputs": [],
   "source": [
    "\n",
    "# la fonction corr() permet de récupérer les coefficients de corélation entre les variables,\n",
    "# La p-value permet de dire si les variables sont indépendantes alors que le coef de corrélation permet de dire à quel point\n",
    "# elles sont corrélées positivement ou négativement.\n",
    "\n",
    "print(pd.DataFrame(pearsonr(df_new['age'], df_new['avg_glucose_level']), index=['pearson_coeff','p-value'], columns=['age/avg_glucose_level']))\n",
    "print(pd.DataFrame(pearsonr(df_new['age'], df_new['bmi']), index=['pearson_coeff','p-value'], columns=['age/bmi']))\n",
    "print(pd.DataFrame(pearsonr(df_new['avg_glucose_level'], df_new['bmi']), index=['pearson_coeff','p-value'], columns=['avg_glucose_level/bmi']))"
   ]
  },
  {
   "cell_type": "code",
   "execution_count": null,
   "id": "a687b766-840b-46fb-a52d-ea02b871bcac",
   "metadata": {},
   "outputs": [],
   "source": [
    "corr = df_new.corr()\n",
    "corr.style.background_gradient(cmap=\"coolwarm\").format(precision=2)\n"
   ]
  },
  {
   "cell_type": "markdown",
   "id": "06999626",
   "metadata": {},
   "source": [
    "<div class= \"alert alert-block alert-info\">\n",
    "\n",
    "La variable qui a la corrélation la plus forte avec la crise cardiaque est l'âge, celle qui a le moins de corrélation contrairement à ce que l'on pourrait supposer est le bmi\n",
    "\n",
    "</div>"
   ]
  },
  {
   "cell_type": "code",
   "execution_count": null,
   "id": "ac7cb8b5-3660-45f7-8c06-f518ac405f51",
   "metadata": {},
   "outputs": [],
   "source": [
    "df_plot = df_new[[\"stroke\",\"bmi\"]]"
   ]
  },
  {
   "cell_type": "code",
   "execution_count": null,
   "id": "c770525f-8365-4c33-a399-5cedbb1cbd85",
   "metadata": {},
   "outputs": [],
   "source": [
    "df_plot[\"q\"] = pd.qcut(df_plot[\"bmi\"], q=4).cat.codes"
   ]
  },
  {
   "cell_type": "code",
   "execution_count": null,
   "id": "14e32bd8-ecf8-4d08-874a-56b124a52d85",
   "metadata": {},
   "outputs": [],
   "source": [
    "df_plot = df_plot.drop(columns=\"bmi\")"
   ]
  },
  {
   "cell_type": "code",
   "execution_count": null,
   "id": "645e7415-7d46-4ccb-ad10-13f6881b6795",
   "metadata": {},
   "outputs": [],
   "source": [
    "df_plot = df_plot.groupby([\"q\", \"stroke\"]).size().reset_index(name='counts')"
   ]
  },
  {
   "cell_type": "code",
   "execution_count": null,
   "id": "e118b62e-ec0f-42f5-b9e6-e69106bd6e1c",
   "metadata": {},
   "outputs": [],
   "source": [
    "#Découper les BMI par groupe de \"obésité\" vs \"sain\"\n",
    "\n",
    "labels = df_plot[\"q\"].unique().tolist()\n",
    "labels = [\"q\"+str(i) for i in labels]\n",
    "#labels = 'q'.join(str(labels) for n in labels)\n",
    "stroke = df_plot[\"counts\"].loc[df_plot[\"stroke\"]==1].tolist()\n",
    "no_stroke = df_plot[\"counts\"].loc[df_plot[\"stroke\"]==0].tolist()\n",
    "\n",
    "width = 0.35\n",
    "\n",
    "fig, ax = plt.subplots()\n",
    "\n",
    "ax.bar(labels, no_stroke, width, label = \"no_Stroke\")\n",
    "ax.bar(labels, stroke, width, bottom = no_stroke, label = \"Stroke\")\n",
    "\n",
    "ax.set_ylabel(\"nb\")\n",
    "ax.set_xlabel(\"Groupe BMI\")\n",
    "ax.legend()\n",
    "\n",
    "plt.show()"
   ]
  },
  {
   "cell_type": "markdown",
   "id": "080067a9-56ed-4885-b98f-25e624ee71f0",
   "metadata": {},
   "source": [
    "<div class= \"alert alert-block alert-info\">\n",
    "Le fait d'être dans une tranche de bmi élevée n'augmente que de peu le risque d'avoir une crise cardiaque.\n",
    "</div>"
   ]
  },
  {
   "cell_type": "markdown",
   "id": "c7d784af",
   "metadata": {},
   "source": [
    "<a class=\"anchor\" name=\"3.2\"></a>\n",
    "## 3.2 Analyse des liaisons entre les variables catégorielles"
   ]
  },
  {
   "cell_type": "code",
   "execution_count": null,
   "id": "6c35ed36",
   "metadata": {
    "tags": []
   },
   "outputs": [],
   "source": [
    "dfcat=df_new[['gender','hypertension','heart_disease','ever_married','work_type','Residence_type','smoking_status','stroke']]\n",
    "\n",
    "\n",
    "table = pd.crosstab(dfcat['work_type'],dfcat['smoking_status'])\n",
    "\n",
    "resultats_test = chi2_contingency(table)\n",
    "statistique = resultats_test[0]\n",
    "p_valeur = resultats_test[1]\n",
    "degre_liberte = resultats_test[2]\n",
    "la_liste = resultats_test[3]\n",
    "print(\"- Statistique : \", statistique, \"\\n- P-value : \", p_valeur, \"\\n- Degré de liberté : \",degre_liberte)\n",
    "\n",
    "table"
   ]
  },
  {
   "cell_type": "markdown",
   "id": "0dd99b74",
   "metadata": {},
   "source": [
    "<div class= \"alert alert-block alert-info\">\n",
    "    P-Value < 5% donc on rejette H0, les variables work_type et Smoking_status sont dépendantes \n",
    "</div>"
   ]
  },
  {
   "cell_type": "code",
   "execution_count": null,
   "id": "cad102f2",
   "metadata": {
    "tags": []
   },
   "outputs": [],
   "source": [
    "def V_cramer(cont_table, N):\n",
    "    k = cont_table.shape[0]\n",
    "    r = cont_table.shape[1]\n",
    "    k_tilde = k - (k-1)**2/(N-1)\n",
    "    r_tilde = r - (r-1)**2/(N-1)\n",
    "    num = max(0, statistique/N-((k-1)*(r-1))/(N-1))\n",
    "    denom = min(k_tilde-1, r_tilde-1)\n",
    "    v_cramer=np.sqrt(num/denom)\n",
    "    return v_cramer\n",
    "\n",
    "print(\"- V_Cramer : \", V_cramer(table, df_new.shape[0]))\n"
   ]
  },
  {
   "cell_type": "markdown",
   "id": "d12a59cd",
   "metadata": {},
   "source": [
    "<div class= \"alert alert-block alert-info\">\n",
    "    Le V_Cramer n'est pas très élevé (plus proche de 0 que de 1), les variables work_type et Smoking_status ne sont pas très corrélées sans que ce soit négligeable.\n",
    "</div>"
   ]
  },
  {
   "cell_type": "code",
   "execution_count": null,
   "id": "afdd63ee",
   "metadata": {
    "tags": []
   },
   "outputs": [],
   "source": [
    "# Ajout Nathalie : Liaison entre heart_disease et stroke\n",
    "table = pd.crosstab(dfcat['heart_disease'],dfcat['stroke'])\n",
    "resultats_test = chi2_contingency(table)\n",
    "statistique = resultats_test[0]\n",
    "p_valeur = resultats_test[1]\n",
    "degre_liberte = resultats_test[2]\n",
    "la_liste = resultats_test[3]\n",
    "print(\"- Statistique : \", statistique, \"\\n- P-value : \", p_valeur, \"\\n- Degré de liberté : \",degre_liberte)\n",
    "\n",
    "print(\"- V_Cramer : \", V_cramer(table, df.shape[0]))"
   ]
  },
  {
   "cell_type": "markdown",
   "id": "2540027e",
   "metadata": {},
   "source": [
    "<div class= \"alert alert-block alert-info\">\n",
    "    P-Value < 5% donc on rejette H0, les variables heart_disease et stroke sont dépendantes.</br>\n",
    "    Le V_Cramer n'est pas très élevé (plus proche de 0 que de 1), les variables heart_disease et stroke ne sont pas très corrélées sans que ce soit négligeable.\n",
    "</div>"
   ]
  },
  {
   "cell_type": "code",
   "execution_count": null,
   "id": "94090961",
   "metadata": {
    "tags": []
   },
   "outputs": [],
   "source": [
    "#https://medium.com/@knoldus/how-to-find-correlation-value-of-categorical-variables-23de7e7a9e26\n",
    "\n",
    "categorical_features=identify_nominal_columns(df)\n",
    "categorical_features\n",
    "['gender','hypertension','heart_disease','ever_married','work_type','Residence_type','smoking_status','stroke']\n",
    "\n",
    "\n",
    "\n",
    "complete_correlation= associations(df_new, filename= 'complete_correlation.png', figsize=(10,10))\n",
    "\n",
    "\n",
    "df_complete_corr=complete_correlation['corr']\n",
    "df_complete_corr.dropna(axis=1, how='all').dropna(axis=0, how='all').style.background_gradient(cmap='coolwarm', axis=None).set_precision(2)\n",
    "\n",
    "\n",
    "\n",
    "categorical_correlation= associations(dfcat, filename= 'categorical_correlation.png', figsize=(10,10))"
   ]
  },
  {
   "cell_type": "markdown",
   "id": "c7c36442",
   "metadata": {},
   "source": [
    "<a class=\"anchor\" name=\"3.3\"></a>\n",
    "## 3.3 Liaison entre variables quantitatives et qualitatives"
   ]
  },
  {
   "cell_type": "code",
   "execution_count": null,
   "id": "03974b94",
   "metadata": {
    "tags": []
   },
   "outputs": [],
   "source": [
    "# Analyse de l'influence de age sur stroke\n",
    "result = statsmodels.formula.api.ols('stroke ~ age', data=df).fit()\n",
    "table = statsmodels.api.stats.anova_lm(result)\n",
    "\n",
    "table"
   ]
  },
  {
   "cell_type": "markdown",
   "id": "15392bc2",
   "metadata": {},
   "source": [
    "<div class= \"alert alert-block alert-info\">\n",
    "    La p-value (PR(>F)) est inférieur à 5% donc on rejette l'hypothèse selon laquelle l'âge n'influe pas sur stroke.\n",
    "</div>"
   ]
  },
  {
   "cell_type": "markdown",
   "id": "ac3df489",
   "metadata": {},
   "source": [
    "## Festival de graphique"
   ]
  },
  {
   "cell_type": "code",
   "execution_count": null,
   "id": "b6b9e199",
   "metadata": {
    "tags": []
   },
   "outputs": [],
   "source": [
    "N1 = len(df_new[df_new['stroke']==0])\n",
    "N2 = len(df_new[df_new['stroke'] == 1])\n",
    "\n",
    "\n",
    "plt.bar([1],[N1], color = ['green'], width =  [0.6,0.5])\n",
    "plt.bar([2],[N2], color = ['red'], width =  [0.6,0.5])\n",
    "\n",
    "plt.xticks([1,2], ['Sans Crises Cardiaque','Crises Cardiaque'])\n",
    "\n",
    "\n",
    "plt.ylabel('Nombre de cas')\n",
    "\n",
    "\n",
    "plt.text(1,N1,N1)\n",
    "plt.text(2,N2,N2)\n",
    "plt.legend();"
   ]
  },
  {
   "cell_type": "code",
   "execution_count": null,
   "id": "fc1b61bb",
   "metadata": {},
   "outputs": [],
   "source": [
    "#N1 = len(state_summary_age[state_summary_age['age_c']=='Enfants'])\n",
    "state_summary_age_c=df_age_c.groupby(['age_c']).agg( {\"stroke\": 'count'})\n",
    "state_summary_age_c\n",
    "\n",
    "\n",
    "\n",
    "N1 = len(df_avg_gluc_c[df_avg_gluc_c['avg_glucose_level_classes']=='Hypoglycémie'])\n",
    "N2 = len(df_avg_gluc_c[df_avg_gluc_c['avg_glucose_level_classes']=='Taux normal'])\n",
    "N3 = len(df_avg_gluc_c[df_avg_gluc_c['avg_glucose_level_classes']=='Hyperglycémie modérée'])\n",
    "N4 = len(df_avg_gluc_c[df_avg_gluc_c['avg_glucose_level_classes']=='Diablétique'])\n",
    "\n",
    "\n",
    "plt.bar([1],[N1], color = ['green'], width =  [5,1])\n",
    "plt.bar([15],[N2], color = ['blue'], width =  [5,1])\n",
    "plt.bar([30],[N3], color = ['orange'], width =  [5,1])\n",
    "plt.bar([45],[N4], color = ['red'], width =  [5,0.2])\n",
    "\n",
    "plt.xticks([1,15,30,45], ['Hypoglycémie','Taux normal','Hyperglycémie modérée','Diablétique'])\n",
    "\n",
    "\n",
    "plt.ylabel('Nombre de cas')\n"
   ]
  },
  {
   "cell_type": "code",
   "execution_count": null,
   "id": "bb804f1f",
   "metadata": {
    "tags": []
   },
   "outputs": [],
   "source": [
    "N1 = len(df_new[df_new['Residence_type']=='Rural'])\n",
    "N2 = len(df_new[df_new['Residence_type'] == 'Urban'])\n",
    "\n",
    "\n",
    "plt.bar([1],[N1], color = ['green'], width =  [0.6,0.5])\n",
    "plt.bar([2],[N2], color = ['grey'], width =  [0.6,0.5])\n",
    "\n",
    "plt.xticks([1,2], ['Rural','Urban'])\n",
    "\n",
    "\n",
    "plt.ylabel('Nombre de cas')\n",
    "\n",
    "\n",
    "plt.text(1,N1,N1)\n",
    "plt.text(2,N2,N2)\n",
    "plt.legend();"
   ]
  },
  {
   "cell_type": "code",
   "execution_count": null,
   "id": "348aa804-fc95-4541-b09b-47bc0b7caefa",
   "metadata": {
    "tags": []
   },
   "outputs": [],
   "source": [
    "df_ca_pos = df_ca[df_ca.stroke==1].groupby(['age_classes']).agg({'stroke' : 'count'})\n",
    "df_ca_pos\n"
   ]
  },
  {
   "cell_type": "code",
   "execution_count": null,
   "id": "e73dfe8a",
   "metadata": {},
   "outputs": [],
   "source": [
    "# Représentation du nombre de cas positifs pour chaque classe d'âge\n",
    "#df_ca_pos.plot(kind='bar', title='Représentation du nombre de cas positifs pour chaque classe d âge', legend=True)\n",
    "#axes.set_xlabel('axe des x');\n",
    "plt.figure(figsize=(8,8))\n",
    "plt.bar(range(4), df_ca_pos.stroke , color = 'green', width = 0.6)\n",
    "plt.xlabel('Classes d âge')\n",
    "plt.ylabel('Nombre de crises cardiaques')\n",
    "plt.xticks(range(4), [\"De 0 à 25 ans\",\"De 26 à 45 ans\",\"De 46 à 61 ans\",\"De 62 à 82 ans\"])\n",
    "plt.title('Représentation du nombre de cas positifs pour chaque classe d âge');"
   ]
  },
  {
   "cell_type": "markdown",
   "id": "9804dd17",
   "metadata": {},
   "source": [
    "<a class=\"anchor\" name=\"4\"></a>\n",
    "# 4.Implémentation des algorithmes de Machine Learning"
   ]
  },
  {
   "cell_type": "markdown",
   "id": "67638e46-ed79-4c90-913d-7d3016ddf91e",
   "metadata": {},
   "source": [
    "## a. Régression Logistique"
   ]
  },
  {
   "cell_type": "code",
   "execution_count": null,
   "id": "6dcff4d2",
   "metadata": {},
   "outputs": [],
   "source": [
    "# Numérisation des variables catégorielle pour les utiliser dans un algo de ML\n",
    "\n",
    "# binarisation des variables catégorielles non hiérarchisées avec plus de 2 valeurs possibles\n",
    "df_rl = pd.get_dummies(df_new, prefix=['g', 'wt', 'ss'], columns=['gender', 'work_type', 'smoking_status'], drop_first=True)\n",
    "df_rl"
   ]
  },
  {
   "cell_type": "code",
   "execution_count": null,
   "id": "78e0e552",
   "metadata": {
    "scrolled": true
   },
   "outputs": [],
   "source": [
    "# Numérisation des variables catégorielles binaires\n",
    "\n",
    "df_rl.ever_married.replace(['Yes','No'], [0, 1], inplace=True)\n",
    "df_rl.Residence_type.replace(['Rural','Urban'], [0, 1], inplace=True)\n",
    "\n",
    "# Séparation des données en variables explicatives et variable cible\n",
    "X = df_rl.drop(\"stroke\", axis=1)\n",
    "y = df_rl.stroke"
   ]
  },
  {
   "cell_type": "code",
   "execution_count": null,
   "id": "1b14da9f",
   "metadata": {},
   "outputs": [],
   "source": [
    "# Standardisation des données\n",
    "# On instancie StandardScaler\n",
    "scaler=StandardScaler()\n",
    "X_scaled_=scaler.fit(X).transform(X)\n",
    "X_scaled=pd.DataFrame(X_scaled_)"
   ]
  },
  {
   "cell_type": "code",
   "execution_count": null,
   "id": "14b9d024",
   "metadata": {},
   "outputs": [],
   "source": [
    "# Séparation des données en jeu de d'entrainement et de test\n",
    "X_train,X_test,y_train,y_test = train_test_split(X_scaled,y,test_size=0.3,random_state=42)\n",
    "df_rl.head()"
   ]
  },
  {
   "cell_type": "code",
   "execution_count": null,
   "id": "2d9b27c6",
   "metadata": {},
   "outputs": [],
   "source": [
    "# sans oversampling\n",
    "# Entraînement du modèle de régression logistique\n",
    "\n",
    "lr = LogisticRegression()\n",
    "lr.fit(X_train, y_train)\n",
    "\n",
    "# Affichage des résultats\n",
    "y_pred = lr.predict(X_test)\n",
    "\n",
    "# Coefficients obtenus\n",
    "coeff=lr.coef_\n",
    "\n",
    "# On crée un dataframe qui combine à la fois variables et coefficients \n",
    "resultats=pd.DataFrame(X.columns, columns=[\"Variables\"])\n",
    "resultats['Coefficients']=coeff[0].tolist()\n",
    "\n",
    "resultats['Odd_Ratios']=np.exp(coeff).tolist()[0]\n",
    "resultats.sort_values(by = 'Odd_Ratios',ascending = False).head(15)"
   ]
  },
  {
   "cell_type": "markdown",
   "id": "12807ae0",
   "metadata": {},
   "source": [
    "<div class= \"alert alert-block alert-info\">\n",
    "L'âge a l'Odd_Ratios le plus élevé : lorsque l'âge augmente de 1, cela augmente d'environ 5,5 fois les chances d'avoir une crise cardiaque.\n",
    "Arrivent ensuite bien loin derrière le niveau de glucose et l'hypertension.\n",
    "Toutes les variables proches de 0 n'ont que très peu d'influence.\n",
    "Pour les variables catégorielles, celle qui semble la plus impactante est le working_status.\n",
    "</div>"
   ]
  },
  {
   "cell_type": "code",
   "execution_count": null,
   "id": "c96ca1a5",
   "metadata": {},
   "outputs": [],
   "source": [
    "\n",
    "# Evaluation du modèle avec les métriques\n",
    "print(\"Accuracy : \", accuracy_score(y_test, y_pred))\n",
    "print(\"Balanced Accuracy : \", balanced_accuracy_score(y_test, y_pred))\n",
    "confusion_matrix(y_test, y_pred)"
   ]
  },
  {
   "cell_type": "markdown",
   "id": "dea5276a",
   "metadata": {},
   "source": [
    "<div class= \"alert alert-block alert-info\">\n",
    "L'accuracy est excellente mais la Balanced accuracy est moins bonne, le déséquilibre des classes influence donc les performances du modèle pour trouver les cas positifs, il est nécessaire de faire de l'oversampling.\n",
    "</div>"
   ]
  },
  {
   "cell_type": "code",
   "execution_count": null,
   "id": "35d00961",
   "metadata": {},
   "outputs": [],
   "source": [
    "# Sur-échantillonnage\n",
    "rOs = RandomOverSampler(sampling_strategy='minority')\n",
    "X_ro, y_ro = rOs.fit_resample(X_train, y_train)\n",
    "X_ro.shape\n",
    "y_ro.value_counts()"
   ]
  },
  {
   "cell_type": "code",
   "execution_count": null,
   "id": "d2d0acf0",
   "metadata": {},
   "outputs": [],
   "source": [
    "# Régression Logistique\n",
    "warnings.filterwarnings('ignore')\n",
    "\n",
    "# Détermination des hyperparamètres du modèle les plus optimum \n",
    "parameters = {\n",
    "    'penalty' : ['l1','l2'], # l1 lasso l2 ridge\n",
    "    'C'       : np.logspace(-3,3,7),\n",
    "    'solver'  : ['newton-cg', 'lbfgs', 'liblinear'],\n",
    "}\n",
    "\n",
    "logreg=LogisticRegression()\n",
    "lr1 = GridSearchCV(logreg, param_grid = parameters, scoring='accuracy',cv=7)\n",
    "\n",
    "# Entraînement du modèle de régression logistique\n",
    "lr1.fit(X_ro, y_ro)\n",
    "\n",
    "print(\"tuned hyperparameters :(best parameters) \",lr1.best_params_)\n",
    "print(\"accuracy :\",lr1.best_score_)\n",
    "\n",
    "warnings.filterwarnings('default')"
   ]
  },
  {
   "cell_type": "code",
   "execution_count": null,
   "id": "5cc43ae7",
   "metadata": {},
   "outputs": [],
   "source": [
    "# Affichage des résultats\n",
    "y_pred = lr1.predict(X_test)\n",
    "\n",
    "# Evaluation du modèle avec les métriques\n",
    "#print(classification_report_imbalanced(y_test, y_pred))\n",
    "print(classification_report(y_test, y_pred))\n",
    "\n",
    "print(\"Accuracy : \", accuracy_score(y_test, y_pred))\n",
    "print(\"Balanced Accuracy : \", balanced_accuracy_score(y_test, y_pred))\n",
    "confusion_matrix(y_test, y_pred)"
   ]
  },
  {
   "cell_type": "markdown",
   "id": "7209338f",
   "metadata": {},
   "source": [
    "<div class= \"alert alert-block alert-info\">\n",
    "L'accuracy est moins bonne que dans le premier test mais la Balanced accuracy est meilleure, on obtient une qualité de prévision plus équilibrée entre les 2 classes.\n",
    "</div>"
   ]
  },
  {
   "cell_type": "markdown",
   "id": "244045b2-ca1f-4147-a7a1-93f2df18053e",
   "metadata": {},
   "source": [
    "### b. SVC"
   ]
  },
  {
   "cell_type": "code",
   "execution_count": null,
   "id": "c681d3b8",
   "metadata": {},
   "outputs": [],
   "source": [
    "from sklearn.pipeline import Pipeline\n",
    "SVCpipe = Pipeline([('scale', StandardScaler()),\n",
    "                   ('SVC',LinearSVC())])\n",
    "\n",
    "# Gridsearch to determine the value of C\n",
    "param_grid = {'SVC__C':np.arange(0.01,100,10)}\n",
    "linearSVC = GridSearchCV(SVCpipe,param_grid,cv=5,return_train_score=True)\n",
    "\n",
    "\n",
    "linearSVC.fit(X_ro, y_ro)\n",
    "print(linearSVC.best_params_)\n",
    "\n",
    "score = linearSVC.score(X_ro, y_ro)\n",
    "print(\"Score: \", score)\n",
    "\n",
    "#cv_scores = cross_val_score(linearSVC, X_ro, y_ro, cv=10)\n",
    "#print(\"CV average score: %.2f\" % cv_scores.mean())\n",
    "\n",
    "\n"
   ]
  },
  {
   "cell_type": "code",
   "execution_count": null,
   "id": "31219966",
   "metadata": {},
   "outputs": [],
   "source": [
    "ypred = linearSVC.predict(X_ro)\n",
    "\n",
    "cm = confusion_matrix(y_ro, ypred)\n",
    "print(cm)"
   ]
  },
  {
   "cell_type": "code",
   "execution_count": null,
   "id": "073e92fc",
   "metadata": {},
   "outputs": [],
   "source": [
    "cr = classification_report(y_ro, ypred)\n",
    "print(cr)"
   ]
  },
  {
   "cell_type": "markdown",
   "id": "b1f9517c-dbcd-423e-b25e-60d32b07cefa",
   "metadata": {},
   "source": [
    "### c. PCA"
   ]
  },
  {
   "cell_type": "code",
   "execution_count": null,
   "id": "b7877fde-c216-4ad3-9eba-c9cf5b3d3bd8",
   "metadata": {},
   "outputs": [],
   "source": [
    "X"
   ]
  },
  {
   "cell_type": "code",
   "execution_count": null,
   "id": "e0b5e93b-112b-47f0-8a7e-d2bcd81a5431",
   "metadata": {},
   "outputs": [],
   "source": [
    "X = df_new.drop(columns=[\"stroke\",\"gender\",\"ever_married\",\"work_type\",\"Residence_type\",\"smoking_status\"])\n",
    "y = df_new[\"stroke\"]\n",
    "\n",
    "scaler = StandardScaler()\n",
    "X_scaled_ = scaler.fit(X).transform(X)\n",
    "X_scaled = pd.DataFrame(scaler.fit(X).transform(X))\n",
    "\n",
    "\n",
    "liste = []\n",
    "\n",
    "for i in range(1,6):\n",
    "    pca = PCA(n_components=i)\n",
    "    pca.fit(scaler.fit(X).transform(X))\n",
    "    liste.append(sum(pca.explained_variance_ratio_))\n",
    "\n",
    "fig,ax = plt.subplots(dpi=150)\n",
    "\n",
    "ax.yaxis.set_ticks_position(\"left\")\n",
    "ax.xaxis.set_ticks_position(\"bottom\")\n",
    "\n",
    "plt.plot(np.arange(1,6),liste)\n",
    "plt.xticks(np.arange(1,6, step=1))\n",
    "\n",
    "plt.xlabel(\"Nombre de dimensions\")\n",
    "plt.ylabel(\"Somme des variances expliquées\")\n",
    "\n",
    "plt.show();"
   ]
  },
  {
   "cell_type": "markdown",
   "id": "4a99cb9a-6733-4fc8-9887-5140deede85f",
   "metadata": {},
   "source": [
    "<div class= \"alert alert-block alert-info\">\n",
    "On choisit 4 dimensions (~90% des variances expliquées par 4 dimensions)\n",
    "</div>"
   ]
  },
  {
   "cell_type": "code",
   "execution_count": null,
   "id": "4fdb6fc1-93b7-4437-986f-83a50431cb8f",
   "metadata": {},
   "outputs": [],
   "source": [
    "pca = PCA(n_components=4)\n",
    "X_scaled_pca = pca.fit_transform(X_scaled)"
   ]
  },
  {
   "cell_type": "code",
   "execution_count": null,
   "id": "f03b8fd7-dc15-4c19-aa4f-1a891cb3afea",
   "metadata": {},
   "outputs": [],
   "source": [
    "print(\" Nombre de dimensions:\",pca.n_components_,\n",
    "      \"\\n \\n Pourcentage de variance expliquée par chaque dimension:\\n \\n Dimension 1:\",\n",
    "      pca.explained_variance_ratio_[0],\n",
    "      \"\\n Dimension 2:\" ,pca.explained_variance_ratio_[1],\n",
    "     \"\\n Dimension 3:\" ,pca.explained_variance_ratio_[2],\n",
    "     \"\\n Dimension 4:\" ,pca.explained_variance_ratio_[3])\n",
    "\n",
    "\n",
    "# On affiche l'influence de chaque variable dans chaque dimension. \n",
    "print(\"\\nInfluence des variables pour chaque dimension: \\n \\n  \",pd.DataFrame(pca.components_,index=[\"PC1\",\"PC2\",\"PC3\",\"PC4\"],columns=X.columns))"
   ]
  },
  {
   "cell_type": "markdown",
   "id": "850d5955-08da-4060-b621-b7666f06f510",
   "metadata": {},
   "source": [
    "<div class= \"alert alert-block alert-info\">\n",
    "1ère dimension : Ce sont l'âge l'hypertension, le niveau de glucose et l'IMC qui ont le + d'importance\n",
    "2ème dimension : C'est principalement l'IMC qui a le plus d'importance\n",
    "3ème dimension : L'hypertension est la variable ayant le plus d'importance\n",
    "4ème dimension : Ici c'est le niveau de glucose moyen qui a le plus d'importance\n",
    "</div>"
   ]
  }
 ],
 "metadata": {
  "kernelspec": {
   "display_name": "Python 3 (ipykernel)",
   "language": "python",
   "name": "python3"
  },
  "language_info": {
   "codemirror_mode": {
    "name": "ipython",
    "version": 3
   },
   "file_extension": ".py",
   "mimetype": "text/x-python",
   "name": "python",
   "nbconvert_exporter": "python",
   "pygments_lexer": "ipython3",
   "version": "3.9.7"
  }
 },
 "nbformat": 4,
 "nbformat_minor": 5
}
