{
 "cells": [
  {
   "cell_type": "code",
   "execution_count": 22,
   "metadata": {},
   "outputs": [],
   "source": [
    "from os.path import exists\n",
    "from datetime import date\n",
    "\n",
    "def is_csv_here(filename):\n",
    "    file_exists = exists(filename)\n",
    "    test_date = date.today()\n",
    "    if file_exists == True:\n",
    "        test_status = \"SUCCESS\"\n",
    "    else:\n",
    "        test_status = \"FAILURE\"\n",
    "\n",
    "    output = '''\n",
    "        =================================\n",
    "            CHECK IF CSV IS AVAILABLE\n",
    "        =================================\n",
    "        test date = {test_date}\n",
    "        tested file = {filename}\n",
    "\n",
    "        expected result = True\n",
    "        actual restult = {file_exists}\n",
    "\n",
    "        ==>  {test_status}\n",
    "\n",
    "        '''\n",
    "    print(output.format(filename=filename, file_exists=file_exists, test_status=test_status, test_date=test_date))\n",
    "    #Impression dans le fichier de log\n",
    "    if exists(\"api_test.log\") == True:\n",
    "        with open(\"api_test.log\",'a')as file:\n",
    "            file.write(output.format(\n",
    "                filename=filename, \n",
    "                file_exists=file_exists, \n",
    "                test_status=test_status,\n",
    "                test_date=test_date\n",
    "            ))"
   ]
  },
  {
   "cell_type": "code",
   "execution_count": 23,
   "metadata": {},
   "outputs": [
    {
     "name": "stdout",
     "output_type": "stream",
     "text": [
      "\n",
      "        =================================\n",
      "            CHECK IF CSV IS AVAILABLE\n",
      "        =================================\n",
      "        test date = 2022-07-29\n",
      "        tested file = stroke_clean.csv\n",
      "\n",
      "        expected result = True\n",
      "        actual restult = True\n",
      "\n",
      "        ==>  SUCCESS\n",
      "\n",
      "        \n"
     ]
    }
   ],
   "source": [
    "is_csv_here(\"stroke_clean.csv\")"
   ]
  },
  {
   "cell_type": "code",
   "execution_count": null,
   "metadata": {},
   "outputs": [],
   "source": []
  }
 ],
 "metadata": {
  "kernelspec": {
   "display_name": "Python 3.8.10 64-bit",
   "language": "python",
   "name": "python3"
  },
  "language_info": {
   "codemirror_mode": {
    "name": "ipython",
    "version": 3
   },
   "file_extension": ".py",
   "mimetype": "text/x-python",
   "name": "python",
   "nbconvert_exporter": "python",
   "pygments_lexer": "ipython3",
   "version": "3.8.10"
  },
  "orig_nbformat": 4,
  "vscode": {
   "interpreter": {
    "hash": "31f2aee4e71d21fbe5cf8b01ff0e069b9275f58929596ceb00d14d90e3e16cd6"
   }
  }
 },
 "nbformat": 4,
 "nbformat_minor": 2
}
