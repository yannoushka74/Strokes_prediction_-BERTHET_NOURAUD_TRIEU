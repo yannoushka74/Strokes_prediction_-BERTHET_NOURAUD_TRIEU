{
 "cells": [
  {
   "cell_type": "code",
   "execution_count": null,
   "id": "4e234ebe",
   "metadata": {},
   "outputs": [],
   "source": [
    "Chargement des données\n",
    "\n",
    "Chargement du jeu de donnée\n",
    "\n",
    "​\n",
    "\n",
    "Aucun ID en doublon\n",
    "\n",
    "import numpy as np \n",
    "\n",
    "import pandas as pd\n",
    "\n",
    "​\n",
    "\n",
    "df=pd.read_csv('strokes.csv')\n",
    "\n",
    "​\n",
    "\n",
    "​\n",
    "\n",
    "df.head()\n",
    "\n",
    "​\n",
    "\n",
    "print(df['id'].duplicated().sum())\n",
    "\n",
    "​\n",
    "\n",
    "#0 doublon d'ID\n",
    "\n",
    "​\n",
    "\n",
    "​\n",
    "\n",
    "0\n",
    "0\n",
    "\n",
    "#Collonne affectée Stroke, residence_type, avg_glucose_level\n",
    "\n"
   ]
  }
 ],
 "metadata": {
  "kernelspec": {
   "display_name": "Python 3 (ipykernel)",
   "language": "python",
   "name": "python3"
  },
  "language_info": {
   "codemirror_mode": {
    "name": "ipython",
    "version": 3
   },
   "file_extension": ".py",
   "mimetype": "text/x-python",
   "name": "python",
   "nbconvert_exporter": "python",
   "pygments_lexer": "ipython3",
   "version": "3.9.7"
  }
 },
 "nbformat": 4,
 "nbformat_minor": 5
}
